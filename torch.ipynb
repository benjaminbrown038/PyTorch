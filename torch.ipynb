{
  "cells": [
    {
      "cell_type": "markdown",
      "metadata": {
        "id": "view-in-github",
        "colab_type": "text"
      },
      "source": [
        "<a href=\"https://colab.research.google.com/github/benjaminbrown038/torch/blob/main/torch.ipynb\" target=\"_parent\"><img src=\"https://colab.research.google.com/assets/colab-badge.svg\" alt=\"Open In Colab\"/></a>"
      ]
    },
    {
      "cell_type": "code",
      "execution_count": 47,
      "id": "b9135f27",
      "metadata": {
        "id": "b9135f27"
      },
      "outputs": [],
      "source": [
        "import torch\n",
        "\n",
        "from torch.nn import functional\n",
        "from torch.nn import Sequential, Conv2d, MaxPool2d, Dropout, Flatten, Linear, Softmax, CrossEntropyLoss\n",
        "from torch.optim import SGD, Adam\n",
        "from torch import optim\n",
        "from torch.utils.data import DataLoader\n",
        "from torch.optim import SGD\n",
        "\n",
        "\n",
        "import torchvision\n",
        "\n",
        "from torchvision import models\n",
        "from torchvision import transforms\n",
        "from torchvision.models import resnet50, alexnet, alexnet, inception_v3\n",
        "from torch.nn import Sequential\n",
        "\n",
        "from torchsummary import summary\n",
        "\n",
        "import matplotlib.pyplot as plt\n",
        "import numpy\n",
        "import os\n",
        "import cv2"
      ]
    },
    {
      "cell_type": "code",
      "source": [
        "%%capture\n",
        "\n",
        "mnist_train = torchvision.datasets.MNIST(root = '/data', download = True,train = True,transform = transforms.ToTensor())\n",
        "mnist_test = torchvision.datasets.MNIST(root = '/data', download = True, train = False, transform = transforms.ToTensor())\n",
        "\n",
        "mnist_train_dataloader = DataLoader(mnist_train,batch_size = 64,shuffle = True)\n",
        "mnist_test_dataloader = DataLoader(mnist_test,batch_size = 64, shuffle = True)\n",
        "\n",
        "\n",
        "cifar_train = torchvision.datasets.MNIST(root = '/data', download = True, train = True)\n",
        "cifar_test = torchvision.datasets.MNIST(root = '/data',download = True, train = False)\n",
        "\n",
        "\n",
        "cifar_train_dataloader = DataLoader(mnist_train, batch_size = 64, shuffle = True)\n",
        "cifar_test_dataloader = DataLoader(mnist_test, batch_size = 64, shuffle = True)\n"
      ],
      "metadata": {
        "id": "GfpDwXJl8Efg"
      },
      "id": "GfpDwXJl8Efg",
      "execution_count": 7,
      "outputs": []
    },
    {
      "cell_type": "code",
      "source": [
        "model = Sequential(\n",
        "            Conv2d(1, 32, kernel_size=3),\n",
        "            Conv2d(32, 64, kernel_size=3),\n",
        "            MaxPool2d(2),\n",
        "            Dropout(0.25),\n",
        "            Flatten(),\n",
        "            Linear(9216, 128),\n",
        "            Linear(128, 10),\n",
        "            Softmax())\n",
        "summary(model,(1,28,28))"
      ],
      "metadata": {
        "id": "qDW1OsvBuMkd",
        "outputId": "27de1e03-6892-4e7c-ae79-3fb96e6cf01b",
        "colab": {
          "base_uri": "https://localhost:8080/"
        }
      },
      "id": "qDW1OsvBuMkd",
      "execution_count": 33,
      "outputs": [
        {
          "output_type": "stream",
          "name": "stdout",
          "text": [
            "----------------------------------------------------------------\n",
            "        Layer (type)               Output Shape         Param #\n",
            "================================================================\n",
            "            Conv2d-1           [-1, 32, 26, 26]             320\n",
            "            Conv2d-2           [-1, 64, 24, 24]          18,496\n",
            "         MaxPool2d-3           [-1, 64, 12, 12]               0\n",
            "           Dropout-4           [-1, 64, 12, 12]               0\n",
            "           Flatten-5                 [-1, 9216]               0\n",
            "            Linear-6                  [-1, 128]       1,179,776\n",
            "            Linear-7                   [-1, 10]           1,290\n",
            "           Softmax-8                   [-1, 10]               0\n",
            "================================================================\n",
            "Total params: 1,199,882\n",
            "Trainable params: 1,199,882\n",
            "Non-trainable params: 0\n",
            "----------------------------------------------------------------\n",
            "Input size (MB): 0.00\n",
            "Forward/backward pass size (MB): 0.66\n",
            "Params size (MB): 4.58\n",
            "Estimated Total Size (MB): 5.24\n",
            "----------------------------------------------------------------\n"
          ]
        }
      ]
    },
    {
      "cell_type": "code",
      "source": [
        "model1 = Sequential(\n",
        "\t\tConv2d(1,32,kernel_size = 2),\n",
        "\t\tMaxPool2d(2,2),\n",
        "\t\tConv2d(32,64,kernel_size = 2),\n",
        "\t\tMaxPool2d(2,2),\n",
        "\t\tConv2d(64,128,kernel_size = 2),\n",
        "\t\tDropout(0.25),\n",
        "\t\tMaxPool2d(1,1),\n",
        "\t\tConv2d(128,10,kernel_size = 3),\n",
        "\t\tFlatten(),\n",
        "\t\tLinear(90,10))\n",
        "summary(model1,(1,28,28))"
      ],
      "metadata": {
        "id": "gf5Y8ToBwUbp",
        "outputId": "c2deb824-8e5a-49d6-bc19-480cc5bb6f2e",
        "colab": {
          "base_uri": "https://localhost:8080/"
        }
      },
      "id": "gf5Y8ToBwUbp",
      "execution_count": 48,
      "outputs": [
        {
          "output_type": "stream",
          "name": "stdout",
          "text": [
            "----------------------------------------------------------------\n",
            "        Layer (type)               Output Shape         Param #\n",
            "================================================================\n",
            "            Conv2d-1           [-1, 32, 27, 27]             160\n",
            "         MaxPool2d-2           [-1, 32, 13, 13]               0\n",
            "            Conv2d-3           [-1, 64, 12, 12]           8,256\n",
            "         MaxPool2d-4             [-1, 64, 6, 6]               0\n",
            "            Conv2d-5            [-1, 128, 5, 5]          32,896\n",
            "           Dropout-6            [-1, 128, 5, 5]               0\n",
            "         MaxPool2d-7            [-1, 128, 5, 5]               0\n",
            "            Conv2d-8             [-1, 10, 3, 3]          11,530\n",
            "           Flatten-9                   [-1, 90]               0\n",
            "           Linear-10                   [-1, 10]             910\n",
            "================================================================\n",
            "Total params: 53,752\n",
            "Trainable params: 53,752\n",
            "Non-trainable params: 0\n",
            "----------------------------------------------------------------\n",
            "Input size (MB): 0.00\n",
            "Forward/backward pass size (MB): 0.38\n",
            "Params size (MB): 0.21\n",
            "Estimated Total Size (MB): 0.59\n",
            "----------------------------------------------------------------\n"
          ]
        }
      ]
    },
    {
      "cell_type": "code",
      "source": [
        "model2 = Sequential(\n",
        "\t\tConv2d(1,32,kernel_size = 3),\n",
        "\t\tConv2d(32,64,kernel_size = 3),\n",
        "\t\tMaxPool2d(2),\n",
        "\t\tDropout(0.25),\n",
        "\t  Flatten(),\n",
        "\t\tLinear(9216,128),\n",
        "\t\tLinear(128,10))\n",
        "summary(model2,(1,28,28))"
      ],
      "metadata": {
        "id": "xYNARqlKw40R",
        "outputId": "319f50fc-9065-47b7-a483-af3a89509a68",
        "colab": {
          "base_uri": "https://localhost:8080/"
        }
      },
      "id": "xYNARqlKw40R",
      "execution_count": 39,
      "outputs": [
        {
          "output_type": "stream",
          "name": "stdout",
          "text": [
            "----------------------------------------------------------------\n",
            "        Layer (type)               Output Shape         Param #\n",
            "================================================================\n",
            "            Conv2d-1           [-1, 32, 26, 26]             320\n",
            "            Conv2d-2           [-1, 64, 24, 24]          18,496\n",
            "         MaxPool2d-3           [-1, 64, 12, 12]               0\n",
            "           Dropout-4           [-1, 64, 12, 12]               0\n",
            "           Flatten-5                 [-1, 9216]               0\n",
            "            Linear-6                  [-1, 128]       1,179,776\n",
            "            Linear-7                   [-1, 10]           1,290\n",
            "================================================================\n",
            "Total params: 1,199,882\n",
            "Trainable params: 1,199,882\n",
            "Non-trainable params: 0\n",
            "----------------------------------------------------------------\n",
            "Input size (MB): 0.00\n",
            "Forward/backward pass size (MB): 0.66\n",
            "Params size (MB): 4.58\n",
            "Estimated Total Size (MB): 5.24\n",
            "----------------------------------------------------------------\n"
          ]
        }
      ]
    },
    {
      "cell_type": "code",
      "source": [
        "%%capture\n",
        "pre_trained_one = resnet50(pretrained = True)"
      ],
      "metadata": {
        "id": "OtZLgHAxxTW0"
      },
      "id": "OtZLgHAxxTW0",
      "execution_count": 41,
      "outputs": []
    },
    {
      "cell_type": "code",
      "source": [
        "%%capture\n",
        "pre_trained_two = inception_v3(pretrained=True)"
      ],
      "metadata": {
        "id": "cUp3cWyDxcdk"
      },
      "id": "cUp3cWyDxcdk",
      "execution_count": 42,
      "outputs": []
    },
    {
      "cell_type": "code",
      "source": [
        "%%capture\n",
        "pre_trained_three = alexnet(pretrained = True)"
      ],
      "metadata": {
        "id": "Ecf7l6-bxibz"
      },
      "id": "Ecf7l6-bxibz",
      "execution_count": 43,
      "outputs": []
    },
    {
      "cell_type": "code",
      "source": [
        "def train_loop(dataloader,model,loss_fn,optimizer):\n",
        "\tsize = len(dataloader.dataset)\n",
        "\tfor batch, (x,y) in enumerate(dataloader):\n",
        "\t\tpred = model(x)\n",
        "\t\tloss = loss_fn(pred,y)\n",
        "\t\toptimizer.zero_grad()\n",
        "\t\tloss.backward()\n",
        "\t\toptimizer.step()\n",
        "\t\tif batch % 100 == 0:\n",
        "\t\t\tloss,current = loss.item(), batch*len(x)"
      ],
      "metadata": {
        "id": "0uWkH3WMxkOz"
      },
      "id": "0uWkH3WMxkOz",
      "execution_count": 44,
      "outputs": []
    },
    {
      "cell_type": "code",
      "source": [
        "loss = CrossEntropyLoss()\n",
        "\n",
        "optimizer = optim.SGD(model.parameters(),lr = 0.01,momentum = 0.9)\n",
        "optimizer1 = optim.SGD(model1.parameters(),lr=0.01,momentum = 0.9)\n",
        "optimizer2 = optim.SGD(model2.parameters(), lr =0.01,momentum = 0.9)\n",
        "optimizer3 = optim.SGD(pre_trained_one.parameters(),lr=0.01,momentum = 0.9)\n",
        "optimizer4 = optim.SGD(pre_trained_two.parameters(),lr=0.01,momentum=0.9)\n",
        "optimizer5 = optim.SGD(pre_trained_three.parameters(),lr=0.01,momentum=0.9)"
      ],
      "metadata": {
        "id": "q34UmR31xnZK"
      },
      "id": "q34UmR31xnZK",
      "execution_count": 49,
      "outputs": []
    },
    {
      "cell_type": "code",
      "source": [
        "train_loop(mnist_train_dataloader,model,loss,optimizer)\n"
      ],
      "metadata": {
        "id": "HshYeotcxqRk"
      },
      "id": "HshYeotcxqRk",
      "execution_count": 50,
      "outputs": []
    },
    {
      "cell_type": "code",
      "source": [],
      "metadata": {
        "id": "c2Nx38Otx18b"
      },
      "id": "c2Nx38Otx18b",
      "execution_count": null,
      "outputs": []
    }
  ],
  "metadata": {
    "kernelspec": {
      "display_name": "Python 3 (ipykernel)",
      "language": "python",
      "name": "python3"
    },
    "language_info": {
      "codemirror_mode": {
        "name": "ipython",
        "version": 3
      },
      "file_extension": ".py",
      "mimetype": "text/x-python",
      "name": "python",
      "nbconvert_exporter": "python",
      "pygments_lexer": "ipython3",
      "version": "3.8.9"
    },
    "colab": {
      "provenance": [],
      "include_colab_link": true
    }
  },
  "nbformat": 4,
  "nbformat_minor": 5
}
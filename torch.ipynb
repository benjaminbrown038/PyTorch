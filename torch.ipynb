{
  "cells": [
    {
      "cell_type": "markdown",
      "metadata": {
        "id": "view-in-github",
        "colab_type": "text"
      },
      "source": [
        "<a href=\"https://colab.research.google.com/github/benjaminbrown038/torch/blob/main/torch.ipynb\" target=\"_parent\"><img src=\"https://colab.research.google.com/assets/colab-badge.svg\" alt=\"Open In Colab\"/></a>"
      ]
    },
    {
      "cell_type": "code",
      "execution_count": 19,
      "id": "b9135f27",
      "metadata": {
        "id": "b9135f27"
      },
      "outputs": [],
      "source": [
        "import torch\n",
        "from torch.nn import functional\n",
        "from torch.nn import Sequential, Conv2d, MaxPool2d, Dropout, Flatten, Linear, Softmax, CrossEntropyLoss\n",
        "\n",
        "from torch import optim\n",
        "from torch.optim import SGD, Adam\n",
        "\n",
        "from torch.utils.data import DataLoader\n",
        "\n",
        "\n",
        "import torchvision\n",
        "from torchvision import models, transforms\n",
        "\n",
        "from torchvision.models import resnet50, alexnet, alexnet, inception_v3\n",
        "\n",
        "from torchsummary import summary\n",
        "\n",
        "import matplotlib.pyplot as plt\n",
        "import numpy as np\n",
        "import os\n",
        "import cv2"
      ]
    },
    {
      "cell_type": "code",
      "source": [
        "%%capture\n",
        "\n",
        "mnist_train = torchvision.datasets.MNIST(root = '/data', download = True,train = True,transform = transforms.ToTensor())\n",
        "mnist_test = torchvision.datasets.MNIST(root = '/data', download = True, train = False, transform = transforms.ToTensor())\n",
        "\n",
        "mnist_train_dataloader = DataLoader(mnist_train,batch_size = 64,shuffle = True)\n",
        "mnist_test_dataloader = DataLoader(mnist_test,batch_size = 64, shuffle = True)\n",
        "\n",
        "\n",
        "mnist_train1 = torchvision.datasets.MNIST(root = '/data', download = True,train = True,transform = transforms.Compose([transforms.ToTensor(),transforms.Grayscale(3)]))\n",
        "mnist_test1 = torchvision.datasets.MNIST(root = '/data', download = True, train = False, transform = transforms.Compose([transforms.ToTensor(),transforms.Grayscale(3)]))\n",
        "\n",
        "mnist_train_dataloader1 = DataLoader(mnist_train,batch_size = 64,shuffle = True)\n",
        "mnist_test_dataloader1 = DataLoader(mnist_test,batch_size = 64, shuffle = True)\n",
        "\n",
        "\n",
        "cifar_train = torchvision.datasets.MNIST(root = '/data', download = True, train = True)\n",
        "cifar_test = torchvision.datasets.MNIST(root = '/data',download = True, train = False)\n",
        "\n",
        "\n",
        "cifar_train_dataloader = DataLoader(mnist_train, batch_size = 64, shuffle = True)\n",
        "cifar_test_dataloader = DataLoader(mnist_test, batch_size = 64, shuffle = True)\n"
      ],
      "metadata": {
        "id": "GfpDwXJl8Efg"
      },
      "id": "GfpDwXJl8Efg",
      "execution_count": 2,
      "outputs": []
    },
    {
      "cell_type": "code",
      "source": [
        "print(\"Training set of mnist: \", \"\\n\")\n",
        "print(\"Type of object that holds training data: \")\n",
        "print(type(mnist_train),\"\\n\")\n",
        "print(type(mnist_train[0]))\n",
        "print(\"Length of Tuple in torchvision object: \",\"\\n\",len(mnist_train[0]),\"\\n\")\n",
        "print(\"Image: \")\n",
        "print(type(mnist_train[0][0]), \"\\n\")\n",
        "print(\"Shape of Image: \", \"\\n\", mnist_train[0][0].shape,\"\\n\")\n",
        "print(\"Class: \")\n",
        "print(type(mnist_train[0][1]))\n",
        "print(\"Length of training set: \", len(mnist_train[0][0]), \"\\n\")\n",
        "mnist_train"
      ],
      "metadata": {
        "id": "4yjV7DCVgSmR",
        "outputId": "cdaa448e-e264-47b0-ab21-ad6d38d1dce4",
        "colab": {
          "base_uri": "https://localhost:8080/"
        }
      },
      "id": "4yjV7DCVgSmR",
      "execution_count": 5,
      "outputs": [
        {
          "output_type": "stream",
          "name": "stdout",
          "text": [
            "Training set of mnist:  \n",
            "\n",
            "Type of object that holds training data: \n",
            "<class 'torchvision.datasets.mnist.MNIST'> \n",
            "\n",
            "<class 'tuple'>\n",
            "Length of Tuple in torchvision object:  \n",
            " 2 \n",
            "\n",
            "Image: \n",
            "<class 'torch.Tensor'> \n",
            "\n",
            "Shape of Image:  \n",
            " torch.Size([1, 28, 28]) \n",
            "\n",
            "Class: \n",
            "<class 'int'>\n",
            "Length of training set:  1 \n",
            "\n"
          ]
        },
        {
          "output_type": "execute_result",
          "data": {
            "text/plain": [
              "Dataset MNIST\n",
              "    Number of datapoints: 60000\n",
              "    Root location: /data\n",
              "    Split: Train\n",
              "    StandardTransform\n",
              "Transform: ToTensor()"
            ]
          },
          "metadata": {},
          "execution_count": 5
        }
      ]
    },
    {
      "cell_type": "code",
      "source": [
        "print(\"Testing set of MNIST: \", \"\\n\")\n",
        "print(\"Type of object that holds testing of data: \")\n",
        "print(type(mnist_train),\"\\n\")\n",
        "print(type(mnist_test),\"\\n\")\n",
        "print(type(mnist_test[0]))\n",
        "print(\"Length of Tuple in torchvision object \", \"/\", len(mnist_test[0]),\"\\n\")\n",
        "print(\"Image: \")\n",
        "print(type(mnist_test[0][0]),\"\\n\")\n",
        "print(\"shape of Image\", \"\\n\", mnist_test[0][0].shape,\"\\n\")\n",
        "print(\"Class: \")\n",
        "print(type(mnist_test[0][1]))\n",
        "print(\"Length of training set: \", len(mnist_test[0][0]), \"\\n\")\n",
        "mnist_test"
      ],
      "metadata": {
        "id": "NJpeqdXEgSp5",
        "outputId": "d385996a-ad2e-4ead-fc92-656420f649c1",
        "colab": {
          "base_uri": "https://localhost:8080/"
        }
      },
      "id": "NJpeqdXEgSp5",
      "execution_count": 8,
      "outputs": [
        {
          "output_type": "stream",
          "name": "stdout",
          "text": [
            "Testing set of MNIST:  \n",
            "\n",
            "Type of object that holds testing of data: \n",
            "<class 'torchvision.datasets.mnist.MNIST'> \n",
            "\n",
            "<class 'torchvision.datasets.mnist.MNIST'> \n",
            "\n",
            "<class 'tuple'>\n",
            "Length of Tuple in torchvision object  / 2 \n",
            "\n",
            "Image: \n",
            "<class 'torch.Tensor'> \n",
            "\n",
            "shape of Image \n",
            " torch.Size([1, 28, 28]) \n",
            "\n",
            "Class: \n",
            "<class 'int'>\n",
            "Length of training set:  1 \n",
            "\n"
          ]
        },
        {
          "output_type": "execute_result",
          "data": {
            "text/plain": [
              "Dataset MNIST\n",
              "    Number of datapoints: 10000\n",
              "    Root location: /data\n",
              "    Split: Test\n",
              "    StandardTransform\n",
              "Transform: ToTensor()"
            ]
          },
          "metadata": {},
          "execution_count": 8
        }
      ]
    },
    {
      "cell_type": "code",
      "source": [
        "print(\"Training set of cifar: \", \"\\n\")\n",
        "print(\"Type of object that holds training data: \")\n",
        "print(type(cifar_train),\"\\n\")\n",
        "print(type(cifar_train[0]))\n",
        "print(\"Length of Tuple in torchvision object \", \"\\n\", len(cifar_train[0]),\"\\n\")\n",
        "print(\"Image: \")\n",
        "print(type(cifar_train[0][0]),\"\\n\")\n",
        "print(\"Shape of Image: \", \"\\n\", np.array(cifar_train[0][0]).shape ,\"\\n\")\n",
        "print(\"Class: \")\n",
        "print(type(cifar_train[0][1]))\n",
        "print(\"Length of training set: \", len(np.array(cifar_train[0][0])), \"\\n\")\n",
        "cifar_train"
      ],
      "metadata": {
        "id": "9OAY39KHgStR",
        "outputId": "7880a6b4-f4d3-4436-8084-ed61fa2e8e1c",
        "colab": {
          "base_uri": "https://localhost:8080/"
        }
      },
      "id": "9OAY39KHgStR",
      "execution_count": 21,
      "outputs": [
        {
          "output_type": "stream",
          "name": "stdout",
          "text": [
            "Training set of cifar:  \n",
            "\n",
            "Type of object that holds training data: \n",
            "<class 'torchvision.datasets.mnist.MNIST'> \n",
            "\n",
            "<class 'tuple'>\n",
            "Length of Tuple in torchvision object  \n",
            " 2 \n",
            "\n",
            "Image: \n",
            "<class 'PIL.Image.Image'> \n",
            "\n",
            "Shape of Image:  \n",
            " (28, 28) \n",
            "\n",
            "Class: \n",
            "<class 'int'>\n",
            "Length of training set:  28 \n",
            "\n"
          ]
        },
        {
          "output_type": "execute_result",
          "data": {
            "text/plain": [
              "Dataset MNIST\n",
              "    Number of datapoints: 60000\n",
              "    Root location: /data\n",
              "    Split: Train"
            ]
          },
          "metadata": {},
          "execution_count": 21
        }
      ]
    },
    {
      "cell_type": "code",
      "source": [
        "print(\"Testing set of cifar: \", \"\\n\")\n",
        "print(\"Type of object that holds testing data: \")\n",
        "print(type(cifar_test), \"\\n\")\n",
        "print(type(cifar_test), \"\\n\")\n",
        "print(type(cifar_test[0]), \"\\n\")\n",
        "print(\"Length of Tuple in torchvision object: \", \"\\n\", len(cifar_test[0]), \"\\n\")\n",
        "print(\"Image: \")\n",
        "print(type(cifar_test[0][0]),\"\\n\")\n",
        "print(\"Shape of Image:\", \"\\n\", np.array(cifar_test[0][0]).shape, \"\\n\")\n",
        "print(\"Class: \")\n",
        "print(type(cifar_test[0][1]))\n",
        "print(\"Length of training set: \", len(np.array(cifar_test[0][0])), \"\\n\")\n",
        "cifar_test"
      ],
      "metadata": {
        "id": "UxNakxtyhiUu",
        "outputId": "cd25eb57-9b78-48e2-c71c-a8b6fab3b591",
        "colab": {
          "base_uri": "https://localhost:8080/"
        }
      },
      "id": "UxNakxtyhiUu",
      "execution_count": 24,
      "outputs": [
        {
          "output_type": "stream",
          "name": "stdout",
          "text": [
            "Testing set of cifar:  \n",
            "\n",
            "Type of object that holds testing data: \n",
            "<class 'torchvision.datasets.mnist.MNIST'> \n",
            "\n",
            "<class 'torchvision.datasets.mnist.MNIST'> \n",
            "\n",
            "<class 'tuple'> \n",
            "\n",
            "Length of Tuple in torchvision object:  \n",
            " 2 \n",
            "\n",
            "Image: \n",
            "<class 'PIL.Image.Image'> \n",
            "\n",
            "Shape of Image: \n",
            " (28, 28) \n",
            "\n",
            "Class: \n",
            "<class 'int'>\n",
            "Length of training set:  28 \n",
            "\n"
          ]
        },
        {
          "output_type": "execute_result",
          "data": {
            "text/plain": [
              "Dataset MNIST\n",
              "    Number of datapoints: 10000\n",
              "    Root location: /data\n",
              "    Split: Test"
            ]
          },
          "metadata": {},
          "execution_count": 24
        }
      ]
    },
    {
      "cell_type": "code",
      "source": [
        "model = Sequential(\n",
        "            Conv2d(1, 32, kernel_size=3),\n",
        "            Conv2d(32, 64, kernel_size=3),\n",
        "            MaxPool2d(2),\n",
        "            Dropout(0.25),\n",
        "            Flatten(),\n",
        "            Linear(9216, 128),\n",
        "            Linear(128, 10),\n",
        "            Softmax())\n",
        "summary(model,(1,28,28))"
      ],
      "metadata": {
        "id": "qDW1OsvBuMkd",
        "outputId": "78c0cd1b-2e89-448c-e414-d55e3e37150c",
        "colab": {
          "base_uri": "https://localhost:8080/"
        }
      },
      "id": "qDW1OsvBuMkd",
      "execution_count": null,
      "outputs": [
        {
          "output_type": "stream",
          "name": "stdout",
          "text": [
            "----------------------------------------------------------------\n",
            "        Layer (type)               Output Shape         Param #\n",
            "================================================================\n",
            "            Conv2d-1           [-1, 32, 26, 26]             320\n",
            "            Conv2d-2           [-1, 64, 24, 24]          18,496\n",
            "         MaxPool2d-3           [-1, 64, 12, 12]               0\n",
            "           Dropout-4           [-1, 64, 12, 12]               0\n",
            "           Flatten-5                 [-1, 9216]               0\n",
            "            Linear-6                  [-1, 128]       1,179,776\n",
            "            Linear-7                   [-1, 10]           1,290\n",
            "           Softmax-8                   [-1, 10]               0\n",
            "================================================================\n",
            "Total params: 1,199,882\n",
            "Trainable params: 1,199,882\n",
            "Non-trainable params: 0\n",
            "----------------------------------------------------------------\n",
            "Input size (MB): 0.00\n",
            "Forward/backward pass size (MB): 0.66\n",
            "Params size (MB): 4.58\n",
            "Estimated Total Size (MB): 5.24\n",
            "----------------------------------------------------------------\n"
          ]
        },
        {
          "output_type": "stream",
          "name": "stderr",
          "text": [
            "/usr/local/lib/python3.9/dist-packages/torch/nn/modules/container.py:217: UserWarning: Implicit dimension choice for softmax has been deprecated. Change the call to include dim=X as an argument.\n",
            "  input = module(input)\n"
          ]
        }
      ]
    },
    {
      "cell_type": "code",
      "source": [
        "model1 = Sequential(\n",
        "\t\tConv2d(1,32,kernel_size = 2),\n",
        "\t\tMaxPool2d(2,2),\n",
        "\t\tConv2d(32,64,kernel_size = 2),\n",
        "\t\tMaxPool2d(2,2),\n",
        "\t\tConv2d(64,128,kernel_size = 2),\n",
        "\t\tDropout(0.25),\n",
        "\t\tMaxPool2d(1,1),\n",
        "\t\tConv2d(128,10,kernel_size = 3),\n",
        "\t\tFlatten(),\n",
        "\t\tLinear(90,10))\n",
        "summary(model1,(1,28,28))"
      ],
      "metadata": {
        "id": "gf5Y8ToBwUbp",
        "outputId": "cd78596c-ffe8-4315-9752-4079733776cc",
        "colab": {
          "base_uri": "https://localhost:8080/"
        }
      },
      "id": "gf5Y8ToBwUbp",
      "execution_count": null,
      "outputs": [
        {
          "output_type": "stream",
          "name": "stdout",
          "text": [
            "----------------------------------------------------------------\n",
            "        Layer (type)               Output Shape         Param #\n",
            "================================================================\n",
            "            Conv2d-1           [-1, 32, 27, 27]             160\n",
            "         MaxPool2d-2           [-1, 32, 13, 13]               0\n",
            "            Conv2d-3           [-1, 64, 12, 12]           8,256\n",
            "         MaxPool2d-4             [-1, 64, 6, 6]               0\n",
            "            Conv2d-5            [-1, 128, 5, 5]          32,896\n",
            "           Dropout-6            [-1, 128, 5, 5]               0\n",
            "         MaxPool2d-7            [-1, 128, 5, 5]               0\n",
            "            Conv2d-8             [-1, 10, 3, 3]          11,530\n",
            "           Flatten-9                   [-1, 90]               0\n",
            "           Linear-10                   [-1, 10]             910\n",
            "================================================================\n",
            "Total params: 53,752\n",
            "Trainable params: 53,752\n",
            "Non-trainable params: 0\n",
            "----------------------------------------------------------------\n",
            "Input size (MB): 0.00\n",
            "Forward/backward pass size (MB): 0.38\n",
            "Params size (MB): 0.21\n",
            "Estimated Total Size (MB): 0.59\n",
            "----------------------------------------------------------------\n"
          ]
        }
      ]
    },
    {
      "cell_type": "code",
      "source": [
        "model2 = Sequential(\n",
        "\t\tConv2d(1,32,kernel_size = 3),\n",
        "\t\tConv2d(32,64,kernel_size = 3),\n",
        "\t\tMaxPool2d(2),\n",
        "\t\tDropout(0.25),\n",
        "\t  Flatten(),\n",
        "\t\tLinear(9216,128),\n",
        "\t\tLinear(128,10))\n",
        "summary(model2,(1,28,28))"
      ],
      "metadata": {
        "id": "xYNARqlKw40R",
        "outputId": "594cf5b3-364a-4114-95f0-0a14835cde9e",
        "colab": {
          "base_uri": "https://localhost:8080/"
        }
      },
      "id": "xYNARqlKw40R",
      "execution_count": null,
      "outputs": [
        {
          "output_type": "stream",
          "name": "stdout",
          "text": [
            "----------------------------------------------------------------\n",
            "        Layer (type)               Output Shape         Param #\n",
            "================================================================\n",
            "            Conv2d-1           [-1, 32, 26, 26]             320\n",
            "            Conv2d-2           [-1, 64, 24, 24]          18,496\n",
            "         MaxPool2d-3           [-1, 64, 12, 12]               0\n",
            "           Dropout-4           [-1, 64, 12, 12]               0\n",
            "           Flatten-5                 [-1, 9216]               0\n",
            "            Linear-6                  [-1, 128]       1,179,776\n",
            "            Linear-7                   [-1, 10]           1,290\n",
            "================================================================\n",
            "Total params: 1,199,882\n",
            "Trainable params: 1,199,882\n",
            "Non-trainable params: 0\n",
            "----------------------------------------------------------------\n",
            "Input size (MB): 0.00\n",
            "Forward/backward pass size (MB): 0.66\n",
            "Params size (MB): 4.58\n",
            "Estimated Total Size (MB): 5.24\n",
            "----------------------------------------------------------------\n"
          ]
        }
      ]
    },
    {
      "cell_type": "code",
      "source": [
        "%%capture\n",
        "pre_trained_one = resnet50(pretrained = True)\n",
        "summary(pre_trained_one,(3,28,28))"
      ],
      "metadata": {
        "id": "OtZLgHAxxTW0"
      },
      "id": "OtZLgHAxxTW0",
      "execution_count": null,
      "outputs": []
    },
    {
      "cell_type": "code",
      "source": [
        "%%capture\n",
        "pre_trained_two = inception_v3(pretrained=True)\n",
        "summary(pre_trained_two,(3,28,28))"
      ],
      "metadata": {
        "id": "CpoUM3wtiZgX"
      },
      "id": "CpoUM3wtiZgX",
      "execution_count": null,
      "outputs": []
    },
    {
      "cell_type": "code",
      "source": [
        "%%capture\n",
        "pre_trained_three = alexnet(pretrained = True)\n",
        "summary(pre_trained_three,(3,28,28))"
      ],
      "metadata": {
        "id": "bpDhvomSiY78"
      },
      "id": "bpDhvomSiY78",
      "execution_count": null,
      "outputs": []
    },
    {
      "cell_type": "code",
      "source": [
        "def train_loop(dataloader,model,loss_fn,optimizer):\n",
        "\tsize = len(dataloader.dataset)\n",
        "\tfor batch, (x,y) in enumerate(dataloader):\n",
        "\t\tpred = model(x)\n",
        "\t\tloss = loss_fn(pred,y)\n",
        "\t\toptimizer.zero_grad()\n",
        "\t\tloss.backward()\n",
        "\t\toptimizer.step()\n",
        "\t\tif batch % 100 == 0:\n",
        "\t\t\tloss,current = loss.item(), batch*len(x)\n",
        "\t\t\tprint(\"Loss: \",loss,current)"
      ],
      "metadata": {
        "id": "0uWkH3WMxkOz"
      },
      "id": "0uWkH3WMxkOz",
      "execution_count": null,
      "outputs": []
    },
    {
      "cell_type": "code",
      "source": [
        "loss = CrossEntropyLoss()\n",
        "\n",
        "optimizer = optim.SGD(model.parameters(),lr = 0.001,momentum = 0.9)\n",
        "optimizer1 = optim.SGD(model1.parameters(),lr=0.001,momentum = 0.9)\n",
        "optimizer2 = optim.SGD(model2.parameters(), lr =0.001,momentum = 0.9)\n",
        "optimizer3 = optim.SGD(pre_trained_one.parameters(),lr=0.001,momentum = 0.9)\n",
        "optimizer4 = optim.SGD(pre_trained_two.parameters(),lr=0.001,momentum=0.9)\n",
        "optimizer5 = optim.SGD(pre_trained_three.parameters(),lr=0.001,momentum=0.9)"
      ],
      "metadata": {
        "id": "q34UmR31xnZK"
      },
      "id": "q34UmR31xnZK",
      "execution_count": null,
      "outputs": []
    },
    {
      "cell_type": "code",
      "source": [
        "train_loop(mnist_train_dataloader,model,loss,optimizer)"
      ],
      "metadata": {
        "id": "HshYeotcxqRk",
        "outputId": "fa2af481-6095-4244-9937-431899a41d4d",
        "colab": {
          "base_uri": "https://localhost:8080/"
        }
      },
      "id": "HshYeotcxqRk",
      "execution_count": null,
      "outputs": [
        {
          "output_type": "stream",
          "name": "stderr",
          "text": [
            "/usr/local/lib/python3.9/dist-packages/torch/nn/modules/container.py:217: UserWarning: Implicit dimension choice for softmax has been deprecated. Change the call to include dim=X as an argument.\n",
            "  input = module(input)\n"
          ]
        },
        {
          "output_type": "stream",
          "name": "stdout",
          "text": [
            "2.2965948581695557 0\n",
            "2.2784268856048584 6400\n",
            "2.2674801349639893 12800\n",
            "2.210325002670288 19200\n",
            "2.0878727436065674 25600\n",
            "1.9821844100952148 32000\n",
            "1.813801884651184 38400\n",
            "1.7161420583724976 44800\n",
            "1.7413032054901123 51200\n",
            "1.6127793788909912 57600\n"
          ]
        }
      ]
    },
    {
      "cell_type": "code",
      "source": [
        "train_loop(mnist_train_dataloader,model1,loss,optimizer)"
      ],
      "metadata": {
        "id": "Ki35rCpNIp1k",
        "outputId": "dc452443-b65c-4804-fae3-89fd0f97befe",
        "colab": {
          "base_uri": "https://localhost:8080/"
        }
      },
      "id": "Ki35rCpNIp1k",
      "execution_count": null,
      "outputs": [
        {
          "output_type": "stream",
          "name": "stdout",
          "text": [
            "2.2995951175689697 0\n",
            "2.306455612182617 6400\n",
            "2.3051178455352783 12800\n",
            "2.307050943374634 19200\n",
            "2.2922420501708984 25600\n",
            "2.3168370723724365 32000\n",
            "2.309736728668213 38400\n",
            "2.312749147415161 44800\n",
            "2.294609546661377 51200\n",
            "2.3153648376464844 57600\n"
          ]
        }
      ]
    },
    {
      "cell_type": "code",
      "source": [
        "train_loop(mnist_train_dataloader,model2,loss,optimizer)"
      ],
      "metadata": {
        "id": "dQUmV6CzIp4n",
        "outputId": "79e4a28c-2c55-48bd-ca25-63edb632a5f1",
        "colab": {
          "base_uri": "https://localhost:8080/"
        }
      },
      "id": "dQUmV6CzIp4n",
      "execution_count": null,
      "outputs": [
        {
          "output_type": "stream",
          "name": "stdout",
          "text": [
            "2.295835018157959 0\n",
            "2.3027875423431396 6400\n",
            "2.3123998641967773 12800\n",
            "2.3014447689056396 19200\n",
            "2.2993216514587402 25600\n",
            "2.304833173751831 32000\n",
            "2.3112845420837402 38400\n",
            "2.2946877479553223 44800\n",
            "2.3102166652679443 51200\n",
            "2.2986104488372803 57600\n"
          ]
        }
      ]
    },
    {
      "cell_type": "code",
      "source": [
        "train_loop(mnist_train_dataloader,model,loss,optimizer)\n",
        "train_loop(mnist_train_dataloader,model2,loss,optimizer)"
      ],
      "metadata": {
        "id": "lyzotsMTmJFP",
        "outputId": "2adada7a-12d2-4b71-d361-3b0dd5597d6c",
        "colab": {
          "base_uri": "https://localhost:8080/"
        }
      },
      "id": "lyzotsMTmJFP",
      "execution_count": null,
      "outputs": [
        {
          "output_type": "stream",
          "name": "stdout",
          "text": [
            "1.6093798875808716 0\n",
            "1.748428225517273 6400\n",
            "1.6382205486297607 12800\n",
            "1.606386423110962 19200\n",
            "1.6898581981658936 25600\n",
            "1.594357967376709 32000\n",
            "1.6385828256607056 38400\n",
            "1.5650193691253662 44800\n",
            "1.578779935836792 51200\n",
            "1.6348260641098022 57600\n",
            "2.304631471633911 0\n",
            "2.295976400375366 6400\n",
            "2.29062819480896 12800\n",
            "2.319627523422241 19200\n",
            "2.2844810485839844 25600\n",
            "2.3122103214263916 32000\n",
            "2.314455986022949 38400\n",
            "2.315218448638916 44800\n",
            "2.2985496520996094 51200\n",
            "2.2926156520843506 57600\n"
          ]
        }
      ]
    },
    {
      "cell_type": "code",
      "source": [
        "train_loop(mnist_train_dataloader1,pre_trained_one,loss,optimizer)"
      ],
      "metadata": {
        "id": "hLc4p4j4if6D"
      },
      "id": "hLc4p4j4if6D",
      "execution_count": null,
      "outputs": []
    },
    {
      "cell_type": "code",
      "source": [
        "train_loop(mnist_train_dataloader,pre_trained_two,loss,optimizer)"
      ],
      "metadata": {
        "id": "PiHhEcZGiklf"
      },
      "id": "PiHhEcZGiklf",
      "execution_count": null,
      "outputs": []
    },
    {
      "cell_type": "code",
      "source": [
        "train_loop(mnist_train_dataloader,pre_trained_three,loss,optimizer)"
      ],
      "metadata": {
        "id": "uSSjSm4XIqFY"
      },
      "id": "uSSjSm4XIqFY",
      "execution_count": null,
      "outputs": []
    }
  ],
  "metadata": {
    "kernelspec": {
      "display_name": "Python 3 (ipykernel)",
      "language": "python",
      "name": "python3"
    },
    "language_info": {
      "codemirror_mode": {
        "name": "ipython",
        "version": 3
      },
      "file_extension": ".py",
      "mimetype": "text/x-python",
      "name": "python",
      "nbconvert_exporter": "python",
      "pygments_lexer": "ipython3",
      "version": "3.8.9"
    },
    "colab": {
      "provenance": [],
      "include_colab_link": true
    }
  },
  "nbformat": 4,
  "nbformat_minor": 5
}
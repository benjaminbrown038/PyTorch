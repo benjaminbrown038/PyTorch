{
  "nbformat": 4,
  "nbformat_minor": 0,
  "metadata": {
    "colab": {
      "provenance": [],
      "authorship_tag": "ABX9TyM+7LpLqebkC0ew1oCyJVuo",
      "include_colab_link": true
    },
    "kernelspec": {
      "name": "python3",
      "display_name": "Python 3"
    },
    "language_info": {
      "name": "python"
    }
  },
  "cells": [
    {
      "cell_type": "markdown",
      "metadata": {
        "id": "view-in-github",
        "colab_type": "text"
      },
      "source": [
        "<a href=\"https://colab.research.google.com/github/benjaminbrown038/PyTorch/blob/main/train_loop.ipynb\" target=\"_parent\"><img src=\"https://colab.research.google.com/assets/colab-badge.svg\" alt=\"Open In Colab\"/></a>"
      ]
    },
    {
      "cell_type": "code",
      "execution_count": null,
      "metadata": {
        "id": "mO9mMVxDhjHi"
      },
      "outputs": [],
      "source": [
        "mnist_train = torchvision.datasets.MNIST(root = '/data', download = True, train = True, transform = transforms.ToTensor())\n",
        "mnist_train_dataloader = DataLoader(mnist_train,batch_size = 64, shuffle = True)\n",
        "\n",
        "loss_fn = CrossEntropyLoss()\n",
        "optimizer = optim.SGD(model.parameters(),lr = .001, momentum = .9)\n",
        "\n",
        "def train_loop(dataloader,model,loss_fn,optimizer):\n",
        "    size = len(dataloader.dataset)\n",
        "    for batch, (x,y) in enumerate(dataloader):\n",
        "        pred = model(x)\n",
        "        loss = loss_fn(pred,y)\n",
        "        optimizer.zero_grad()\n",
        "        loss.backward()\n",
        "        optimizer.step()\n",
        "        if batch % 100 == 0:\n",
        "            loss,current = loss.item(),batch*len(x)\n",
        "\n",
        "torch.save('model.pkl'))"
      ]
    }
  ]
}
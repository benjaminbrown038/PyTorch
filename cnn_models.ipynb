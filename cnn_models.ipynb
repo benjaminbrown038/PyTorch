{
  "nbformat": 4,
  "nbformat_minor": 0,
  "metadata": {
    "colab": {
      "provenance": [],
      "authorship_tag": "ABX9TyMKxF28grdDRO/kNzjDUCe1",
      "include_colab_link": true
    },
    "kernelspec": {
      "name": "python3",
      "display_name": "Python 3"
    },
    "language_info": {
      "name": "python"
    }
  },
  "cells": [
    {
      "cell_type": "markdown",
      "metadata": {
        "id": "view-in-github",
        "colab_type": "text"
      },
      "source": [
        "<a href=\"https://colab.research.google.com/github/benjaminbrown038/PyTorch/blob/main/cnn_models.ipynb\" target=\"_parent\"><img src=\"https://colab.research.google.com/assets/colab-badge.svg\" alt=\"Open In Colab\"/></a>"
      ]
    },
    {
      "cell_type": "code",
      "execution_count": null,
      "metadata": {
        "id": "ArIlsQEDITBd"
      },
      "outputs": [],
      "source": [
        "model = nn.Sequential(\n",
        "\t\t\tnn.Conv2d(1,32,kernel_size = 3),\n",
        "\t\t\tnn.Conv2d(32,64,kernel_szie = 3),\n",
        "\t\t\tnn.MaxPool2d(2),\n",
        "\t\t\tnn.Dropout(0.25),\n",
        "\t\t\tnn.Flatten(),\n",
        "\t\t\tnn.Linear(9216,128),\n",
        "\t\t\tnn.Linear(128,10),\n",
        "\t\t\tnn.Softmax()\n",
        "\t\t\t)\n",
        "summary(model,1,28,28)"
      ]
    },
    {
      "cell_type": "code",
      "source": [
        "model1 = nn.Sequential(\n",
        "\t\tnn.Conv2d(1,32,kernel_size = 2),\n",
        "\t\tnn.MaxPool2d(2,2),\n",
        "\t\tnn.Conv2d(32,64,kernel_size = 2),\n",
        "\t\tnn.MaxPool2d(2,2),\n",
        "\t\tnn.Conv2d(64,128,kernel_size = 2),\n",
        "\t\tnn.Dropout(0.25),\n",
        "\t\tnn.MaxPool2d(1,1),\n",
        "\t\tnn.Conv2d(128,10,kernel_size = 3),\n",
        "\t\tnn.Flatten(),\n",
        "\t\tnn.Linear(90,10)\n",
        "\t\t)\n",
        "summary(model,(1,28,28))"
      ],
      "metadata": {
        "id": "naf0PjyxIYz_"
      },
      "execution_count": null,
      "outputs": []
    },
    {
      "cell_type": "code",
      "source": [
        "mdoel2 = nn.Sequential(\n",
        "\t\tnn.Conv2d(1,32,kernel_size = 3),\n",
        "\t\tnn.Conv2d(32,64,kernel_size = 3),\n",
        "\t\tnn.MaxPool2d(2),\n",
        "\t\tnn.Dropot(0.25),\n",
        "\t\tnn.Flatten(),\n",
        "\t\tnn.Linear(9216,128),\n",
        "\t\tnn.Linear(128,10)\n",
        "\t\t)\n",
        "summary(model2,(1,28,28))"
      ],
      "metadata": {
        "id": "MGelc14pIY2j"
      },
      "execution_count": null,
      "outputs": []
    },
    {
      "cell_type": "code",
      "source": [],
      "metadata": {
        "id": "yYriw-frIY6c"
      },
      "execution_count": null,
      "outputs": []
    },
    {
      "cell_type": "code",
      "source": [
        "pre_trained_one = resnet50(pretrained = True)\n"
      ],
      "metadata": {
        "id": "vVm6mylgIY83"
      },
      "execution_count": null,
      "outputs": []
    },
    {
      "cell_type": "code",
      "source": [
        "pre_trained_two = inception_v3(pretrained=True)\n"
      ],
      "metadata": {
        "id": "XG5heusKIY_8"
      },
      "execution_count": null,
      "outputs": []
    },
    {
      "cell_type": "code",
      "source": [
        "pre_trained_three = alexnet(pretrained = True)"
      ],
      "metadata": {
        "id": "UgShiQuEIZCx"
      },
      "execution_count": null,
      "outputs": []
    }
  ]
}
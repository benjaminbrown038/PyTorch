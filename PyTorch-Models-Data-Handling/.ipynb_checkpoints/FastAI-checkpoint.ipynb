{
 "cells": [
  {
   "cell_type": "markdown",
   "metadata": {
    "colab_type": "text",
    "id": "view-in-github"
   },
   "source": [
    "<a href=\"https://colab.research.google.com/github/benjaminbrown038/Machine-Learning/blob/main/PyTorch-Models-Data-Handling/FastAI.ipynb\" target=\"_parent\"><img src=\"https://colab.research.google.com/assets/colab-badge.svg\" alt=\"Open In Colab\"/></a>"
   ]
  },
  {
   "cell_type": "markdown",
   "metadata": {
    "id": "BMrexOB8OEGI"
   },
   "source": [
    "# Computer Vision and Data Handling in PyTorch\n",
    " 1. [Imports](#imports)\n",
    " 2. [Data](#data)\n",
    " 3. [Architectures](#architectures)\n",
    " 4. [Training Loop](#training)\n",
    " 5. [Testing Loop](#testing)\n",
    " 6. [Functions](#functions)\n",
    " 7. [Classes](#classes)\n",
    "\n"
   ]
  },
  {
   "cell_type": "markdown",
   "metadata": {
    "id": "py5Kc2oR_pJ2"
   },
   "source": [
    "##### Imports"
   ]
  },
  {
   "cell_type": "code",
   "execution_count": null,
   "metadata": {},
   "outputs": [],
   "source": [
    "! pip3 install torch"
   ]
  },
  {
   "cell_type": "code",
   "execution_count": 1,
   "metadata": {
    "colab": {
     "base_uri": "https://localhost:8080/"
    },
    "id": "LTIR5FGBOEGK",
    "outputId": "eba0c43a-ab85-4f0f-9391-b754ee378c19"
   },
   "outputs": [
    {
     "ename": "ModuleNotFoundError",
     "evalue": "No module named 'torch'",
     "output_type": "error",
     "traceback": [
      "\u001b[1;31m---------------------------------------------------------------------------\u001b[0m",
      "\u001b[1;31mModuleNotFoundError\u001b[0m                       Traceback (most recent call last)",
      "\u001b[1;32m<ipython-input-1-e1208d3a336d>\u001b[0m in \u001b[0;36m<module>\u001b[1;34m\u001b[0m\n\u001b[1;32m----> 1\u001b[1;33m \u001b[1;32mimport\u001b[0m \u001b[0mtorch\u001b[0m\u001b[1;33m\u001b[0m\u001b[1;33m\u001b[0m\u001b[0m\n\u001b[0m\u001b[0;32m      2\u001b[0m \u001b[1;33m\u001b[0m\u001b[0m\n\u001b[0;32m      3\u001b[0m \u001b[1;32mfrom\u001b[0m \u001b[0mtorch\u001b[0m \u001b[1;32mimport\u001b[0m \u001b[0moptim\u001b[0m\u001b[1;33m\u001b[0m\u001b[1;33m\u001b[0m\u001b[0m\n\u001b[0;32m      4\u001b[0m \u001b[1;32mimport\u001b[0m \u001b[0mmatplotlib\u001b[0m\u001b[1;33m.\u001b[0m\u001b[0mpyplot\u001b[0m \u001b[1;32mas\u001b[0m \u001b[0mplt\u001b[0m\u001b[1;33m\u001b[0m\u001b[1;33m\u001b[0m\u001b[0m\n\u001b[0;32m      5\u001b[0m \u001b[1;32mfrom\u001b[0m \u001b[0mfastai\u001b[0m\u001b[1;33m.\u001b[0m\u001b[0mvision\u001b[0m\u001b[1;33m.\u001b[0m\u001b[0mall\u001b[0m \u001b[1;32mimport\u001b[0m \u001b[1;33m*\u001b[0m\u001b[1;33m\u001b[0m\u001b[1;33m\u001b[0m\u001b[0m\n",
      "\u001b[1;31mModuleNotFoundError\u001b[0m: No module named 'torch'"
     ]
    }
   ],
   "source": [
    "import torch\n",
    "\n",
    "from torch import optim\n",
    "import matplotlib.pyplot as plt\n",
    "from fastai.vision.all import *\n",
    "from torch.nn import functional\n",
    "import numpy\n",
    "import torchvision\n",
    "! pip3 install ray\n",
    "import ray\n",
    "from torchvision import transforms\n",
    "from torchvision.models import resnet50, alexnet, inception_v3\n",
    "from torch.nn import Sequential\n",
    "from torchsummary import summary\n",
    "from torch.utils.data import DataLoader\n",
    "from torch.optim import SGD"
   ]
  },
  {
   "cell_type": "markdown",
   "metadata": {
    "id": "alst8TCbOEGL"
   },
   "source": [
    "##### Data\n",
    "\n",
    "\n"
   ]
  },
  {
   "cell_type": "code",
   "execution_count": 2,
   "metadata": {
    "colab": {
     "base_uri": "https://localhost:8080/",
     "height": 37
    },
    "id": "DQ1nujBQOEGL",
    "outputId": "79d24e6f-23bf-4cf8-c068-bd41daf9cb91"
   },
   "outputs": [
    {
     "data": {
      "text/html": [
       "\n",
       "<style>\n",
       "    /* Turns off some styling */\n",
       "    progress {\n",
       "        /* gets rid of default border in Firefox and Opera. */\n",
       "        border: none;\n",
       "        /* Needs to be in here for Safari polyfill so background images work as expected. */\n",
       "        background-size: auto;\n",
       "    }\n",
       "    progress:not([value]), progress:not([value])::-webkit-progress-bar {\n",
       "        background: repeating-linear-gradient(45deg, #7e7e7e, #7e7e7e 10px, #5c5c5c 10px, #5c5c5c 20px);\n",
       "    }\n",
       "    .progress-bar-interrupted, .progress-bar-interrupted::-webkit-progress-bar {\n",
       "        background: #F44336;\n",
       "    }\n",
       "</style>\n"
      ],
      "text/plain": [
       "<IPython.core.display.HTML object>"
      ]
     },
     "metadata": {},
     "output_type": "display_data"
    },
    {
     "data": {
      "text/html": [
       "\n",
       "    <div>\n",
       "      <progress value='3219456' class='' max='3214948' style='width:300px; height:20px; vertical-align: middle;'></progress>\n",
       "      100.14% [3219456/3214948 00:01&lt;00:00]\n",
       "    </div>\n",
       "    "
      ],
      "text/plain": [
       "<IPython.core.display.HTML object>"
      ]
     },
     "metadata": {},
     "output_type": "display_data"
    }
   ],
   "source": [
    "time = torch.arange(0,20)\n",
    "params = torch.randn(3).requires_grad_()\n",
    "path = untar_data(URLs.MNIST_SAMPLE)"
   ]
  },
  {
   "cell_type": "markdown",
   "metadata": {
    "id": "yfqR_j0Zke1M"
   },
   "source": [
    "##### Data"
   ]
  },
  {
   "cell_type": "code",
   "execution_count": 3,
   "metadata": {
    "id": "NmW76pdEZtTz"
   },
   "outputs": [],
   "source": [
    "# image training data sorted in file path\n",
    "threes = (path/'train/3').ls().sorted()\n",
    "sevens = (path/'train/7').ls().sorted()\n",
    "\n",
    "# image training tensors stacked into one tensor \n",
    "stacked_3s = [tensor(Image.open(o)) for o in threes]\n",
    "stacked_7s = [tensor(Image.open(o)) for o in sevens]\n",
    "\n",
    "# image validation data sorted in file path\n",
    "valid_3s = (path/'valid/3').ls().sorted()\n",
    "valid_7s = (path/'valid/7').ls().sorted()\n",
    "\n",
    "# image validation tensors stacked into one tensor \n",
    "stacked_valid3s = [tensor(Image.open(o)) for o in valid_3s]\n",
    "stacked_valid7s = [tensor(Image.open(o)) for o in valid_7s]"
   ]
  },
  {
   "cell_type": "markdown",
   "metadata": {
    "id": "R5IhJ_hRq9fl"
   },
   "source": [
    "##### Data Types"
   ]
  },
  {
   "cell_type": "code",
   "execution_count": 4,
   "metadata": {
    "colab": {
     "base_uri": "https://localhost:8080/"
    },
    "id": "7Ku9Q614nfAY",
    "outputId": "7214853b-db0f-42af-d93e-f569d4ca68ae"
   },
   "outputs": [
    {
     "name": "stdout",
     "output_type": "stream",
     "text": [
      "<class 'fastcore.foundation.L'>\n",
      "<class 'fastcore.foundation.L'>\n",
      "<class 'list'>\n",
      "<class 'list'>\n",
      "<class 'fastcore.foundation.L'>\n",
      "<class 'fastcore.foundation.L'>\n",
      "<class 'list'>\n",
      "<class 'list'>\n"
     ]
    }
   ],
   "source": [
    "print(type(threes))\n",
    "print(type(sevens))\n",
    "print(type(stacked_3s))\n",
    "print(type(stacked_7s))\n",
    "print(type(valid_3s))\n",
    "print(type(valid_7s))\n",
    "print(type(stacked_valid3s))\n",
    "print(type(stacked_valid7s))"
   ]
  },
  {
   "cell_type": "markdown",
   "metadata": {
    "id": "6iZJokyccWBh"
   },
   "source": [
    "##### Data"
   ]
  },
  {
   "cell_type": "code",
   "execution_count": 5,
   "metadata": {
    "colab": {
     "base_uri": "https://localhost:8080/",
     "height": 431,
     "referenced_widgets": [
      "fd46048ffe2d4e9884a30eadc53d9784",
      "1af377b682f743138dc2db4b3fa2b28c",
      "0b9be918ac9f4c54a5840c29dba390a3",
      "56f40ec283d545bbbb210f77d85a9242",
      "10875989acf44aa8978f9548b38dd204",
      "8e7b72a8458b4c73bea9b1cf749ca3a7",
      "099016d813184e4d8ac2380b1650e66d",
      "42e9aee73d224a3b87955f05fa36d963",
      "b8c2508b3f974c3aa265d3f6ec55bba5",
      "213b27c6d5f84b8b984ea13d9fff3d06",
      "881e159abf1e485cb67927b6b8665892",
      "b542db60bf6d4397bd967af63c5e80b2",
      "cf8dd75e83e845a3b7d5b7235708fd7c",
      "f024ad87ca9247b79e3d9486d1c80d65",
      "387a7bb74d5642b89479a4da97e0371b",
      "12afe002d233414cb42b876296439190",
      "230f3ed598e0478db8a87640e5af9fd5",
      "da4bf234954144a4bc0678cf31dd52ae",
      "3347c33b8bf54364948ef2e6d99131ae",
      "f6cff2740b144bb98ab363d0e00a5fc3",
      "26d2e73a11d4418ab5c7297417722cb7",
      "c8ea174ca1c04b9cba58e53813d4fc17",
      "912de3294380433085085f7290015519",
      "3320b37fd78a478ca59c168e3a9a838f",
      "35362693bb584089afa14d21a773a788",
      "686167b69b5f44b992a71306ea1efa50",
      "687c7714314147a9b4878f284019b9c0",
      "8d6dfc5ec4cf485b9df71751e577fc07",
      "156f82109a8e48088f537f38d76da496",
      "4d4c23cf9d714b368665db5c3bc9eb1d",
      "76555a48f44649d896916d65cbff62d1",
      "920670b9295049078248c82fd782784d",
      "cab6859d00ef4588a9010e32b1e88a33",
      "c26c3efd4c3b4bb19371de6a468859b4",
      "abc73ccb223a4381a2921fc0d64c152f",
      "9a3f09ddbc4b4cec962b04cd5a72980f",
      "f9b88a74a18b4dacbb542b832f18b066",
      "86532961100e4a83ab652d9b64888391",
      "0d4efe6749244ca7bcd9697a6ae9c527",
      "3467b6ded9e34367bc6c7e6bf971a6f9",
      "c2f6de11c2dc421c9c50c6c29f4ec0a7",
      "534735fdb88a4c7c9909e973efbfab69",
      "1a8127b3e3ab4f87a1c79fb2460b11d4",
      "6798775d67114475956e92dd1128fc64"
     ]
    },
    "id": "DbTrcqdGcWHM",
    "outputId": "50098afa-f94e-4205-fa83-1567f48c06ea"
   },
   "outputs": [
    {
     "name": "stdout",
     "output_type": "stream",
     "text": [
      "Downloading http://yann.lecun.com/exdb/mnist/train-images-idx3-ubyte.gz\n",
      "Downloading http://yann.lecun.com/exdb/mnist/train-images-idx3-ubyte.gz to \\data/MNIST/raw/train-images-idx3-ubyte.gz\n"
     ]
    },
    {
     "data": {
      "application/vnd.jupyter.widget-view+json": {
       "model_id": "fd46048ffe2d4e9884a30eadc53d9784",
       "version_major": 2,
       "version_minor": 0
      },
      "text/plain": [
       "  0%|          | 0/9912422 [00:00<?, ?it/s]"
      ]
     },
     "metadata": {},
     "output_type": "display_data"
    },
    {
     "name": "stdout",
     "output_type": "stream",
     "text": [
      "Extracting \\data/MNIST/raw/train-images-idx3-ubyte.gz to \\data/MNIST/raw\n",
      "\n",
      "Downloading http://yann.lecun.com/exdb/mnist/train-labels-idx1-ubyte.gz\n",
      "Downloading http://yann.lecun.com/exdb/mnist/train-labels-idx1-ubyte.gz to \\data/MNIST/raw/train-labels-idx1-ubyte.gz\n"
     ]
    },
    {
     "data": {
      "application/vnd.jupyter.widget-view+json": {
       "model_id": "b542db60bf6d4397bd967af63c5e80b2",
       "version_major": 2,
       "version_minor": 0
      },
      "text/plain": [
       "  0%|          | 0/28881 [00:00<?, ?it/s]"
      ]
     },
     "metadata": {},
     "output_type": "display_data"
    },
    {
     "name": "stdout",
     "output_type": "stream",
     "text": [
      "Extracting \\data/MNIST/raw/train-labels-idx1-ubyte.gz to \\data/MNIST/raw\n",
      "\n",
      "Downloading http://yann.lecun.com/exdb/mnist/t10k-images-idx3-ubyte.gz\n",
      "Downloading http://yann.lecun.com/exdb/mnist/t10k-images-idx3-ubyte.gz to \\data/MNIST/raw/t10k-images-idx3-ubyte.gz\n"
     ]
    },
    {
     "data": {
      "application/vnd.jupyter.widget-view+json": {
       "model_id": "912de3294380433085085f7290015519",
       "version_major": 2,
       "version_minor": 0
      },
      "text/plain": [
       "  0%|          | 0/1648877 [00:00<?, ?it/s]"
      ]
     },
     "metadata": {},
     "output_type": "display_data"
    },
    {
     "name": "stdout",
     "output_type": "stream",
     "text": [
      "Extracting \\data/MNIST/raw/t10k-images-idx3-ubyte.gz to \\data/MNIST/raw\n",
      "\n",
      "Downloading http://yann.lecun.com/exdb/mnist/t10k-labels-idx1-ubyte.gz\n",
      "Downloading http://yann.lecun.com/exdb/mnist/t10k-labels-idx1-ubyte.gz to \\data/MNIST/raw/t10k-labels-idx1-ubyte.gz\n"
     ]
    },
    {
     "data": {
      "application/vnd.jupyter.widget-view+json": {
       "model_id": "c26c3efd4c3b4bb19371de6a468859b4",
       "version_major": 2,
       "version_minor": 0
      },
      "text/plain": [
       "  0%|          | 0/4542 [00:00<?, ?it/s]"
      ]
     },
     "metadata": {},
     "output_type": "display_data"
    },
    {
     "name": "stdout",
     "output_type": "stream",
     "text": [
      "Extracting \\data/MNIST/raw/t10k-labels-idx1-ubyte.gz to \\data/MNIST/raw\n",
      "\n"
     ]
    }
   ],
   "source": [
    "mnist_train = torchvision.datasets.MNIST(root='\\data',download=True,train=True,transform = transforms.ToTensor())\n",
    "mnist_test = torchvision.datasets.MNIST(root='\\data',download=True,train = False,transform = transforms.ToTensor())\n",
    "mnist_train_dataloader = DataLoader(mnist_train, batch_size=64, shuffle=True)\n",
    "mnist_test_dataloader = DataLoader(mnist_test, batch_size=64, shuffle=True)\n",
    "\n",
    "\n",
    "cifar_train = torchvision.datasets.MNIST(root='\\data',download=True,train=True,transform = transforms.ToTensor())\n",
    "cifar_test = torchvision.datasets.MNIST(root='\\data',download=True,train = False,transform = transforms.ToTensor())\n",
    "cifar_train_dataloader = DataLoader(cifar_train, batch_size=64, shuffle=True)\n",
    "cifar_test_dataloader = DataLoader(cifar_test, batch_size=64, shuffle=True)"
   ]
  },
  {
   "cell_type": "markdown",
   "metadata": {
    "id": "CWv5fAYjceM9"
   },
   "source": [
    "##### Data "
   ]
  },
  {
   "cell_type": "code",
   "execution_count": 6,
   "metadata": {
    "colab": {
     "base_uri": "https://localhost:8080/"
    },
    "id": "vOvsH_HoceUO",
    "outputId": "7b56f20b-7192-4301-e223-43691409f0f8"
   },
   "outputs": [
    {
     "name": "stdout",
     "output_type": "stream",
     "text": [
      "Training Set of MNIST:  \n",
      "\n",
      "Type of object that holds training data:\n",
      "<class 'torchvision.datasets.mnist.MNIST'> \n",
      "\n",
      "<class 'tuple'>\n",
      "Length of Tuple: in Torchvision Object:  \n",
      " 2 \n",
      "\n",
      "Image: \n",
      "<class 'torch.Tensor'> \n",
      "\n",
      "Shape of Image: \n",
      " torch.Size([1, 28, 28]) \n",
      "\n",
      "Class: \n",
      "<class 'int'>\n",
      "Length of training set:  1 \n",
      "\n"
     ]
    },
    {
     "data": {
      "text/plain": [
       "Dataset MNIST\n",
       "    Number of datapoints: 60000\n",
       "    Root location: \\data\n",
       "    Split: Train\n",
       "    StandardTransform\n",
       "Transform: ToTensor()"
      ]
     },
     "execution_count": 6,
     "metadata": {},
     "output_type": "execute_result"
    }
   ],
   "source": [
    "print(\"Training Set of MNIST: \", \"\\n\")\n",
    "print(\"Type of object that holds training data:\")\n",
    "print(type(mnist_train),\"\\n\")\n",
    "print(type(mnist_train[0]))\n",
    "print(\"Length of Tuple: in Torchvision Object: \" ,\"\\n\" , len(mnist_train[0]),\"\\n\")\n",
    "print(\"Image: \")\n",
    "print(type(mnist_train[0][0]),\"\\n\")\n",
    "print(\"Shape of Image:\", \"\\n\", mnist_train[0][0].shape,\"\\n\")\n",
    "print(\"Class: \")\n",
    "print(type(mnist_train[0][1]))\n",
    "print(\"Length of training set: \",len(mnist_train[0][0]),\"\\n\")\n",
    "mnist_train"
   ]
  },
  {
   "cell_type": "markdown",
   "metadata": {
    "id": "4tVUGycwceZ7"
   },
   "source": [
    "##### Data"
   ]
  },
  {
   "cell_type": "code",
   "execution_count": 7,
   "metadata": {
    "colab": {
     "base_uri": "https://localhost:8080/"
    },
    "id": "MG3U1Vkdcefa",
    "outputId": "6408928b-fc72-437e-fbde-57129e8eacde"
   },
   "outputs": [
    {
     "name": "stdout",
     "output_type": "stream",
     "text": [
      "Testing Set of MNIST:  \n",
      "\n",
      "Type of object that holds testing data:\n",
      "<class 'torchvision.datasets.mnist.MNIST'> \n",
      "\n",
      "<class 'torchvision.datasets.mnist.MNIST'> \n",
      "\n",
      "<class 'tuple'>\n",
      "Length of Tuple: in Torchvision Object:  \n",
      " 2 \n",
      "\n",
      "Image: \n",
      "<class 'torch.Tensor'> \n",
      "\n",
      "Shape of Image: \n",
      " torch.Size([1, 28, 28]) \n",
      "\n",
      "Class: \n",
      "<class 'int'>\n",
      "Length of training set:  1 \n",
      "\n"
     ]
    },
    {
     "data": {
      "text/plain": [
       "Dataset MNIST\n",
       "    Number of datapoints: 10000\n",
       "    Root location: \\data\n",
       "    Split: Test\n",
       "    StandardTransform\n",
       "Transform: ToTensor()"
      ]
     },
     "execution_count": 7,
     "metadata": {},
     "output_type": "execute_result"
    }
   ],
   "source": [
    "print(\"Testing Set of MNIST: \", \"\\n\")\n",
    "print(\"Type of object that holds testing data:\")\n",
    "print(type(mnist_train),\"\\n\")\n",
    "print(type(mnist_test),\"\\n\")\n",
    "print(type(mnist_test[0]))\n",
    "print(\"Length of Tuple: in Torchvision Object: \" ,\"\\n\" , len(mnist_test[0]),\"\\n\")\n",
    "print(\"Image: \")\n",
    "print(type(mnist_test[0][0]),\"\\n\")\n",
    "print(\"Shape of Image:\", \"\\n\", mnist_test[0][0].shape,\"\\n\")\n",
    "print(\"Class: \")\n",
    "print(type(mnist_test[0][1]))\n",
    "print(\"Length of training set: \",len(mnist_test[0][0]),\"\\n\")\n",
    "mnist_test"
   ]
  },
  {
   "cell_type": "markdown",
   "metadata": {
    "id": "HBBoRk8Acel8"
   },
   "source": [
    "##### Data"
   ]
  },
  {
   "cell_type": "code",
   "execution_count": 8,
   "metadata": {
    "colab": {
     "base_uri": "https://localhost:8080/"
    },
    "id": "foTTNd3XcesK",
    "outputId": "16544c6e-83af-4564-ea34-813674fa78ca"
   },
   "outputs": [
    {
     "name": "stdout",
     "output_type": "stream",
     "text": [
      "Training Set of CIFAR:  \n",
      "\n",
      "Type of object that holds training data:\n",
      "<class 'torchvision.datasets.mnist.MNIST'> \n",
      "\n",
      "<class 'tuple'>\n",
      "Length of Tuple: in Torchvision Object:  \n",
      " 2 \n",
      "\n",
      "Image: \n",
      "<class 'torch.Tensor'> \n",
      "\n",
      "Shape of Image: \n",
      " torch.Size([1, 28, 28]) \n",
      "\n",
      "Class: \n",
      "<class 'int'>\n",
      "Length of training set:  1 \n",
      "\n"
     ]
    },
    {
     "data": {
      "text/plain": [
       "Dataset MNIST\n",
       "    Number of datapoints: 60000\n",
       "    Root location: \\data\n",
       "    Split: Train\n",
       "    StandardTransform\n",
       "Transform: ToTensor()"
      ]
     },
     "execution_count": 8,
     "metadata": {},
     "output_type": "execute_result"
    }
   ],
   "source": [
    "print(\"Training Set of CIFAR: \", \"\\n\")\n",
    "print(\"Type of object that holds training data:\")\n",
    "print(type(cifar_train),\"\\n\")\n",
    "print(type(cifar_train[0]))\n",
    "print(\"Length of Tuple: in Torchvision Object: \" ,\"\\n\" , len(cifar_train[0]),\"\\n\")\n",
    "print(\"Image: \")\n",
    "print(type(cifar_train[0][0]),\"\\n\")\n",
    "print(\"Shape of Image:\", \"\\n\", cifar_train[0][0].shape,\"\\n\")\n",
    "print(\"Class: \")\n",
    "print(type(cifar_train[0][1]))\n",
    "print(\"Length of training set: \",len(cifar_train[0][0]),\"\\n\")\n",
    "cifar_train"
   ]
  },
  {
   "cell_type": "markdown",
   "metadata": {
    "id": "AqZmps_lc2jR"
   },
   "source": [
    "##### Data"
   ]
  },
  {
   "cell_type": "code",
   "execution_count": 9,
   "metadata": {
    "colab": {
     "base_uri": "https://localhost:8080/"
    },
    "id": "-kzQ3de5c22z",
    "outputId": "9fcfb2e7-bcb6-4118-d7dc-41cdaf48bd9e"
   },
   "outputs": [
    {
     "name": "stdout",
     "output_type": "stream",
     "text": [
      "Testing Set of CIFAR:  \n",
      "\n",
      "Type of object that holds testing data:\n",
      "<class 'torchvision.datasets.mnist.MNIST'> \n",
      "\n",
      "<class 'torchvision.datasets.mnist.MNIST'> \n",
      "\n",
      "<class 'tuple'>\n",
      "Length of Tuple: in Torchvision Object:  \n",
      " 2 \n",
      "\n",
      "Image: \n",
      "<class 'torch.Tensor'> \n",
      "\n",
      "Shape of Image: \n",
      " torch.Size([1, 28, 28]) \n",
      "\n",
      "Class: \n",
      "<class 'int'>\n",
      "Length of training set:  1 \n",
      "\n"
     ]
    },
    {
     "data": {
      "text/plain": [
       "Dataset MNIST\n",
       "    Number of datapoints: 10000\n",
       "    Root location: \\data\n",
       "    Split: Test\n",
       "    StandardTransform\n",
       "Transform: ToTensor()"
      ]
     },
     "execution_count": 9,
     "metadata": {},
     "output_type": "execute_result"
    }
   ],
   "source": [
    "print(\"Testing Set of CIFAR: \", \"\\n\")\n",
    "print(\"Type of object that holds testing data:\")\n",
    "print(type(cifar_test),\"\\n\")\n",
    "print(type(cifar_test),\"\\n\")\n",
    "print(type(cifar_test[0]))\n",
    "print(\"Length of Tuple: in Torchvision Object: \" ,\"\\n\" , len(cifar_test[0]),\"\\n\")\n",
    "print(\"Image: \")\n",
    "print(type(cifar_test[0][0]),\"\\n\")\n",
    "print(\"Shape of Image:\", \"\\n\", cifar_test[0][0].shape,\"\\n\")\n",
    "print(\"Class: \")\n",
    "print(type(cifar_test[0][1]))\n",
    "print(\"Length of training set: \",len(cifar_test[0][0]),\"\\n\")\n",
    "cifar_test"
   ]
  },
  {
   "cell_type": "markdown",
   "metadata": {
    "id": "fzaCwP9AMiFY"
   },
   "source": [
    "##### PyTorch Image Classification Architectures"
   ]
  },
  {
   "cell_type": "markdown",
   "metadata": {
    "id": "w0eJffmLMKBB"
   },
   "source": [
    "##### Model 1 "
   ]
  },
  {
   "cell_type": "code",
   "execution_count": 10,
   "metadata": {
    "colab": {
     "base_uri": "https://localhost:8080/"
    },
    "id": "eo4z1VjxMKLr",
    "outputId": "3343bde7-e71f-47bf-8875-5d96e18ae959"
   },
   "outputs": [
    {
     "name": "stdout",
     "output_type": "stream",
     "text": [
      "----------------------------------------------------------------\n",
      "        Layer (type)               Output Shape         Param #\n",
      "================================================================\n",
      "            Conv2d-1           [-1, 32, 26, 26]             320\n",
      "            Conv2d-2           [-1, 64, 24, 24]          18,496\n",
      "         MaxPool2d-3           [-1, 64, 12, 12]               0\n",
      "           Dropout-4           [-1, 64, 12, 12]               0\n",
      "           Flatten-5                 [-1, 9216]               0\n",
      "            Linear-6                  [-1, 128]       1,179,776\n",
      "            Linear-7                   [-1, 10]           1,290\n",
      "           Softmax-8                   [-1, 10]               0\n",
      "================================================================\n",
      "Total params: 1,199,882\n",
      "Trainable params: 1,199,882\n",
      "Non-trainable params: 0\n",
      "----------------------------------------------------------------\n",
      "Input size (MB): 0.00\n",
      "Forward/backward pass size (MB): 0.66\n",
      "Params size (MB): 4.58\n",
      "Estimated Total Size (MB): 5.24\n",
      "----------------------------------------------------------------\n"
     ]
    },
    {
     "name": "stderr",
     "output_type": "stream",
     "text": [
      "/usr/local/lib/python3.7/dist-packages/torch/nn/modules/container.py:139: UserWarning: Implicit dimension choice for softmax has been deprecated. Change the call to include dim=X as an argument.\n",
      "  input = module(input)\n"
     ]
    }
   ],
   "source": [
    "model = nn.Sequential(\n",
    "    nn.Conv2d(1,32,kernel_size=3),\n",
    "    nn.Conv2d(32,64,kernel_size = 3),\n",
    "    nn.MaxPool2d(2),\n",
    "    nn.Dropout(.25),\n",
    "    nn.Flatten(),\n",
    "    nn.Linear(9216,128),\n",
    "    nn.Linear(128,10),\n",
    "    nn.Softmax()\n",
    "    )\n",
    "summary(model, (1, 28, 28))"
   ]
  },
  {
   "cell_type": "markdown",
   "metadata": {
    "id": "EM3wYG0JMKRq"
   },
   "source": [
    "##### Model 2 "
   ]
  },
  {
   "cell_type": "code",
   "execution_count": 11,
   "metadata": {
    "colab": {
     "base_uri": "https://localhost:8080/"
    },
    "id": "zeGTiDluMKXp",
    "outputId": "acc2783e-9db2-40ff-ab3e-99cfdb4fc2d9"
   },
   "outputs": [
    {
     "name": "stdout",
     "output_type": "stream",
     "text": [
      "----------------------------------------------------------------\n",
      "        Layer (type)               Output Shape         Param #\n",
      "================================================================\n",
      "            Conv2d-1           [-1, 32, 27, 27]             160\n",
      "         MaxPool2d-2           [-1, 32, 13, 13]               0\n",
      "            Conv2d-3           [-1, 64, 12, 12]           8,256\n",
      "         MaxPool2d-4             [-1, 64, 6, 6]               0\n",
      "            Conv2d-5            [-1, 128, 5, 5]          32,896\n",
      "           Dropout-6            [-1, 128, 5, 5]               0\n",
      "         MaxPool2d-7            [-1, 128, 5, 5]               0\n",
      "            Conv2d-8             [-1, 10, 3, 3]          11,530\n",
      "           Flatten-9                   [-1, 90]               0\n",
      "           Linear-10                   [-1, 10]             910\n",
      "================================================================\n",
      "Total params: 53,752\n",
      "Trainable params: 53,752\n",
      "Non-trainable params: 0\n",
      "----------------------------------------------------------------\n",
      "Input size (MB): 0.00\n",
      "Forward/backward pass size (MB): 0.38\n",
      "Params size (MB): 0.21\n",
      "Estimated Total Size (MB): 0.59\n",
      "----------------------------------------------------------------\n"
     ]
    }
   ],
   "source": [
    "model1 = nn.Sequential(\n",
    "    \n",
    "         nn.Conv2d(1,32,kernel_size = 2),\n",
    "         nn.MaxPool2d(2,2),\n",
    "         nn.Conv2d(32,64,kernel_size = 2),\n",
    "         nn.MaxPool2d(2,2),\n",
    "         nn.Conv2d(64,128,kernel_size = 2),\n",
    "         nn.Dropout(0.25),\n",
    "         nn.MaxPool2d(1,1),\n",
    "         nn.Conv2d(128,10,kernel_size = 3),\n",
    "         nn.Flatten(),\n",
    "         nn.Linear(90,10)\n",
    "         \n",
    "        )\n",
    "summary(model1,(1,28,28))"
   ]
  },
  {
   "cell_type": "markdown",
   "metadata": {
    "id": "WU4hhQsLMKdY"
   },
   "source": [
    "##### Model 3"
   ]
  },
  {
   "cell_type": "code",
   "execution_count": 12,
   "metadata": {
    "colab": {
     "base_uri": "https://localhost:8080/"
    },
    "id": "IlCDLdp9MKj4",
    "outputId": "5817a3ea-b1dc-4ae1-9d1f-a00904a3261a"
   },
   "outputs": [
    {
     "name": "stdout",
     "output_type": "stream",
     "text": [
      "----------------------------------------------------------------\n",
      "        Layer (type)               Output Shape         Param #\n",
      "================================================================\n",
      "            Conv2d-1           [-1, 32, 26, 26]             320\n",
      "            Conv2d-2           [-1, 64, 24, 24]          18,496\n",
      "         MaxPool2d-3           [-1, 64, 12, 12]               0\n",
      "           Dropout-4           [-1, 64, 12, 12]               0\n",
      "           Flatten-5                 [-1, 9216]               0\n",
      "            Linear-6                  [-1, 128]       1,179,776\n",
      "            Linear-7                   [-1, 10]           1,290\n",
      "================================================================\n",
      "Total params: 1,199,882\n",
      "Trainable params: 1,199,882\n",
      "Non-trainable params: 0\n",
      "----------------------------------------------------------------\n",
      "Input size (MB): 0.00\n",
      "Forward/backward pass size (MB): 0.66\n",
      "Params size (MB): 4.58\n",
      "Estimated Total Size (MB): 5.24\n",
      "----------------------------------------------------------------\n"
     ]
    }
   ],
   "source": [
    "model2 = nn.Sequential(\n",
    "    nn.Conv2d(1,32,kernel_size =3),\n",
    "    nn.Conv2d(32,64,kernel_size = 3),\n",
    "    nn.MaxPool2d(2),\n",
    "    nn.Dropout(0.25),\n",
    "    nn.Flatten(),\n",
    "    nn.Linear(9216,128),\n",
    "    nn.Linear(128,10))\n",
    "summary(model2,(1,28,28))"
   ]
  },
  {
   "cell_type": "markdown",
   "metadata": {
    "id": "KCiRLXjFP2B6"
   },
   "source": [
    "#### Pretrained Models"
   ]
  },
  {
   "cell_type": "markdown",
   "metadata": {
    "id": "R6_Hm2V3AaWV"
   },
   "source": [
    "##### Resnet"
   ]
  },
  {
   "cell_type": "code",
   "execution_count": 13,
   "metadata": {
    "colab": {
     "base_uri": "https://localhost:8080/",
     "height": 158,
     "referenced_widgets": [
      "b985b52e03ba487c9e564f7c685954b8",
      "54dc1e64ed184079b92e9341433636ba",
      "32a837ce601647b6bf352795b2dc8fcd",
      "1a91d3a8d9924e049a06a4c23cf53d04",
      "290221307fcf4ea1a2a7b13234e4dfcf",
      "98c3412d7f9f4cb88bbd649d03d8dd01",
      "a6f7d75e6bdd43a79b486a9f502dbafe",
      "e0c1e1660f604577b241f233714b4cb3",
      "6e966c64d9414852b62236856fc95bd5",
      "cd2d5f5ec90042eaafe435d2807cc117",
      "e10fcdd217144841bb2394e98c5c23a7"
     ]
    },
    "id": "iSfHZR7mAadC",
    "outputId": "f3e0c9d1-34b8-4efc-d86e-265a1b3fbf09"
   },
   "outputs": [
    {
     "name": "stderr",
     "output_type": "stream",
     "text": [
      "/usr/local/lib/python3.7/dist-packages/torchvision/models/_utils.py:209: UserWarning: The parameter 'pretrained' is deprecated since 0.13 and will be removed in 0.15, please use 'weights' instead.\n",
      "  f\"The parameter '{pretrained_param}' is deprecated since 0.13 and will be removed in 0.15, \"\n",
      "/usr/local/lib/python3.7/dist-packages/torchvision/models/_utils.py:223: UserWarning: Arguments other than a weight enum or `None` for 'weights' are deprecated since 0.13 and will be removed in 0.15. The current behavior is equivalent to passing `weights=ResNet50_Weights.IMAGENET1K_V1`. You can also use `weights=ResNet50_Weights.DEFAULT` to get the most up-to-date weights.\n",
      "  warnings.warn(msg)\n",
      "Downloading: \"https://download.pytorch.org/models/resnet50-0676ba61.pth\" to /root/.cache/torch/hub/checkpoints/resnet50-0676ba61.pth\n"
     ]
    },
    {
     "data": {
      "application/vnd.jupyter.widget-view+json": {
       "model_id": "b985b52e03ba487c9e564f7c685954b8",
       "version_major": 2,
       "version_minor": 0
      },
      "text/plain": [
       "  0%|          | 0.00/97.8M [00:00<?, ?B/s]"
      ]
     },
     "metadata": {},
     "output_type": "display_data"
    }
   ],
   "source": [
    "pre_trained_one = resnet50(pretrained=True)"
   ]
  },
  {
   "cell_type": "markdown",
   "metadata": {
    "id": "lkVimzy-1ebb"
   },
   "source": [
    "##### Inception"
   ]
  },
  {
   "cell_type": "code",
   "execution_count": 14,
   "metadata": {
    "colab": {
     "base_uri": "https://localhost:8080/",
     "height": 123,
     "referenced_widgets": [
      "aeaf8635e54b4ce3b70c29a942289dd9",
      "d3c3238c932547fbb96e72e7238c7077",
      "66865124e5ad4a1990a2a6c8a8f7f09d",
      "3b05188ea0ed4196b143d72a17dcac72",
      "23991f66b831436398ad00f46ac7e7ed",
      "4b646d149c4d4f9c868e4ca45223adc6",
      "b2c3dcb974da4f01bbdbb066319d3881",
      "a61f3735c0894455a75c0267183b249c",
      "da83689a331b4bb2a1fedb3d14cf5029",
      "fdb124a8f663412596ab9412ddbc400d",
      "611f5976678a4f2fb63d0be353bcc2ba"
     ]
    },
    "id": "kRrJ4cGkP2P7",
    "outputId": "24d2d4ef-dbae-42b9-d2df-8e3f7be92b4e"
   },
   "outputs": [
    {
     "name": "stderr",
     "output_type": "stream",
     "text": [
      "/usr/local/lib/python3.7/dist-packages/torchvision/models/_utils.py:223: UserWarning: Arguments other than a weight enum or `None` for 'weights' are deprecated since 0.13 and will be removed in 0.15. The current behavior is equivalent to passing `weights=Inception_V3_Weights.IMAGENET1K_V1`. You can also use `weights=Inception_V3_Weights.DEFAULT` to get the most up-to-date weights.\n",
      "  warnings.warn(msg)\n",
      "Downloading: \"https://download.pytorch.org/models/inception_v3_google-0cc3c7bd.pth\" to /root/.cache/torch/hub/checkpoints/inception_v3_google-0cc3c7bd.pth\n"
     ]
    },
    {
     "data": {
      "application/vnd.jupyter.widget-view+json": {
       "model_id": "aeaf8635e54b4ce3b70c29a942289dd9",
       "version_major": 2,
       "version_minor": 0
      },
      "text/plain": [
       "  0%|          | 0.00/104M [00:00<?, ?B/s]"
      ]
     },
     "metadata": {},
     "output_type": "display_data"
    }
   ],
   "source": [
    "pretrained_two = inception_v3(pretrained = True)"
   ]
  },
  {
   "cell_type": "markdown",
   "metadata": {
    "id": "TK_hYDdJ11ah"
   },
   "source": [
    "##### Alexnet "
   ]
  },
  {
   "cell_type": "code",
   "execution_count": 15,
   "metadata": {
    "colab": {
     "base_uri": "https://localhost:8080/",
     "height": 123,
     "referenced_widgets": [
      "30563638486a45f09734e556f5a372f8",
      "361e681fc3c54b479331abe4a421cadc",
      "2cef92f114eb4ba9b19edabcaf04e95a",
      "b3e29e16550b443db893e93ddb899d0b",
      "dfda102e9c01446a947f77c7e3899980",
      "ca9feec50d634e659d8de6c9b264ead4",
      "92f7a5235821400db52e1c822a4fd8dd",
      "6eebb3ff34f040a29080fc29a3910118",
      "6e9293371b204ffe90a7163c5ad7308e",
      "9a33756299c0460a9010d5f914c0408f",
      "2b1885d733ff4a94a2988da51926ee63"
     ]
    },
    "id": "LN1JNGfl11ka",
    "outputId": "755c0fd1-fd9e-43e8-87b9-d3b72ed71eae"
   },
   "outputs": [
    {
     "name": "stderr",
     "output_type": "stream",
     "text": [
      "/usr/local/lib/python3.7/dist-packages/torchvision/models/_utils.py:223: UserWarning: Arguments other than a weight enum or `None` for 'weights' are deprecated since 0.13 and will be removed in 0.15. The current behavior is equivalent to passing `weights=AlexNet_Weights.IMAGENET1K_V1`. You can also use `weights=AlexNet_Weights.DEFAULT` to get the most up-to-date weights.\n",
      "  warnings.warn(msg)\n",
      "Downloading: \"https://download.pytorch.org/models/alexnet-owt-7be5be79.pth\" to /root/.cache/torch/hub/checkpoints/alexnet-owt-7be5be79.pth\n"
     ]
    },
    {
     "data": {
      "application/vnd.jupyter.widget-view+json": {
       "model_id": "30563638486a45f09734e556f5a372f8",
       "version_major": 2,
       "version_minor": 0
      },
      "text/plain": [
       "  0%|          | 0.00/233M [00:00<?, ?B/s]"
      ]
     },
     "metadata": {},
     "output_type": "display_data"
    }
   ],
   "source": [
    "pretrained_three = alexnet(pretrained = True)"
   ]
  },
  {
   "cell_type": "code",
   "execution_count": 16,
   "metadata": {
    "id": "Mo02W_IoroRr"
   },
   "outputs": [],
   "source": [
    "'''\n",
    "Training loop \n",
    "'''\n",
    "\n",
    "def train_loop(dataloader, model, loss_fn, optimizer):\n",
    "    size = len(dataloader.dataset)\n",
    "    for batch, (X, y) in enumerate(dataloader):\n",
    "        pred = model(X)\n",
    "        loss = loss_fn(pred, y)\n",
    "        optimizer.zero_grad()\n",
    "        loss.backward()\n",
    "        optimizer.step()\n",
    "        if batch % 100 == 0:\n",
    "            loss, current = loss.item(), batch * len(X)   \n",
    "            print(f\"loss: {loss:>7f}  [{current:>5d}/{size:>5d}]\")"
   ]
  },
  {
   "cell_type": "markdown",
   "metadata": {
    "id": "Dt8NZtwTD6p7"
   },
   "source": [
    "##### Fit Models"
   ]
  },
  {
   "cell_type": "markdown",
   "metadata": {
    "id": "gMBOLkxZECgg"
   },
   "source": [
    "##### Model 1 "
   ]
  },
  {
   "cell_type": "code",
   "execution_count": 17,
   "metadata": {
    "colab": {
     "base_uri": "https://localhost:8080/"
    },
    "id": "YeRJJmP4gKIS",
    "outputId": "7a3cb51a-4af0-4002-a2be-e673e228a8c7"
   },
   "outputs": [
    {
     "name": "stdout",
     "output_type": "stream",
     "text": [
      "loss: 2.301851  [    0/60000]\n",
      "loss: 1.696005  [ 6400/60000]\n",
      "loss: 1.652009  [12800/60000]\n",
      "loss: 1.672037  [19200/60000]\n",
      "loss: 1.558798  [25600/60000]\n",
      "loss: 1.678201  [32000/60000]\n",
      "loss: 1.680095  [38400/60000]\n",
      "loss: 1.607520  [44800/60000]\n",
      "loss: 1.653228  [51200/60000]\n",
      "loss: 1.531702  [57600/60000]\n"
     ]
    }
   ],
   "source": [
    "loss = nn.CrossEntropyLoss()\n",
    "optimizer = optim.SGD(model.parameters(), lr=0.01, momentum=0.9)\n",
    "\n",
    "\n",
    "train_loop(mnist_train_dataloader,model,loss,optimizer)"
   ]
  },
  {
   "cell_type": "markdown",
   "metadata": {
    "id": "r3Yez8tOreMC"
   },
   "source": [
    "##### Model 2 "
   ]
  },
  {
   "cell_type": "code",
   "execution_count": 18,
   "metadata": {
    "colab": {
     "base_uri": "https://localhost:8080/"
    },
    "id": "PvktnVaIreTS",
    "outputId": "005ff8f4-1bf8-4e31-ec4f-65d9fc31ba2e"
   },
   "outputs": [
    {
     "name": "stdout",
     "output_type": "stream",
     "text": [
      "loss: 2.319665  [    0/60000]\n",
      "loss: 0.588359  [ 6400/60000]\n",
      "loss: 0.633649  [12800/60000]\n",
      "loss: 0.243716  [19200/60000]\n",
      "loss: 0.053423  [25600/60000]\n",
      "loss: 0.275494  [32000/60000]\n",
      "loss: 0.173673  [38400/60000]\n",
      "loss: 0.079950  [44800/60000]\n",
      "loss: 0.139862  [51200/60000]\n",
      "loss: 0.126684  [57600/60000]\n"
     ]
    }
   ],
   "source": [
    "loss = nn.CrossEntropyLoss()\n",
    "optimizer = optim.SGD(model1.parameters(), lr=0.01, momentum=0.9)\n",
    "\n",
    "\n",
    "train_loop(mnist_train_dataloader,model1,loss,optimizer)"
   ]
  },
  {
   "cell_type": "markdown",
   "metadata": {
    "id": "76vWffK1rea2"
   },
   "source": [
    "##### Model 3"
   ]
  },
  {
   "cell_type": "code",
   "execution_count": 19,
   "metadata": {
    "colab": {
     "base_uri": "https://localhost:8080/"
    },
    "id": "h1ecn0nDreh3",
    "outputId": "e0ea6388-fc95-428a-afb8-4224dd9b5a23"
   },
   "outputs": [
    {
     "name": "stdout",
     "output_type": "stream",
     "text": [
      "loss: 2.317847  [    0/60000]\n",
      "loss: 0.181968  [ 6400/60000]\n",
      "loss: 0.173752  [12800/60000]\n",
      "loss: 0.130666  [19200/60000]\n",
      "loss: 0.094154  [25600/60000]\n",
      "loss: 0.064325  [32000/60000]\n",
      "loss: 0.106237  [38400/60000]\n",
      "loss: 0.054620  [44800/60000]\n",
      "loss: 0.199892  [51200/60000]\n",
      "loss: 0.274951  [57600/60000]\n"
     ]
    }
   ],
   "source": [
    "loss = nn.CrossEntropyLoss()\n",
    "optimizer = optim.SGD(model2.parameters(), lr=0.01, momentum=0.9)\n",
    "\n",
    "\n",
    "train_loop(mnist_train_dataloader,model2,loss,optimizer)"
   ]
  },
  {
   "cell_type": "markdown",
   "metadata": {
    "id": "Go6lGy-tEJ0u"
   },
   "source": [
    "##### Pretrained Models"
   ]
  },
  {
   "cell_type": "markdown",
   "metadata": {
    "id": "bQz2jQwpRHZM"
   },
   "source": [
    "##### Resnet50"
   ]
  },
  {
   "cell_type": "code",
   "execution_count": 20,
   "metadata": {
    "id": "CBAcDSy6RHfr"
   },
   "outputs": [],
   "source": [
    "#loss = nn.CrossEntropyLoss()\n",
    "#optimizer = optim.SGD(pre_trained_one.parameters(), lr=0.01, momentum=0.9)\n",
    "\n",
    "\n",
    "#train_loop(mnist_train_dataloader,pre_trained_one,loss,optimizer)"
   ]
  },
  {
   "cell_type": "markdown",
   "metadata": {
    "id": "EbpFmPJNRHoh"
   },
   "source": [
    "##### Inception"
   ]
  },
  {
   "cell_type": "code",
   "execution_count": 21,
   "metadata": {
    "id": "TREeOh_FRHuP"
   },
   "outputs": [],
   "source": [
    "#loss = nn.CrossEntropyLoss()\n",
    "#optimizer = optim.SGD(pretrained_two.parameters(), lr=0.01, momentum=0.9)\n",
    "#train_loop(mnist_train_dataloader,pretrained_two,loss,optimizer)"
   ]
  },
  {
   "cell_type": "markdown",
   "metadata": {
    "id": "TH-C2ZTcRH1j"
   },
   "source": [
    "Alexnet"
   ]
  },
  {
   "cell_type": "code",
   "execution_count": 22,
   "metadata": {
    "id": "nW-5W6fCRH7h"
   },
   "outputs": [],
   "source": [
    "#loss = nn.CrossEntropyLoss()\n",
    "#optimizer = optim.SGD(pretrained_three.parameters(), lr=0.01, momentum=0.9)\n",
    "\n",
    "\n",
    "#train_loop(mnist_train_dataloader,pretrained_three,loss,optimizer)"
   ]
  },
  {
   "cell_type": "markdown",
   "metadata": {
    "id": "6yqur-ZUOEGL"
   },
   "source": [
    "#### Functions\n"
   ]
  },
  {
   "cell_type": "markdown",
   "metadata": {
    "id": "7RuPXdENsdeH"
   },
   "source": [
    "##### Small model that updates parameters with PyTorch."
   ]
  },
  {
   "cell_type": "code",
   "execution_count": null,
   "metadata": {
    "id": "d28cn7e8OEGL"
   },
   "outputs": [],
   "source": [
    "def apply_step(params,prn=True):\n",
    "    speed = time*3 + (time-9.5)**2 + 1\n",
    "    a,b,c = params \n",
    "    pred = a*(time**2) + b*time + c\n",
    "    loss = ((pred - speed)**2).mean()\n",
    "    loss.backward()\n",
    "    lr = 1e-5\n",
    "    params.grad\n",
    "    params.data -= lr * params.grad.data\n",
    "    params.grad=None\n",
    "    if prn: print(loss.item())\n",
    "    return pred"
   ]
  },
  {
   "cell_type": "markdown",
   "metadata": {
    "id": "_ofk5t1Eja8U"
   },
   "source": [
    "##### User inputs size and a matrix of weights is created with gradient being applied to functionality of matrix."
   ]
  },
  {
   "cell_type": "code",
   "execution_count": null,
   "metadata": {
    "id": "tiCki_tJjbFb"
   },
   "outputs": [],
   "source": [
    "def init_weights(size):\n",
    "    weights = (torch.randn(size)).requires_grad_()\n",
    "    return weights\n",
    "\n",
    "weights = init_weights(5)\n",
    "weights"
   ]
  },
  {
   "cell_type": "markdown",
   "metadata": {
    "id": "LF1mTE5cj-zW"
   },
   "source": [
    "##### Bias is applied to Artificial Neural Networks before each hidden layer and output layer to scale the input to relevant numerical value. "
   ]
  },
  {
   "cell_type": "code",
   "execution_count": null,
   "metadata": {
    "id": "NfhOF0Aij-64"
   },
   "outputs": [],
   "source": [
    "def bias():\n",
    "    bias = torch.randn(1)\n",
    "    return bias\n",
    "\n",
    "bias = bias()\n",
    "bias"
   ]
  },
  {
   "cell_type": "markdown",
   "metadata": {
    "id": "UqpeNj-pjz6P"
   },
   "source": [
    "##### Input weights and learning rate. Set new variable of weights by taking gradient and multiplying by learning rate (to scale). "
   ]
  },
  {
   "cell_type": "code",
   "execution_count": null,
   "metadata": {
    "id": "qSzRNxf3j0A-"
   },
   "outputs": [],
   "source": [
    "def update(lr,weights):\n",
    "    new_weights -= weights.grad * lr\n",
    "    return new_weights"
   ]
  },
  {
   "cell_type": "markdown",
   "metadata": {
    "id": "QwrcLj7CRA_l"
   },
   "source": [
    "##### L1 Loss "
   ]
  },
  {
   "cell_type": "code",
   "execution_count": null,
   "metadata": {
    "id": "LktCPECQEycA"
   },
   "outputs": [],
   "source": [
    "def L1_loss(average,real):\n",
    "    result = (average - real).abs().mean()\n",
    "    return result\n",
    "\n",
    "L1_loss(average_3s,stacked_3s[0])\n",
    "L1_loss(average_7s,stacked_7s[0])"
   ]
  },
  {
   "cell_type": "markdown",
   "metadata": {
    "id": "1pO3mitPimQC"
   },
   "source": [
    "\n",
    "##### Tabular Data\n",
    "$\\sum\\limits_{i=1}^{n} |y_t - y_i|$\n",
    "\n",
    "##### Image Data\n",
    "$\\sum\\limits_{i=1}^{n} |\\overrightarrow{y_t} - \\overrightarrow{y_i}|$ "
   ]
  },
  {
   "cell_type": "markdown",
   "metadata": {
    "id": "H1rXQ1nlj0gW"
   },
   "source": [
    "##### Mean Squared Error\n"
   ]
  },
  {
   "cell_type": "code",
   "execution_count": null,
   "metadata": {
    "id": "78BvVsd3E5OY"
   },
   "outputs": [],
   "source": [
    "def mean_sq_error_loss(average,real):    \n",
    "    result = ((average-real)**2).sqrt().mean()\n",
    "    return result"
   ]
  },
  {
   "cell_type": "markdown",
   "metadata": {
    "id": "mjSKfJuujXHZ"
   },
   "source": [
    "\n",
    "Tabular Data \n",
    "\n",
    "$\\sum\\limits_{i=1}^{n} \\sqrt{(y_t - y_i)^2}$\n",
    "\n",
    "Image Data\n",
    "\n",
    "$\\sum\\limits_{i=1}^{n} \\sqrt{(\\overrightarrow{y_t} - \\overrightarrow{y_i})^2}$"
   ]
  },
  {
   "cell_type": "markdown",
   "metadata": {
    "id": "9VmulNIMM-yd"
   },
   "source": [
    "##### Sigmoid"
   ]
  },
  {
   "cell_type": "code",
   "execution_count": null,
   "metadata": {
    "id": "B1OYn8DvEreI"
   },
   "outputs": [],
   "source": [
    "def sigmoid(x):\n",
    "    return 1/(1+torch.exp(-x))"
   ]
  },
  {
   "cell_type": "markdown",
   "metadata": {
    "id": "nLoGiNWvnih-"
   },
   "source": [
    "\n",
    "##### Images\n",
    "$ 1.   f(x;\\theta) = \\frac{1}{1 + \\exp\\left(-\\theta^{T} x\\right)} $"
   ]
  },
  {
   "cell_type": "markdown",
   "metadata": {
    "id": "U_J48LTGMVEx"
   },
   "source": [
    "##### Tabular \n",
    "$2.  f(x) = \\frac{1}{1 + \\exp\\left(- x\\right)} $"
   ]
  },
  {
   "cell_type": "code",
   "execution_count": null,
   "metadata": {
    "colab": {
     "base_uri": "https://localhost:8080/",
     "height": 299
    },
    "id": "2DiG2Aq3K267",
    "outputId": "1b767f98-e093-4eae-a802-39d7cbcaab68"
   },
   "outputs": [
    {
     "data": {
      "text/plain": [
       "Text(0.5, 1.0, 'Sigmoid')"
      ]
     },
     "execution_count": 38,
     "metadata": {},
     "output_type": "execute_result"
    },
    {
     "data": {
      "image/png": "[encoded data removed]",
      "text/plain": [
       "<Figure size 432x288 with 1 Axes>"
      ]
     },
     "metadata": {
      "needs_background": "light"
     },
     "output_type": "display_data"
    }
   ],
   "source": [
    "x = torch.arange(-5,5,0.1)\n",
    "y = sigmoid(x)\n",
    "plt.plot(x,y)\n",
    "plt.title(\"Sigmoid\")"
   ]
  },
  {
   "cell_type": "markdown",
   "metadata": {
    "id": "kWec6g6-7Gsg"
   },
   "source": [
    "##### Loading many images from a folder, opening them using PIL, transforming into tensors. Stacking the tensors created from the folder, and converting values in each tensor to float. \n"
   ]
  },
  {
   "cell_type": "code",
   "execution_count": null,
   "metadata": {
    "id": "RfxJuY3f7GyD"
   },
   "outputs": [],
   "source": [
    "def load_data(folder_name):\n",
    "    training_tensor = [tensor(Image.open(i)) for i in folder_name]\n",
    "    training_stack = ((torch.stack(training_tensor)).float())\n",
    "    return training_stack"
   ]
  },
  {
   "cell_type": "markdown",
   "metadata": {
    "id": "L26fm1G97G3k"
   },
   "source": [
    "##### Concatinating different training stacks. Takes in multiple stacked tensors and creates another stacked tensor."
   ]
  },
  {
   "cell_type": "code",
   "execution_count": null,
   "metadata": {
    "id": "YP8rcKxo7G8p"
   },
   "outputs": [],
   "source": [
    "def training_data(*args):\n",
    "    training = (torch.cat(args))\n",
    "    return training"
   ]
  },
  {
   "cell_type": "markdown",
   "metadata": {
    "id": "5o3HJ3HT7HCr"
   },
   "source": [
    "##### Takes in object from load_data method. Returns row and column shape of the Tensor. "
   ]
  },
  {
   "cell_type": "code",
   "execution_count": null,
   "metadata": {
    "id": "SKQqcai17HIX"
   },
   "outputs": [],
   "source": [
    "def size(training_stack):\n",
    "    size = ((training_stack.shape)[1]) * (training_stack.shape[2])\n",
    "    return size"
   ]
  },
  {
   "cell_type": "markdown",
   "metadata": {
    "id": "pAFL3a4p7Hir"
   },
   "source": [
    "##### Return shape of data that is a stock of tensors. The size of the images. TBD if this is correct **"
   ]
  },
  {
   "cell_type": "code",
   "execution_count": null,
   "metadata": {
    "id": "SuOjgw0n7Hn7"
   },
   "outputs": [],
   "source": [
    "def transform_data_for_model(training_stack):\n",
    "    result = training_stack[1] * training_stack[2]\n",
    "    return result"
   ]
  },
  {
   "cell_type": "markdown",
   "metadata": {
    "id": "-5sM_yfT7Hsk"
   },
   "source": [
    "##### Multiplying a group of weights by a training tensor while adding bias. Tensor must be of shape 784. TBD**   "
   ]
  },
  {
   "cell_type": "code",
   "execution_count": null,
   "metadata": {
    "id": "7l6oEjGU7HxQ"
   },
   "outputs": [],
   "source": [
    "def matrix_multiply(training_stack):\n",
    "    new_training_stack = (training_stack).view(-1,784)\n",
    "    pred = ((new_training_stack) @ weights) + bias\n",
    "    return pred"
   ]
  },
  {
   "cell_type": "markdown",
   "metadata": {
    "id": "MrRZTw1r7IAZ"
   },
   "source": [
    "##### Mean Absolute Error Loss Function"
   ]
  },
  {
   "cell_type": "code",
   "execution_count": null,
   "metadata": {
    "id": "_Ch7tMLx7IGF"
   },
   "outputs": [],
   "source": [
    "def loss(pred,target):\n",
    "    loss = (pred-target).abs().mean()\n",
    "    return loss"
   ]
  },
  {
   "cell_type": "markdown",
   "metadata": {
    "id": "J41eqwnT7IU8"
   },
   "source": [
    "##### Returning shape of images"
   ]
  },
  {
   "cell_type": "code",
   "execution_count": null,
   "metadata": {
    "id": "TZyl459M7IZ4"
   },
   "outputs": [],
   "source": [
    "def size_of_image(image):\n",
    "    image_size = image.shape\n",
    "    return image_size"
   ]
  },
  {
   "cell_type": "markdown",
   "metadata": {
    "id": "YfjNmGFJ7Ie1"
   },
   "source": [
    "##### Convolving over an image. Given image shape and kernel as a tensor."
   ]
  },
  {
   "cell_type": "code",
   "execution_count": null,
   "metadata": {
    "id": "1HqIiRtm7Ikj"
   },
   "outputs": [],
   "source": [
    "def apply_kernel(row,col,kernel):\n",
    "    convolution = (img[row-1:row+2,col-1:col+2] * kernel).sum()\n",
    "    return convolution"
   ]
  },
  {
   "cell_type": "markdown",
   "metadata": {
    "id": "wNa0KBfO7Ipg"
   },
   "source": [
    "##### Using Apply Kernel Function."
   ]
  },
  {
   "cell_type": "code",
   "execution_count": null,
   "metadata": {
    "id": "jqgJdBdQ7Iv8"
   },
   "outputs": [],
   "source": [
    "def convolution_top(x,y):\n",
    "    rng = (x,y)\n",
    "    top_edge = tensor([[apply_kernel(i,j,top_edge) for j in rng] for i in rng])\n",
    "    return top_edge"
   ]
  },
  {
   "cell_type": "markdown",
   "metadata": {
    "id": "fVWTAnrI7I0t"
   },
   "source": [
    "##### Calculating row shape after applying symmetrical kernel to image. TBD** "
   ]
  },
  {
   "cell_type": "code",
   "execution_count": null,
   "metadata": {
    "id": "ui4cjIh87I7R"
   },
   "outputs": [],
   "source": [
    "def row(padding, stride, height):\n",
    "    new_row = (height + padding) // stride\n",
    "    return new_row"
   ]
  },
  {
   "cell_type": "markdown",
   "metadata": {
    "id": "2cylQX_A7JA7"
   },
   "source": [
    "##### Calculating column shape after applying symmetrical kernel to image.  TBD**"
   ]
  },
  {
   "cell_type": "code",
   "execution_count": null,
   "metadata": {
    "id": "CN4OHEc87JFY"
   },
   "outputs": [],
   "source": [
    "def column(padding,stride,height):\n",
    "    new_column = (height + padding) // stride\n",
    "    return new_column"
   ]
  },
  {
   "cell_type": "markdown",
   "metadata": {
    "id": "s0cVVK9t7JWT"
   },
   "source": [
    "##### Calculating output shape. "
   ]
  },
  {
   "cell_type": "code",
   "execution_count": null,
   "metadata": {
    "id": "8CnECBP57Ja_"
   },
   "outputs": [],
   "source": [
    "def output_shape(w,n,p,f):\n",
    "    output = int((W - K + (2*P))/(S + 1))\n",
    "    new_output = (w - n + (2*p) - f) + 1\n",
    "    return new_output"
   ]
  },
  {
   "cell_type": "markdown",
   "metadata": {
    "id": "iKrlFyGh7JhP"
   },
   "source": [
    "##### Top line kernel."
   ]
  },
  {
   "cell_type": "code",
   "execution_count": null,
   "metadata": {
    "id": "q9KT6xTM7JmL"
   },
   "outputs": [],
   "source": [
    "def top_edge():\n",
    "    top_edge = (tensor([1,1,1],[0,0,0],[-1,-1,-1])).float()\n",
    "    return top_edge"
   ]
  },
  {
   "cell_type": "markdown",
   "metadata": {
    "id": "Ymh-nQe97JrZ"
   },
   "source": [
    "##### Bottom Line Kernel."
   ]
  },
  {
   "cell_type": "code",
   "execution_count": null,
   "metadata": {
    "id": "LlKc3Pai7Jx5"
   },
   "outputs": [],
   "source": [
    "def bottom_edge():\n",
    "    bottom_edge = (tensor([-1,-1,-1],[0,0,0],[1,1,1])).float()\n",
    "    return bottom_edge"
   ]
  },
  {
   "cell_type": "markdown",
   "metadata": {
    "id": "7QIx9NoC7J24"
   },
   "source": [
    "##### Right Line Kernel. "
   ]
  },
  {
   "cell_type": "code",
   "execution_count": null,
   "metadata": {
    "id": "WhmFeE237J8W"
   },
   "outputs": [],
   "source": [
    "def right_edge():\n",
    "    right_edge = (tensor([-1,0,1],[-1,0,1],[-1,0,1])).float()\n",
    "    return right_edge"
   ]
  },
  {
   "cell_type": "markdown",
   "metadata": {
    "id": "U-YPcZM87KBi"
   },
   "source": [
    "##### Left Line Kernel."
   ]
  },
  {
   "cell_type": "code",
   "execution_count": null,
   "metadata": {
    "id": "fWWdyz4m7KHQ"
   },
   "outputs": [],
   "source": [
    "def left_edge():\n",
    "    left_edge = (tensor([1,0,-1],[1,0,-1],[1,0,-1])).float()\n",
    "    return left_edge"
   ]
  },
  {
   "cell_type": "markdown",
   "metadata": {
    "id": "V02cctFf7KL9"
   },
   "source": [
    "##### Left to Right Diagonal Line. "
   ]
  },
  {
   "cell_type": "code",
   "execution_count": null,
   "metadata": {
    "id": "7sCywo2e7KSt"
   },
   "outputs": [],
   "source": [
    "def diag1_edge():\n",
    "    diag1_edge = (tensor([1,0,-1],[0,1,0],[-1,0,1])).float()\n",
    "    return diag1_edge"
   ]
  },
  {
   "cell_type": "markdown",
   "metadata": {
    "id": "BY_3-oXz_i7L"
   },
   "source": [
    "##### Parameters to be updated for model, given size as an input. "
   ]
  },
  {
   "cell_type": "code",
   "execution_count": null,
   "metadata": {
    "id": "2xTvZ6AFOEGM"
   },
   "outputs": [],
   "source": [
    "def init_params(size,std=1.0): \n",
    "    params = (torch.randn(size)*std).requires_grad_() \n",
    "    return params"
   ]
  },
  {
   "cell_type": "markdown",
   "metadata": {
    "id": "7Tn7ZFk14fM0"
   },
   "source": [
    "##### Matrix Multiplication"
   ]
  },
  {
   "cell_type": "code",
   "execution_count": null,
   "metadata": {
    "id": "7X64Pm-t4fV4"
   },
   "outputs": [],
   "source": [
    "def linear1(xb,weights,bias):\n",
    "    result = xb@weights + bias\n",
    "    return result"
   ]
  },
  {
   "cell_type": "markdown",
   "metadata": {
    "id": "EHB4-6914jQr"
   },
   "source": [
    "##### Iterates through variables that stores images and converts to image object, then tensor and saves in list."
   ]
  },
  {
   "cell_type": "code",
   "execution_count": null,
   "metadata": {
    "id": "QtQUT8eg4jY-"
   },
   "outputs": [],
   "source": [
    "stacked_valid3s = [tensor(Image.open(o)) for o in valid_3s]\n",
    "stacked_valid7s = [tensor(Image.open(o)) for o in valid_7s]"
   ]
  },
  {
   "cell_type": "markdown",
   "metadata": {
    "id": "QIqKKjAv4jhE"
   },
   "source": [
    "##### Converts tensors saved in list and saves them into a tensor (stacked) and converts all values to floats, then scales. "
   ]
  },
  {
   "cell_type": "code",
   "execution_count": null,
   "metadata": {
    "id": "hD6SjpgW4joX"
   },
   "outputs": [],
   "source": [
    "stacked_3s = torch.stack(stacked_3s).float()/255\n",
    "stacked_7s = torch.stack(stacked_7s).float()/255"
   ]
  },
  {
   "cell_type": "markdown",
   "metadata": {
    "id": "ZcoGriwU4jwK"
   },
   "source": [
    "##### Gets the average of all Tensors in the stacked tensor object. (Training data)"
   ]
  },
  {
   "cell_type": "code",
   "execution_count": null,
   "metadata": {
    "id": "OJv5yK2v4j3f"
   },
   "outputs": [],
   "source": [
    "average_3s = (stacked_3s).mean(0)\n",
    "average_7s = (stacked_7s).mean(0)"
   ]
  },
  {
   "cell_type": "markdown",
   "metadata": {
    "id": "sEQg7eCF4kAU"
   },
   "source": [
    "##### Gets the average of all Tensors in the stacked tensor object. (Validation Data)"
   ]
  },
  {
   "cell_type": "code",
   "execution_count": null,
   "metadata": {
    "id": "7ngHFKbT4kI6"
   },
   "outputs": [],
   "source": [
    "average_valid3s = (stacked_valid3s).mean(0)\n",
    "average_valid7s = (stacked_valid7s).mean(0)"
   ]
  },
  {
   "cell_type": "markdown",
   "metadata": {
    "id": "QPlfrkRW4kQu"
   },
   "source": [
    "##### Calculates loss of first image in training data and first image in 'averaged training data' using L1 technique."
   ]
  },
  {
   "cell_type": "code",
   "execution_count": null,
   "metadata": {
    "colab": {
     "base_uri": "https://localhost:8080/"
    },
    "id": "jaCVl-fk4kYj",
    "outputId": "c41230dc-d03f-4b6d-b858-368cabd69b1f"
   },
   "outputs": [
    {
     "data": {
      "text/plain": [
       "tensor(38.8817)"
      ]
     },
     "execution_count": 68,
     "metadata": {},
     "output_type": "execute_result"
    }
   ],
   "source": [
    "L1_loss(average_3s,stacked_3s[0])\n",
    "L1_loss(average_7s,stacked_7s[0])"
   ]
  },
  {
   "cell_type": "markdown",
   "metadata": {
    "id": "Ih-jzDW34kg3"
   },
   "source": [
    "##### Calculates loss of first image in validation data and first image in 'averaged validation data' using L1 technique."
   ]
  },
  {
   "cell_type": "code",
   "execution_count": null,
   "metadata": {
    "id": "gY495cZZ4kpe"
   },
   "outputs": [],
   "source": [
    "L1_loss(average_valid_3s,stacked_valid_3s[0])\n",
    "L1_loss(average_valid_7s,stacked_valid_7s[0])"
   ]
  },
  {
   "cell_type": "markdown",
   "metadata": {
    "id": "HJBtLIME4w8e"
   },
   "source": [
    "\n",
    "##### Calculates loss of first image in training data and first image in 'averaged training data' using Mean Squared Error technique.\n"
   ]
  },
  {
   "cell_type": "code",
   "execution_count": null,
   "metadata": {
    "colab": {
     "base_uri": "https://localhost:8080/"
    },
    "id": "oaubwtJu4xDN",
    "outputId": "e055a714-9018-4c4b-abef-3201f565aa7d"
   },
   "outputs": [
    {
     "data": {
      "text/plain": [
       "tensor(38.8817)"
      ]
     },
     "execution_count": 71,
     "metadata": {},
     "output_type": "execute_result"
    }
   ],
   "source": [
    "mean_sq_error_loss(average_3s,stacked_3s[0])\n",
    "mean_sq_error_loss(average_7s,stacked_7s[0])"
   ]
  },
  {
   "cell_type": "markdown",
   "metadata": {
    "id": "xFrPuFTK4xJu"
   },
   "source": [
    "##### Calculates loss of first image in validation data and first image in 'averaged validation data' using Mean Squared Error technique."
   ]
  },
  {
   "cell_type": "code",
   "execution_count": null,
   "metadata": {
    "id": "jQwGsoRl4xQf"
   },
   "outputs": [],
   "source": [
    "mean_sq_error_loss(average_valid_3s,stacked_valid_3s[0])\n",
    "mean_sq_error_loss(average_valid_7s,stacked_valid_7s[0])"
   ]
  },
  {
   "cell_type": "code",
   "execution_count": null,
   "metadata": {
    "id": "0X4zW1GogImZ"
   },
   "outputs": [],
   "source": []
  },
  {
   "cell_type": "markdown",
   "metadata": {
    "id": "5lJib8pi4xXA"
   },
   "source": [
    "### Pytorch Out of The Box Functions"
   ]
  },
  {
   "cell_type": "markdown",
   "metadata": {
    "id": "1b8VWuBIrv45"
   },
   "source": [
    "##### L1 Loss function applied to training data and averaged training data. "
   ]
  },
  {
   "cell_type": "code",
   "execution_count": null,
   "metadata": {
    "colab": {
     "base_uri": "https://localhost:8080/"
    },
    "id": "10numEJq4xdj",
    "outputId": "3bce5e00-63e0-4137-ec74-462c770a7d5f"
   },
   "outputs": [
    {
     "data": {
      "text/plain": [
       "tensor(38.8817)"
      ]
     },
     "execution_count": 74,
     "metadata": {},
     "output_type": "execute_result"
    }
   ],
   "source": [
    "F.l1_loss(average_3s,stacked_3s[0])\n",
    "F.l1_loss(average_7s,stacked_7s[0])"
   ]
  },
  {
   "cell_type": "markdown",
   "metadata": {
    "id": "Je6fKGTk4xlW"
   },
   "source": [
    "##### L1 Loss function applied to validation data and averaged validation data. "
   ]
  },
  {
   "cell_type": "code",
   "execution_count": null,
   "metadata": {
    "id": "o4Fr1O6I4xsF"
   },
   "outputs": [],
   "source": [
    "F.l1_loss(average_valid_3s,stacked_valid_3s[0])\n",
    "F.l1_loss(average_valid_7s,stacked_valid_7s[0])"
   ]
  },
  {
   "cell_type": "markdown",
   "metadata": {
    "id": "BxVjrrtj4xzY"
   },
   "source": [
    "##### Mean Squared Error Loss function applied to training data and averaged training data. "
   ]
  },
  {
   "cell_type": "code",
   "execution_count": null,
   "metadata": {
    "colab": {
     "base_uri": "https://localhost:8080/"
    },
    "id": "gsIQ4uGB4x6r",
    "outputId": "244bdec2-81f3-4314-8cf6-1d8e49f87aaf"
   },
   "outputs": [
    {
     "data": {
      "text/plain": [
       "tensor(8844.8926)"
      ]
     },
     "execution_count": 77,
     "metadata": {},
     "output_type": "execute_result"
    }
   ],
   "source": [
    "F.mse_loss(average_3s,stacked_3s[0])\n",
    "F.mse_loss(average_7s,stacked_7s[0])"
   ]
  },
  {
   "cell_type": "markdown",
   "metadata": {
    "id": "6DD_xxFf5NXc"
   },
   "source": [
    "##### Mean Squared Error Loss function applied to validation data and averaged validation data. "
   ]
  },
  {
   "cell_type": "code",
   "execution_count": null,
   "metadata": {
    "id": "oyt5aYBW5NeN"
   },
   "outputs": [],
   "source": [
    "F.mse_loss(average_valid_3s,stacked_valid_3s[0])\n",
    "F.mse_loss(average_valid_7s,stacked_valid_7s[0])"
   ]
  },
  {
   "cell_type": "markdown",
   "metadata": {
    "id": "WRjbEL5E5Nke"
   },
   "source": []
  },
  {
   "cell_type": "code",
   "execution_count": null,
   "metadata": {
    "id": "iw7yK5Ye5Nqu"
   },
   "outputs": [],
   "source": [
    "weights = init_params(28*28,1)\n",
    "bias = init_params(1)"
   ]
  },
  {
   "cell_type": "markdown",
   "metadata": {
    "id": "U5SO1VvL5Nxf"
   },
   "source": [
    "##### Calculating Predictions based on MNIST dataset."
   ]
  },
  {
   "cell_type": "code",
   "execution_count": null,
   "metadata": {
    "id": "stpKXm-65N3v"
   },
   "outputs": [],
   "source": [
    "def mnist_loss(predictions,targets):\n",
    "    predictions=predictions.sigmoid()\n",
    "    return torch.where(targets==1,1-predictions,predictions).mean()"
   ]
  },
  {
   "cell_type": "markdown",
   "metadata": {
    "id": "n40N5xAp7KeL"
   },
   "source": [
    "##### Given a model, calculate loss and take derivative of loss function w.r.t weights for updating."
   ]
  },
  {
   "cell_type": "code",
   "execution_count": null,
   "metadata": {
    "id": "5e4fjRKf5OqQ"
   },
   "outputs": [],
   "source": [
    "def calc_grad(xb,yb,model):\n",
    "    preds=model(xb)\n",
    "    loss = mnist_loss(preds,yb)\n",
    "    loss.backward()"
   ]
  },
  {
   "cell_type": "markdown",
   "metadata": {
    "id": "uRtpB1hZ5OwP"
   },
   "source": [
    "##### Given a dataloader object, learning rate, and parameters; iterate through (examples and targets) dataloader, take derivative of loss w.r.t. weights, and iterate through parameters and update each parameters according to learning rate and gradient calculated."
   ]
  },
  {
   "cell_type": "markdown",
   "metadata": {
    "id": "u75JwjF35O8O"
   },
   "source": [
    "##### Training a model. "
   ]
  },
  {
   "cell_type": "code",
   "execution_count": null,
   "metadata": {
    "id": "EbzG_Hmi5PB8"
   },
   "outputs": [],
   "source": [
    "def train_model(model,epochs):\n",
    "    for i in range(epochs):\n",
    "        train_epoch(model)\n",
    "        print(validate_epoch(model),end=' ')"
   ]
  },
  {
   "cell_type": "markdown",
   "metadata": {
    "id": "PFNk_as552qd"
   },
   "source": []
  },
  {
   "cell_type": "code",
   "execution_count": null,
   "metadata": {
    "id": "stks4ZVi521I"
   },
   "outputs": [],
   "source": [
    "def batch_accuracy(xb,yb):\n",
    "    preds = xb.sigmoid()\n",
    "    correct = (preds>.5)==yb\n",
    "    return correct.float().mean()"
   ]
  },
  {
   "cell_type": "markdown",
   "metadata": {
    "id": "MSY-wssv53Fz"
   },
   "source": [
    "##### Getting batch accuracy of model, based on dataloader data. "
   ]
  },
  {
   "cell_type": "code",
   "execution_count": null,
   "metadata": {
    "id": "pZbncgVF53Lf"
   },
   "outputs": [],
   "source": [
    "def validate_epoch(model):\n",
    "    accs = [batch_accuracy(model(xb),yb) for xb,yb in valid_dl]\n",
    "    return round(torch.stack(accs).mean().item(),4)"
   ]
  },
  {
   "cell_type": "markdown",
   "metadata": {
    "id": "58YWz8-H53Q9"
   },
   "source": [
    "###### Matrix multiplication in PyTorch. "
   ]
  },
  {
   "cell_type": "code",
   "execution_count": null,
   "metadata": {
    "id": "4mI267bn53Wb"
   },
   "outputs": [],
   "source": [
    "def simple_net(xb):\n",
    "    res = xb@w1 + b1\n",
    "    res = res.max(tensor(0.0))\n",
    "    res = res@w2 + b2\n",
    "    return res"
   ]
  },
  {
   "cell_type": "markdown",
   "metadata": {
    "id": "3jr_zAjtCzCA"
   },
   "source": [
    "###### Train Loop"
   ]
  },
  {
   "cell_type": "code",
   "execution_count": null,
   "metadata": {
    "id": "8TazmVhdCzKF"
   },
   "outputs": [],
   "source": [
    "def train_loop(dataloader, model, loss_fn, optimizer):\n",
    "    size = len(dataloader.dataset)\n",
    "    for batch, (X, y) in enumerate(dataloader):\n",
    "        pred = model(X)\n",
    "        loss = loss_fn(pred, y)\n",
    "        optimizer.zero_grad()\n",
    "        loss.backward()\n",
    "        optimizer.step()\n",
    "        if batch % 100 == 0:\n",
    "            loss, current = loss.item(), batch * len(X)   \n",
    "            print(f\"loss: {loss:>7f}  [{current:>5d}/{size:>5d}]\")"
   ]
  },
  {
   "cell_type": "markdown",
   "metadata": {
    "id": "z-LYVfRjCtJL"
   },
   "source": [
    "##### Test Loop"
   ]
  },
  {
   "cell_type": "code",
   "execution_count": null,
   "metadata": {
    "id": "7h9TJGDDCtQu"
   },
   "outputs": [],
   "source": [
    "def test_loop(dataloader, model, loss_fn):\n",
    "    size = len(dataloader.dataset)\n",
    "    num_batches = len(dataloader)\n",
    "    test_loss, correct = 0, 0\n",
    "    with torch.no_grad():\n",
    "        for X, y in dataloader:\n",
    "            pred = model(X)\n",
    "            test_loss += loss_fn(pred, y).item()\n",
    "            correct += (pred.argmax(1) == y).type(torch.float).sum().item()"
   ]
  },
  {
   "cell_type": "markdown",
   "metadata": {
    "id": "EkAeircAhV9b"
   },
   "source": []
  },
  {
   "cell_type": "code",
   "execution_count": null,
   "metadata": {
    "id": "pDdQArMUhWPY"
   },
   "outputs": [],
   "source": [
    "class Training:\n",
    "\n",
    "    def __init__(self,dataloader,batch):\n",
    "        self.dataloader = dataloader\n",
    "\n",
    "    def predict(model,loss):\n",
    "        for batch, (x,y) in enumerate(dataloader):\n",
    "            pred = model(x)\n",
    "            result = loss(pred,y)\n",
    "    \n",
    "    def measure(optimizer):\n",
    "        # zero out optimizer?\n",
    "        optimizer.zero_grad()\n",
    "        result.backward()\n",
    "        optimizer.step()\n",
    "        loss.item()\n",
    "    \n",
    "    \n",
    "\n",
    "\n"
   ]
  },
  {
   "cell_type": "markdown",
   "metadata": {
    "id": "Wki0xltw5yoR"
   },
   "source": [
    "##### Class for updating weights. "
   ]
  },
  {
   "cell_type": "code",
   "execution_count": null,
   "metadata": {
    "id": "fPLGm3SU53iq"
   },
   "outputs": [],
   "source": [
    "class BasicOptim:\n",
    "    \n",
    "    def __init__(self,params,lr): \n",
    "        self.params,self.lr = list(params),lr\n",
    "        \n",
    "    def step(self,*args,**kwargs):\n",
    "        for p in self.params:\n",
    "            p.data-=p.grad.data *self.lr\n",
    "    \n",
    "    def zero_grad(self,*args,**kwargs):\n",
    "        for p in self.params:\n",
    "            p.grad = None"
   ]
  },
  {
   "cell_type": "markdown",
   "metadata": {
    "id": "yYTIcw4YeTXm"
   },
   "source": [
    "##### Class for Neural Network: 200 feature inputs, 10 outputs, Relu and Softmax for activation functions."
   ]
  },
  {
   "cell_type": "code",
   "execution_count": null,
   "metadata": {
    "colab": {
     "base_uri": "https://localhost:8080/"
    },
    "id": "1qqTyuyleTfK",
    "outputId": "8d64b8b0-dc26-4435-d87e-aecad06483e8"
   },
   "outputs": [
    {
     "name": "stdout",
     "output_type": "stream",
     "text": [
      "<__main__.Model object at 0x7f47b64d2310>\n"
     ]
    }
   ],
   "source": [
    "class Model():\n",
    "\n",
    "    def __init__(self):\n",
    "        self.linear = torch.nn.Linear(100,200)\n",
    "        self.activation = torch.nn.ReLU()\n",
    "        self.linear2 = torch.nn.Linear(200,10)\n",
    "        self.softmax = torch.nn.Softmax()\n",
    "\n",
    "    def forward(self,x):\n",
    "        x = self.linear(x)\n",
    "        x = self.activation(x)\n",
    "        x = self.linear2(x)\n",
    "        x = self.softmax(x)\n",
    "        return x\n",
    "\n",
    "tiny_model = Model()\n",
    "print(tiny_model)"
   ]
  },
  {
   "cell_type": "markdown",
   "metadata": {
    "id": "JzelUBk7eTmq"
   },
   "source": []
  },
  {
   "cell_type": "code",
   "execution_count": null,
   "metadata": {
    "id": "VfcbYE0AeTtL"
   },
   "outputs": [],
   "source": [
    "class CNN():\n",
    "\n",
    "    def __init__(self):\n",
    "\n",
    "        self.conv2d1 = torch.nn.Conv2d(3,32,kernel_size = 3)\n",
    "        self.activation1 = torch.nn.ReLU()\n",
    "        self.conv2d2 = torch.nn.Conv2d(32,64,kernel_size = 3)\n",
    "        self.activation2 = torch.nn.ReLU()\n",
    "        self.maxpool2d = torch.nn.MaxPool2d(32,64,kernel_size = 3)\n",
    "        self.conv2d = torch.nn.Conv2d\n",
    "        self.softmax = torch.nn.Softmax()\n",
    "\n",
    "    def forward(x):\n",
    "\n",
    "        x = self.conv2d1(x)\n",
    "        x = self.activation1(x)\n",
    "        x = self.conv2d2(x)\n",
    "        x = self.activation1(x)\n",
    "        x = self.maxpool2d(x)\n",
    "        x = self.softmax()\n",
    "  \n",
    "cnn = CNN()\n",
    "print(CNN)"
   ]
  },
  {
   "cell_type": "markdown",
   "metadata": {
    "id": "bmHmC81z0flO"
   },
   "source": [
    "##### Augmentation Technique Libraries and SubModules"
   ]
  },
  {
   "cell_type": "code",
   "execution_count": null,
   "metadata": {
    "id": "oD3pDv-t0fyw"
   },
   "outputs": [],
   "source": [
    "import torchvision\n",
    "from PIL import Image\n",
    "from torchvision.transforms import Compose, CenterCrop, ColorJitter, FiveCrop, Grayscale, Pad, RandomAffine, RandomApply, RandomCrop, RandomGrayscale, RandomHorizontalFlip, RandomPerspective, RandomResizedCrop, RandomRotation, RandomVerticalFlip, Resize, TenCrop, GaussianBlur, RandomInvert, RandomPosterize, RandomSolarize, RandomAdjustSharpness, RandomAutocontrast, RandomEqualize\n",
    "from torchvision.transforms import LinearTransformation, Normalize, RandomErasing,ConvertImageDtype\n",
    "from torchvision.transforms import ToPILImage, ToTensor, PILToTensor"
   ]
  },
  {
   "cell_type": "markdown",
   "metadata": {
    "id": "GZx6kaJ7KuNN"
   },
   "source": [
    "##### Combines Augmentation Technique"
   ]
  },
  {
   "cell_type": "code",
   "execution_count": null,
   "metadata": {
    "id": "ykMcuV6n0sBK"
   },
   "outputs": [],
   "source": [
    "both_transforms = Compose([CenterCrop(10),ColorJitter(3),FiveCrop(2),Grayscale(),Pad(2),GaussianBlur(3, sigma=(0.1, 2.0),)])"
   ]
  },
  {
   "cell_type": "markdown",
   "metadata": {
    "id": "xSUjnfn6JhHR"
   },
   "source": [
    "##### Augmentation Technique"
   ]
  },
  {
   "cell_type": "code",
   "execution_count": null,
   "metadata": {
    "colab": {
     "base_uri": "https://localhost:8080/"
    },
    "id": "A540_PIX1MCr",
    "outputId": "0b8101c4-cf3b-4ac7-9418-b902b0470ae5"
   },
   "outputs": [
    {
     "data": {
      "text/plain": [
       "CenterCrop(size=(10, 10))"
      ]
     },
     "execution_count": 24,
     "metadata": {},
     "output_type": "execute_result"
    }
   ],
   "source": [
    "center_crop = CenterCrop(10)\n",
    "center_crop"
   ]
  },
  {
   "cell_type": "markdown",
   "metadata": {
    "id": "sNKOg6xLJiDt"
   },
   "source": [
    "##### Augmentation Technique"
   ]
  },
  {
   "cell_type": "code",
   "execution_count": null,
   "metadata": {
    "colab": {
     "base_uri": "https://localhost:8080/"
    },
    "id": "AXxKFK6fHh2L",
    "outputId": "70f1dc79-7c45-4461-ff45-15e1c88c0097"
   },
   "outputs": [
    {
     "data": {
      "text/plain": [
       "ColorJitter(brightness=[0.0, 4.0], contrast=None, saturation=None, hue=None)"
      ]
     },
     "execution_count": 33,
     "metadata": {},
     "output_type": "execute_result"
    }
   ],
   "source": [
    "color_jitter = ColorJitter(3)\n",
    "color_jitter"
   ]
  },
  {
   "cell_type": "markdown",
   "metadata": {
    "id": "-6TYf9E2Jiqw"
   },
   "source": [
    "##### Augmentation Technique"
   ]
  },
  {
   "cell_type": "code",
   "execution_count": null,
   "metadata": {
    "colab": {
     "base_uri": "https://localhost:8080/"
    },
    "id": "RpJ5QlhnHh5y",
    "outputId": "ea3a52cc-fa43-4e6a-a5e2-f899224917aa"
   },
   "outputs": [
    {
     "data": {
      "text/plain": [
       "FiveCrop(size=(2, 2))"
      ]
     },
     "execution_count": 26,
     "metadata": {},
     "output_type": "execute_result"
    }
   ],
   "source": [
    "five_crop = FiveCrop(2)\n",
    "five_crop"
   ]
  },
  {
   "cell_type": "markdown",
   "metadata": {
    "id": "Cq_lYygHJjPf"
   },
   "source": [
    "##### Augmentation Technique"
   ]
  },
  {
   "cell_type": "code",
   "execution_count": null,
   "metadata": {
    "colab": {
     "base_uri": "https://localhost:8080/"
    },
    "id": "tj8scRPbHnVP",
    "outputId": "1744a4bc-eff7-4702-bbb4-321dfaed5196"
   },
   "outputs": [
    {
     "data": {
      "text/plain": [
       "Grayscale(num_output_channels=1)"
      ]
     },
     "execution_count": 27,
     "metadata": {},
     "output_type": "execute_result"
    }
   ],
   "source": [
    "gray_scale = Grayscale()\n",
    "gray_scale"
   ]
  },
  {
   "cell_type": "markdown",
   "metadata": {
    "id": "3NlOnB_yJjeG"
   },
   "source": [
    "##### Augmentation Technique"
   ]
  },
  {
   "cell_type": "code",
   "execution_count": null,
   "metadata": {
    "colab": {
     "base_uri": "https://localhost:8080/"
    },
    "id": "958rxbp7HnYV",
    "outputId": "33909587-fc4b-4633-faf5-66625c26f5fd"
   },
   "outputs": [
    {
     "data": {
      "text/plain": [
       "Pad(padding=2, fill=0, padding_mode=constant)"
      ]
     },
     "execution_count": 29,
     "metadata": {},
     "output_type": "execute_result"
    }
   ],
   "source": [
    "pad = Pad(2)\n",
    "pad"
   ]
  },
  {
   "cell_type": "markdown",
   "metadata": {
    "id": "qtYQhLpiJjw0"
   },
   "source": [
    "##### Augmentation Technique"
   ]
  },
  {
   "cell_type": "code",
   "execution_count": null,
   "metadata": {
    "colab": {
     "base_uri": "https://localhost:8080/"
    },
    "id": "OyTI_2WOHxco",
    "outputId": "5ac94245-7bc9-43d0-ad60-aa7dd050feac"
   },
   "outputs": [
    {
     "data": {
      "text/plain": [
       "GaussianBlur(kernel_size=(3, 3), sigma=(0.1, 2.0))"
      ]
     },
     "execution_count": 31,
     "metadata": {},
     "output_type": "execute_result"
    }
   ],
   "source": [
    "gaussian_blur = GaussianBlur(3, sigma = (0.1,2.0))\n",
    "gaussian_blur"
   ]
  },
  {
   "cell_type": "markdown",
   "metadata": {
    "id": "ZyK0awNHK8zz"
   },
   "source": [
    "##### Training Images Automatically Tensors, Using PyTorch Transforms to convert to PIL Image object"
   ]
  },
  {
   "cell_type": "code",
   "execution_count": null,
   "metadata": {
    "colab": {
     "base_uri": "https://localhost:8080/"
    },
    "id": "U_t6RDvHK888",
    "outputId": "d921c286-379a-45a9-90cc-fd757d3c8f09"
   },
   "outputs": [
    {
     "name": "stdout",
     "output_type": "stream",
     "text": [
      "<class 'torch.Tensor'>\n",
      "<class 'torchvision.transforms.transforms.ToPILImage'>\n"
     ]
    }
   ],
   "source": [
    "import matplotlib.pyplot as plt\n",
    "print(type(trainset[0][0]))\n",
    "img = ToPILImage(trainset[0][0])\n",
    "print(type(img))"
   ]
  },
  {
   "cell_type": "markdown",
   "metadata": {
    "id": "-SS7-_RH7z_r"
   },
   "source": [
    "##### Showing One Image from Trainset"
   ]
  },
  {
   "cell_type": "code",
   "execution_count": null,
   "metadata": {
    "colab": {
     "base_uri": "https://localhost:8080/",
     "height": 320
    },
    "id": "RElr6MWK70Gb",
    "outputId": "2a8369c1-f8d8-48bb-a4f9-fb37b3937283"
   },
   "outputs": [
    {
     "name": "stderr",
     "output_type": "stream",
     "text": [
      "WARNING:matplotlib.image:Clipping input data to the valid range for imshow with RGB data ([0..1] for floats or [0..255] for integers).\n"
     ]
    },
    {
     "name": "stdout",
     "output_type": "stream",
     "text": [
      "<class 'torchvision.transforms.transforms.ToPILImage'>\n"
     ]
    },
    {
     "data": {
      "text/plain": [
       "<matplotlib.image.AxesImage at 0x7f24be1cf990>"
      ]
     },
     "execution_count": 15,
     "metadata": {},
     "output_type": "execute_result"
    },
    {
     "data": {
      "image/png": "[encoded data removed]",
      "text/plain": [
       "<Figure size 432x288 with 1 Axes>"
      ]
     },
     "metadata": {
      "needs_background": "light"
     },
     "output_type": "display_data"
    }
   ],
   "source": [
    "tensor_img = trainset[0][0].permute(1,2,0)\n",
    "plt.imshow(tensor_img)"
   ]
  },
  {
   "cell_type": "markdown",
   "metadata": {
    "id": "T7E64VzRK9Fe"
   },
   "source": [
    "##### Creating a subset dataset that holds specified number of images from original dataset. "
   ]
  },
  {
   "cell_type": "code",
   "execution_count": null,
   "metadata": {
    "id": "NPc8in8cK9MA"
   },
   "outputs": [],
   "source": [
    "dataset = torch.utils.data.Subset(trainset, indices=torch.arange(10))\n",
    "len(dataset)"
   ]
  },
  {
   "cell_type": "markdown",
   "metadata": {
    "id": "AUI9fCW2JkHN"
   },
   "source": [
    "##### Augmentation Technique"
   ]
  },
  {
   "cell_type": "code",
   "execution_count": null,
   "metadata": {
    "colab": {
     "base_uri": "https://localhost:8080/",
     "height": 302
    },
    "id": "7yU6qwJNA9tk",
    "outputId": "df6df606-f7ea-4fa1-e49c-c136e3ddd725"
   },
   "outputs": [
    {
     "name": "stderr",
     "output_type": "stream",
     "text": [
      "WARNING:matplotlib.image:Clipping input data to the valid range for imshow with RGB data ([0..1] for floats or [0..255] for integers).\n"
     ]
    },
    {
     "data": {
      "text/plain": [
       "<matplotlib.image.AxesImage at 0x7f4d20220e50>"
      ]
     },
     "execution_count": 22,
     "metadata": {},
     "output_type": "execute_result"
    },
    {
     "data": {
      "image/png": "[encoded data removed]",
      "text/plain": [
       "<Figure size 432x288 with 1 Axes>"
      ]
     },
     "metadata": {
      "needs_background": "light"
     },
     "output_type": "display_data"
    }
   ],
   "source": [
    "img = trainset[3][0].permute(1,2,0)\n",
    "plt.imshow(img)"
   ]
  },
  {
   "cell_type": "markdown",
   "metadata": {
    "id": "Ogp-ijhTPgW0"
   },
   "source": [
    "##### References:\n",
    "- https://pytorch.org/tutorials/beginner/hyperparameter_tuning_tutorial.html\n",
    "- https://github.com/pytorch/tutorials/blob/master/beginner_source/hyperparameter_tuning_tutorial.py"
   ]
  },
  {
   "cell_type": "code",
   "execution_count": null,
   "metadata": {
    "id": "WiGSu9AJQApo"
   },
   "outputs": [],
   "source": []
  }
 ],
 "metadata": {
  "colab": {
   "include_colab_link": true,
   "name": "FastAI.ipynb",
   "provenance": []
  },
  "kernelspec": {
   "display_name": "Python 3",
   "language": "python",
   "name": "python3"
  },
  "language_info": {
   "codemirror_mode": {
    "name": "ipython",
    "version": 3
   },
   "file_extension": ".py",
   "mimetype": "text/x-python",
   "name": "python",
   "nbconvert_exporter": "python",
   "pygments_lexer": "ipython3",
   "version": "3.8.8"
  },
  "widgets": {
   "application/vnd.jupyter.widget-state+json": {
    "099016d813184e4d8ac2380b1650e66d": {
     "model_module": "@jupyter-widgets/controls",
     "model_module_version": "1.5.0",
     "model_name": "DescriptionStyleModel",
     "state": {
      "_model_module": "@jupyter-widgets/controls",
      "_model_module_version": "1.5.0",
      "_model_name": "DescriptionStyleModel",
      "_view_count": null,
      "_view_module": "@jupyter-widgets/base",
      "_view_module_version": "1.2.0",
      "_view_name": "StyleView",
      "description_width": ""
     }
    },
    "0b9be918ac9f4c54a5840c29dba390a3": {
     "model_module": "@jupyter-widgets/controls",
     "model_module_version": "1.5.0",
     "model_name": "FloatProgressModel",
     "state": {
      "_dom_classes": [],
      "_model_module": "@jupyter-widgets/controls",
      "_model_module_version": "1.5.0",
      "_model_name": "FloatProgressModel",
      "_view_count": null,
      "_view_module": "@jupyter-widgets/controls",
      "_view_module_version": "1.5.0",
      "_view_name": "ProgressView",
      "bar_style": "success",
      "description": "",
      "description_tooltip": null,
      "layout": "IPY_MODEL_42e9aee73d224a3b87955f05fa36d963",
      "max": 9912422,
      "min": 0,
      "orientation": "horizontal",
      "style": "IPY_MODEL_b8c2508b3f974c3aa265d3f6ec55bba5",
      "value": 9912422
     }
    },
    "0d4efe6749244ca7bcd9697a6ae9c527": {
     "model_module": "@jupyter-widgets/base",
     "model_module_version": "1.2.0",
     "model_name": "LayoutModel",
     "state": {
      "_model_module": "@jupyter-widgets/base",
      "_model_module_version": "1.2.0",
      "_model_name": "LayoutModel",
      "_view_count": null,
      "_view_module": "@jupyter-widgets/base",
      "_view_module_version": "1.2.0",
      "_view_name": "LayoutView",
      "align_content": null,
      "align_items": null,
      "align_self": null,
      "border": null,
      "bottom": null,
      "display": null,
      "flex": null,
      "flex_flow": null,
      "grid_area": null,
      "grid_auto_columns": null,
      "grid_auto_flow": null,
      "grid_auto_rows": null,
      "grid_column": null,
      "grid_gap": null,
      "grid_row": null,
      "grid_template_areas": null,
      "grid_template_columns": null,
      "grid_template_rows": null,
      "height": null,
      "justify_content": null,
      "justify_items": null,
      "left": null,
      "margin": null,
      "max_height": null,
      "max_width": null,
      "min_height": null,
      "min_width": null,
      "object_fit": null,
      "object_position": null,
      "order": null,
      "overflow": null,
      "overflow_x": null,
      "overflow_y": null,
      "padding": null,
      "right": null,
      "top": null,
      "visibility": null,
      "width": null
     }
    },
    "10875989acf44aa8978f9548b38dd204": {
     "model_module": "@jupyter-widgets/base",
     "model_module_version": "1.2.0",
     "model_name": "LayoutModel",
     "state": {
      "_model_module": "@jupyter-widgets/base",
      "_model_module_version": "1.2.0",
      "_model_name": "LayoutModel",
      "_view_count": null,
      "_view_module": "@jupyter-widgets/base",
      "_view_module_version": "1.2.0",
      "_view_name": "LayoutView",
      "align_content": null,
      "align_items": null,
      "align_self": null,
      "border": null,
      "bottom": null,
      "display": null,
      "flex": null,
      "flex_flow": null,
      "grid_area": null,
      "grid_auto_columns": null,
      "grid_auto_flow": null,
      "grid_auto_rows": null,
      "grid_column": null,
      "grid_gap": null,
      "grid_row": null,
      "grid_template_areas": null,
      "grid_template_columns": null,
      "grid_template_rows": null,
      "height": null,
      "justify_content": null,
      "justify_items": null,
      "left": null,
      "margin": null,
      "max_height": null,
      "max_width": null,
      "min_height": null,
      "min_width": null,
      "object_fit": null,
      "object_position": null,
      "order": null,
      "overflow": null,
      "overflow_x": null,
      "overflow_y": null,
      "padding": null,
      "right": null,
      "top": null,
      "visibility": null,
      "width": null
     }
    },
    "12afe002d233414cb42b876296439190": {
     "model_module": "@jupyter-widgets/base",
     "model_module_version": "1.2.0",
     "model_name": "LayoutModel",
     "state": {
      "_model_module": "@jupyter-widgets/base",
      "_model_module_version": "1.2.0",
      "_model_name": "LayoutModel",
      "_view_count": null,
      "_view_module": "@jupyter-widgets/base",
      "_view_module_version": "1.2.0",
      "_view_name": "LayoutView",
      "align_content": null,
      "align_items": null,
      "align_self": null,
      "border": null,
      "bottom": null,
      "display": null,
      "flex": null,
      "flex_flow": null,
      "grid_area": null,
      "grid_auto_columns": null,
      "grid_auto_flow": null,
      "grid_auto_rows": null,
      "grid_column": null,
      "grid_gap": null,
      "grid_row": null,
      "grid_template_areas": null,
      "grid_template_columns": null,
      "grid_template_rows": null,
      "height": null,
      "justify_content": null,
      "justify_items": null,
      "left": null,
      "margin": null,
      "max_height": null,
      "max_width": null,
      "min_height": null,
      "min_width": null,
      "object_fit": null,
      "object_position": null,
      "order": null,
      "overflow": null,
      "overflow_x": null,
      "overflow_y": null,
      "padding": null,
      "right": null,
      "top": null,
      "visibility": null,
      "width": null
     }
    },
    "156f82109a8e48088f537f38d76da496": {
     "model_module": "@jupyter-widgets/controls",
     "model_module_version": "1.5.0",
     "model_name": "DescriptionStyleModel",
     "state": {
      "_model_module": "@jupyter-widgets/controls",
      "_model_module_version": "1.5.0",
      "_model_name": "DescriptionStyleModel",
      "_view_count": null,
      "_view_module": "@jupyter-widgets/base",
      "_view_module_version": "1.2.0",
      "_view_name": "StyleView",
      "description_width": ""
     }
    },
    "1a8127b3e3ab4f87a1c79fb2460b11d4": {
     "model_module": "@jupyter-widgets/base",
     "model_module_version": "1.2.0",
     "model_name": "LayoutModel",
     "state": {
      "_model_module": "@jupyter-widgets/base",
      "_model_module_version": "1.2.0",
      "_model_name": "LayoutModel",
      "_view_count": null,
      "_view_module": "@jupyter-widgets/base",
      "_view_module_version": "1.2.0",
      "_view_name": "LayoutView",
      "align_content": null,
      "align_items": null,
      "align_self": null,
      "border": null,
      "bottom": null,
      "display": null,
      "flex": null,
      "flex_flow": null,
      "grid_area": null,
      "grid_auto_columns": null,
      "grid_auto_flow": null,
      "grid_auto_rows": null,
      "grid_column": null,
      "grid_gap": null,
      "grid_row": null,
      "grid_template_areas": null,
      "grid_template_columns": null,
      "grid_template_rows": null,
      "height": null,
      "justify_content": null,
      "justify_items": null,
      "left": null,
      "margin": null,
      "max_height": null,
      "max_width": null,
      "min_height": null,
      "min_width": null,
      "object_fit": null,
      "object_position": null,
      "order": null,
      "overflow": null,
      "overflow_x": null,
      "overflow_y": null,
      "padding": null,
      "right": null,
      "top": null,
      "visibility": null,
      "width": null
     }
    },
    "1a91d3a8d9924e049a06a4c23cf53d04": {
     "model_module": "@jupyter-widgets/controls",
     "model_module_version": "1.5.0",
     "model_name": "HTMLModel",
     "state": {
      "_dom_classes": [],
      "_model_module": "@jupyter-widgets/controls",
      "_model_module_version": "1.5.0",
      "_model_name": "HTMLModel",
      "_view_count": null,
      "_view_module": "@jupyter-widgets/controls",
      "_view_module_version": "1.5.0",
      "_view_name": "HTMLView",
      "description": "",
      "description_tooltip": null,
      "layout": "IPY_MODEL_cd2d5f5ec90042eaafe435d2807cc117",
      "placeholder": "​",
      "style": "IPY_MODEL_e10fcdd217144841bb2394e98c5c23a7",
      "value": " 97.8M/97.8M [00:01&lt;00:00, 80.5MB/s]"
     }
    },
    "1af377b682f743138dc2db4b3fa2b28c": {
     "model_module": "@jupyter-widgets/controls",
     "model_module_version": "1.5.0",
     "model_name": "HTMLModel",
     "state": {
      "_dom_classes": [],
      "_model_module": "@jupyter-widgets/controls",
      "_model_module_version": "1.5.0",
      "_model_name": "HTMLModel",
      "_view_count": null,
      "_view_module": "@jupyter-widgets/controls",
      "_view_module_version": "1.5.0",
      "_view_name": "HTMLView",
      "description": "",
      "description_tooltip": null,
      "layout": "IPY_MODEL_8e7b72a8458b4c73bea9b1cf749ca3a7",
      "placeholder": "​",
      "style": "IPY_MODEL_099016d813184e4d8ac2380b1650e66d",
      "value": "100%"
     }
    },
    "213b27c6d5f84b8b984ea13d9fff3d06": {
     "model_module": "@jupyter-widgets/base",
     "model_module_version": "1.2.0",
     "model_name": "LayoutModel",
     "state": {
      "_model_module": "@jupyter-widgets/base",
      "_model_module_version": "1.2.0",
      "_model_name": "LayoutModel",
      "_view_count": null,
      "_view_module": "@jupyter-widgets/base",
      "_view_module_version": "1.2.0",
      "_view_name": "LayoutView",
      "align_content": null,
      "align_items": null,
      "align_self": null,
      "border": null,
      "bottom": null,
      "display": null,
      "flex": null,
      "flex_flow": null,
      "grid_area": null,
      "grid_auto_columns": null,
      "grid_auto_flow": null,
      "grid_auto_rows": null,
      "grid_column": null,
      "grid_gap": null,
      "grid_row": null,
      "grid_template_areas": null,
      "grid_template_columns": null,
      "grid_template_rows": null,
      "height": null,
      "justify_content": null,
      "justify_items": null,
      "left": null,
      "margin": null,
      "max_height": null,
      "max_width": null,
      "min_height": null,
      "min_width": null,
      "object_fit": null,
      "object_position": null,
      "order": null,
      "overflow": null,
      "overflow_x": null,
      "overflow_y": null,
      "padding": null,
      "right": null,
      "top": null,
      "visibility": null,
      "width": null
     }
    },
    "230f3ed598e0478db8a87640e5af9fd5": {
     "model_module": "@jupyter-widgets/base",
     "model_module_version": "1.2.0",
     "model_name": "LayoutModel",
     "state": {
      "_model_module": "@jupyter-widgets/base",
      "_model_module_version": "1.2.0",
      "_model_name": "LayoutModel",
      "_view_count": null,
      "_view_module": "@jupyter-widgets/base",
      "_view_module_version": "1.2.0",
      "_view_name": "LayoutView",
      "align_content": null,
      "align_items": null,
      "align_self": null,
      "border": null,
      "bottom": null,
      "display": null,
      "flex": null,
      "flex_flow": null,
      "grid_area": null,
      "grid_auto_columns": null,
      "grid_auto_flow": null,
      "grid_auto_rows": null,
      "grid_column": null,
      "grid_gap": null,
      "grid_row": null,
      "grid_template_areas": null,
      "grid_template_columns": null,
      "grid_template_rows": null,
      "height": null,
      "justify_content": null,
      "justify_items": null,
      "left": null,
      "margin": null,
      "max_height": null,
      "max_width": null,
      "min_height": null,
      "min_width": null,
      "object_fit": null,
      "object_position": null,
      "order": null,
      "overflow": null,
      "overflow_x": null,
      "overflow_y": null,
      "padding": null,
      "right": null,
      "top": null,
      "visibility": null,
      "width": null
     }
    },
    "23991f66b831436398ad00f46ac7e7ed": {
     "model_module": "@jupyter-widgets/base",
     "model_module_version": "1.2.0",
     "model_name": "LayoutModel",
     "state": {
      "_model_module": "@jupyter-widgets/base",
      "_model_module_version": "1.2.0",
      "_model_name": "LayoutModel",
      "_view_count": null,
      "_view_module": "@jupyter-widgets/base",
      "_view_module_version": "1.2.0",
      "_view_name": "LayoutView",
      "align_content": null,
      "align_items": null,
      "align_self": null,
      "border": null,
      "bottom": null,
      "display": null,
      "flex": null,
      "flex_flow": null,
      "grid_area": null,
      "grid_auto_columns": null,
      "grid_auto_flow": null,
      "grid_auto_rows": null,
      "grid_column": null,
      "grid_gap": null,
      "grid_row": null,
      "grid_template_areas": null,
      "grid_template_columns": null,
      "grid_template_rows": null,
      "height": null,
      "justify_content": null,
      "justify_items": null,
      "left": null,
      "margin": null,
      "max_height": null,
      "max_width": null,
      "min_height": null,
      "min_width": null,
      "object_fit": null,
      "object_position": null,
      "order": null,
      "overflow": null,
      "overflow_x": null,
      "overflow_y": null,
      "padding": null,
      "right": null,
      "top": null,
      "visibility": null,
      "width": null
     }
    },
    "26d2e73a11d4418ab5c7297417722cb7": {
     "model_module": "@jupyter-widgets/base",
     "model_module_version": "1.2.0",
     "model_name": "LayoutModel",
     "state": {
      "_model_module": "@jupyter-widgets/base",
      "_model_module_version": "1.2.0",
      "_model_name": "LayoutModel",
      "_view_count": null,
      "_view_module": "@jupyter-widgets/base",
      "_view_module_version": "1.2.0",
      "_view_name": "LayoutView",
      "align_content": null,
      "align_items": null,
      "align_self": null,
      "border": null,
      "bottom": null,
      "display": null,
      "flex": null,
      "flex_flow": null,
      "grid_area": null,
      "grid_auto_columns": null,
      "grid_auto_flow": null,
      "grid_auto_rows": null,
      "grid_column": null,
      "grid_gap": null,
      "grid_row": null,
      "grid_template_areas": null,
      "grid_template_columns": null,
      "grid_template_rows": null,
      "height": null,
      "justify_content": null,
      "justify_items": null,
      "left": null,
      "margin": null,
      "max_height": null,
      "max_width": null,
      "min_height": null,
      "min_width": null,
      "object_fit": null,
      "object_position": null,
      "order": null,
      "overflow": null,
      "overflow_x": null,
      "overflow_y": null,
      "padding": null,
      "right": null,
      "top": null,
      "visibility": null,
      "width": null
     }
    },
    "290221307fcf4ea1a2a7b13234e4dfcf": {
     "model_module": "@jupyter-widgets/base",
     "model_module_version": "1.2.0",
     "model_name": "LayoutModel",
     "state": {
      "_model_module": "@jupyter-widgets/base",
      "_model_module_version": "1.2.0",
      "_model_name": "LayoutModel",
      "_view_count": null,
      "_view_module": "@jupyter-widgets/base",
      "_view_module_version": "1.2.0",
      "_view_name": "LayoutView",
      "align_content": null,
      "align_items": null,
      "align_self": null,
      "border": null,
      "bottom": null,
      "display": null,
      "flex": null,
      "flex_flow": null,
      "grid_area": null,
      "grid_auto_columns": null,
      "grid_auto_flow": null,
      "grid_auto_rows": null,
      "grid_column": null,
      "grid_gap": null,
      "grid_row": null,
      "grid_template_areas": null,
      "grid_template_columns": null,
      "grid_template_rows": null,
      "height": null,
      "justify_content": null,
      "justify_items": null,
      "left": null,
      "margin": null,
      "max_height": null,
      "max_width": null,
      "min_height": null,
      "min_width": null,
      "object_fit": null,
      "object_position": null,
      "order": null,
      "overflow": null,
      "overflow_x": null,
      "overflow_y": null,
      "padding": null,
      "right": null,
      "top": null,
      "visibility": null,
      "width": null
     }
    },
    "2b1885d733ff4a94a2988da51926ee63": {
     "model_module": "@jupyter-widgets/controls",
     "model_module_version": "1.5.0",
     "model_name": "DescriptionStyleModel",
     "state": {
      "_model_module": "@jupyter-widgets/controls",
      "_model_module_version": "1.5.0",
      "_model_name": "DescriptionStyleModel",
      "_view_count": null,
      "_view_module": "@jupyter-widgets/base",
      "_view_module_version": "1.2.0",
      "_view_name": "StyleView",
      "description_width": ""
     }
    },
    "2cef92f114eb4ba9b19edabcaf04e95a": {
     "model_module": "@jupyter-widgets/controls",
     "model_module_version": "1.5.0",
     "model_name": "FloatProgressModel",
     "state": {
      "_dom_classes": [],
      "_model_module": "@jupyter-widgets/controls",
      "_model_module_version": "1.5.0",
      "_model_name": "FloatProgressModel",
      "_view_count": null,
      "_view_module": "@jupyter-widgets/controls",
      "_view_module_version": "1.5.0",
      "_view_name": "ProgressView",
      "bar_style": "success",
      "description": "",
      "description_tooltip": null,
      "layout": "IPY_MODEL_6eebb3ff34f040a29080fc29a3910118",
      "max": 244408911,
      "min": 0,
      "orientation": "horizontal",
      "style": "IPY_MODEL_6e9293371b204ffe90a7163c5ad7308e",
      "value": 244408911
     }
    },
    "30563638486a45f09734e556f5a372f8": {
     "model_module": "@jupyter-widgets/controls",
     "model_module_version": "1.5.0",
     "model_name": "HBoxModel",
     "state": {
      "_dom_classes": [],
      "_model_module": "@jupyter-widgets/controls",
      "_model_module_version": "1.5.0",
      "_model_name": "HBoxModel",
      "_view_count": null,
      "_view_module": "@jupyter-widgets/controls",
      "_view_module_version": "1.5.0",
      "_view_name": "HBoxView",
      "box_style": "",
      "children": [
       "IPY_MODEL_361e681fc3c54b479331abe4a421cadc",
       "IPY_MODEL_2cef92f114eb4ba9b19edabcaf04e95a",
       "IPY_MODEL_b3e29e16550b443db893e93ddb899d0b"
      ],
      "layout": "IPY_MODEL_dfda102e9c01446a947f77c7e3899980"
     }
    },
    "32a837ce601647b6bf352795b2dc8fcd": {
     "model_module": "@jupyter-widgets/controls",
     "model_module_version": "1.5.0",
     "model_name": "FloatProgressModel",
     "state": {
      "_dom_classes": [],
      "_model_module": "@jupyter-widgets/controls",
      "_model_module_version": "1.5.0",
      "_model_name": "FloatProgressModel",
      "_view_count": null,
      "_view_module": "@jupyter-widgets/controls",
      "_view_module_version": "1.5.0",
      "_view_name": "ProgressView",
      "bar_style": "success",
      "description": "",
      "description_tooltip": null,
      "layout": "IPY_MODEL_e0c1e1660f604577b241f233714b4cb3",
      "max": 102530333,
      "min": 0,
      "orientation": "horizontal",
      "style": "IPY_MODEL_6e966c64d9414852b62236856fc95bd5",
      "value": 102530333
     }
    },
    "3320b37fd78a478ca59c168e3a9a838f": {
     "model_module": "@jupyter-widgets/controls",
     "model_module_version": "1.5.0",
     "model_name": "HTMLModel",
     "state": {
      "_dom_classes": [],
      "_model_module": "@jupyter-widgets/controls",
      "_model_module_version": "1.5.0",
      "_model_name": "HTMLModel",
      "_view_count": null,
      "_view_module": "@jupyter-widgets/controls",
      "_view_module_version": "1.5.0",
      "_view_name": "HTMLView",
      "description": "",
      "description_tooltip": null,
      "layout": "IPY_MODEL_8d6dfc5ec4cf485b9df71751e577fc07",
      "placeholder": "​",
      "style": "IPY_MODEL_156f82109a8e48088f537f38d76da496",
      "value": "100%"
     }
    },
    "3347c33b8bf54364948ef2e6d99131ae": {
     "model_module": "@jupyter-widgets/base",
     "model_module_version": "1.2.0",
     "model_name": "LayoutModel",
     "state": {
      "_model_module": "@jupyter-widgets/base",
      "_model_module_version": "1.2.0",
      "_model_name": "LayoutModel",
      "_view_count": null,
      "_view_module": "@jupyter-widgets/base",
      "_view_module_version": "1.2.0",
      "_view_name": "LayoutView",
      "align_content": null,
      "align_items": null,
      "align_self": null,
      "border": null,
      "bottom": null,
      "display": null,
      "flex": null,
      "flex_flow": null,
      "grid_area": null,
      "grid_auto_columns": null,
      "grid_auto_flow": null,
      "grid_auto_rows": null,
      "grid_column": null,
      "grid_gap": null,
      "grid_row": null,
      "grid_template_areas": null,
      "grid_template_columns": null,
      "grid_template_rows": null,
      "height": null,
      "justify_content": null,
      "justify_items": null,
      "left": null,
      "margin": null,
      "max_height": null,
      "max_width": null,
      "min_height": null,
      "min_width": null,
      "object_fit": null,
      "object_position": null,
      "order": null,
      "overflow": null,
      "overflow_x": null,
      "overflow_y": null,
      "padding": null,
      "right": null,
      "top": null,
      "visibility": null,
      "width": null
     }
    },
    "3467b6ded9e34367bc6c7e6bf971a6f9": {
     "model_module": "@jupyter-widgets/controls",
     "model_module_version": "1.5.0",
     "model_name": "DescriptionStyleModel",
     "state": {
      "_model_module": "@jupyter-widgets/controls",
      "_model_module_version": "1.5.0",
      "_model_name": "DescriptionStyleModel",
      "_view_count": null,
      "_view_module": "@jupyter-widgets/base",
      "_view_module_version": "1.2.0",
      "_view_name": "StyleView",
      "description_width": ""
     }
    },
    "35362693bb584089afa14d21a773a788": {
     "model_module": "@jupyter-widgets/controls",
     "model_module_version": "1.5.0",
     "model_name": "FloatProgressModel",
     "state": {
      "_dom_classes": [],
      "_model_module": "@jupyter-widgets/controls",
      "_model_module_version": "1.5.0",
      "_model_name": "FloatProgressModel",
      "_view_count": null,
      "_view_module": "@jupyter-widgets/controls",
      "_view_module_version": "1.5.0",
      "_view_name": "ProgressView",
      "bar_style": "success",
      "description": "",
      "description_tooltip": null,
      "layout": "IPY_MODEL_4d4c23cf9d714b368665db5c3bc9eb1d",
      "max": 1648877,
      "min": 0,
      "orientation": "horizontal",
      "style": "IPY_MODEL_76555a48f44649d896916d65cbff62d1",
      "value": 1648877
     }
    },
    "361e681fc3c54b479331abe4a421cadc": {
     "model_module": "@jupyter-widgets/controls",
     "model_module_version": "1.5.0",
     "model_name": "HTMLModel",
     "state": {
      "_dom_classes": [],
      "_model_module": "@jupyter-widgets/controls",
      "_model_module_version": "1.5.0",
      "_model_name": "HTMLModel",
      "_view_count": null,
      "_view_module": "@jupyter-widgets/controls",
      "_view_module_version": "1.5.0",
      "_view_name": "HTMLView",
      "description": "",
      "description_tooltip": null,
      "layout": "IPY_MODEL_ca9feec50d634e659d8de6c9b264ead4",
      "placeholder": "​",
      "style": "IPY_MODEL_92f7a5235821400db52e1c822a4fd8dd",
      "value": "100%"
     }
    },
    "387a7bb74d5642b89479a4da97e0371b": {
     "model_module": "@jupyter-widgets/controls",
     "model_module_version": "1.5.0",
     "model_name": "HTMLModel",
     "state": {
      "_dom_classes": [],
      "_model_module": "@jupyter-widgets/controls",
      "_model_module_version": "1.5.0",
      "_model_name": "HTMLModel",
      "_view_count": null,
      "_view_module": "@jupyter-widgets/controls",
      "_view_module_version": "1.5.0",
      "_view_name": "HTMLView",
      "description": "",
      "description_tooltip": null,
      "layout": "IPY_MODEL_26d2e73a11d4418ab5c7297417722cb7",
      "placeholder": "​",
      "style": "IPY_MODEL_c8ea174ca1c04b9cba58e53813d4fc17",
      "value": " 28881/28881 [00:00&lt;00:00, 474405.67it/s]"
     }
    },
    "3b05188ea0ed4196b143d72a17dcac72": {
     "model_module": "@jupyter-widgets/controls",
     "model_module_version": "1.5.0",
     "model_name": "HTMLModel",
     "state": {
      "_dom_classes": [],
      "_model_module": "@jupyter-widgets/controls",
      "_model_module_version": "1.5.0",
      "_model_name": "HTMLModel",
      "_view_count": null,
      "_view_module": "@jupyter-widgets/controls",
      "_view_module_version": "1.5.0",
      "_view_name": "HTMLView",
      "description": "",
      "description_tooltip": null,
      "layout": "IPY_MODEL_fdb124a8f663412596ab9412ddbc400d",
      "placeholder": "​",
      "style": "IPY_MODEL_611f5976678a4f2fb63d0be353bcc2ba",
      "value": " 104M/104M [00:06&lt;00:00, 22.8MB/s]"
     }
    },
    "42e9aee73d224a3b87955f05fa36d963": {
     "model_module": "@jupyter-widgets/base",
     "model_module_version": "1.2.0",
     "model_name": "LayoutModel",
     "state": {
      "_model_module": "@jupyter-widgets/base",
      "_model_module_version": "1.2.0",
      "_model_name": "LayoutModel",
      "_view_count": null,
      "_view_module": "@jupyter-widgets/base",
      "_view_module_version": "1.2.0",
      "_view_name": "LayoutView",
      "align_content": null,
      "align_items": null,
      "align_self": null,
      "border": null,
      "bottom": null,
      "display": null,
      "flex": null,
      "flex_flow": null,
      "grid_area": null,
      "grid_auto_columns": null,
      "grid_auto_flow": null,
      "grid_auto_rows": null,
      "grid_column": null,
      "grid_gap": null,
      "grid_row": null,
      "grid_template_areas": null,
      "grid_template_columns": null,
      "grid_template_rows": null,
      "height": null,
      "justify_content": null,
      "justify_items": null,
      "left": null,
      "margin": null,
      "max_height": null,
      "max_width": null,
      "min_height": null,
      "min_width": null,
      "object_fit": null,
      "object_position": null,
      "order": null,
      "overflow": null,
      "overflow_x": null,
      "overflow_y": null,
      "padding": null,
      "right": null,
      "top": null,
      "visibility": null,
      "width": null
     }
    },
    "4b646d149c4d4f9c868e4ca45223adc6": {
     "model_module": "@jupyter-widgets/base",
     "model_module_version": "1.2.0",
     "model_name": "LayoutModel",
     "state": {
      "_model_module": "@jupyter-widgets/base",
      "_model_module_version": "1.2.0",
      "_model_name": "LayoutModel",
      "_view_count": null,
      "_view_module": "@jupyter-widgets/base",
      "_view_module_version": "1.2.0",
      "_view_name": "LayoutView",
      "align_content": null,
      "align_items": null,
      "align_self": null,
      "border": null,
      "bottom": null,
      "display": null,
      "flex": null,
      "flex_flow": null,
      "grid_area": null,
      "grid_auto_columns": null,
      "grid_auto_flow": null,
      "grid_auto_rows": null,
      "grid_column": null,
      "grid_gap": null,
      "grid_row": null,
      "grid_template_areas": null,
      "grid_template_columns": null,
      "grid_template_rows": null,
      "height": null,
      "justify_content": null,
      "justify_items": null,
      "left": null,
      "margin": null,
      "max_height": null,
      "max_width": null,
      "min_height": null,
      "min_width": null,
      "object_fit": null,
      "object_position": null,
      "order": null,
      "overflow": null,
      "overflow_x": null,
      "overflow_y": null,
      "padding": null,
      "right": null,
      "top": null,
      "visibility": null,
      "width": null
     }
    },
    "4d4c23cf9d714b368665db5c3bc9eb1d": {
     "model_module": "@jupyter-widgets/base",
     "model_module_version": "1.2.0",
     "model_name": "LayoutModel",
     "state": {
      "_model_module": "@jupyter-widgets/base",
      "_model_module_version": "1.2.0",
      "_model_name": "LayoutModel",
      "_view_count": null,
      "_view_module": "@jupyter-widgets/base",
      "_view_module_version": "1.2.0",
      "_view_name": "LayoutView",
      "align_content": null,
      "align_items": null,
      "align_self": null,
      "border": null,
      "bottom": null,
      "display": null,
      "flex": null,
      "flex_flow": null,
      "grid_area": null,
      "grid_auto_columns": null,
      "grid_auto_flow": null,
      "grid_auto_rows": null,
      "grid_column": null,
      "grid_gap": null,
      "grid_row": null,
      "grid_template_areas": null,
      "grid_template_columns": null,
      "grid_template_rows": null,
      "height": null,
      "justify_content": null,
      "justify_items": null,
      "left": null,
      "margin": null,
      "max_height": null,
      "max_width": null,
      "min_height": null,
      "min_width": null,
      "object_fit": null,
      "object_position": null,
      "order": null,
      "overflow": null,
      "overflow_x": null,
      "overflow_y": null,
      "padding": null,
      "right": null,
      "top": null,
      "visibility": null,
      "width": null
     }
    },
    "534735fdb88a4c7c9909e973efbfab69": {
     "model_module": "@jupyter-widgets/controls",
     "model_module_version": "1.5.0",
     "model_name": "ProgressStyleModel",
     "state": {
      "_model_module": "@jupyter-widgets/controls",
      "_model_module_version": "1.5.0",
      "_model_name": "ProgressStyleModel",
      "_view_count": null,
      "_view_module": "@jupyter-widgets/base",
      "_view_module_version": "1.2.0",
      "_view_name": "StyleView",
      "bar_color": null,
      "description_width": ""
     }
    },
    "54dc1e64ed184079b92e9341433636ba": {
     "model_module": "@jupyter-widgets/controls",
     "model_module_version": "1.5.0",
     "model_name": "HTMLModel",
     "state": {
      "_dom_classes": [],
      "_model_module": "@jupyter-widgets/controls",
      "_model_module_version": "1.5.0",
      "_model_name": "HTMLModel",
      "_view_count": null,
      "_view_module": "@jupyter-widgets/controls",
      "_view_module_version": "1.5.0",
      "_view_name": "HTMLView",
      "description": "",
      "description_tooltip": null,
      "layout": "IPY_MODEL_98c3412d7f9f4cb88bbd649d03d8dd01",
      "placeholder": "​",
      "style": "IPY_MODEL_a6f7d75e6bdd43a79b486a9f502dbafe",
      "value": "100%"
     }
    },
    "56f40ec283d545bbbb210f77d85a9242": {
     "model_module": "@jupyter-widgets/controls",
     "model_module_version": "1.5.0",
     "model_name": "HTMLModel",
     "state": {
      "_dom_classes": [],
      "_model_module": "@jupyter-widgets/controls",
      "_model_module_version": "1.5.0",
      "_model_name": "HTMLModel",
      "_view_count": null,
      "_view_module": "@jupyter-widgets/controls",
      "_view_module_version": "1.5.0",
      "_view_name": "HTMLView",
      "description": "",
      "description_tooltip": null,
      "layout": "IPY_MODEL_213b27c6d5f84b8b984ea13d9fff3d06",
      "placeholder": "​",
      "style": "IPY_MODEL_881e159abf1e485cb67927b6b8665892",
      "value": " 9912422/9912422 [00:00&lt;00:00, 17317007.73it/s]"
     }
    },
    "611f5976678a4f2fb63d0be353bcc2ba": {
     "model_module": "@jupyter-widgets/controls",
     "model_module_version": "1.5.0",
     "model_name": "DescriptionStyleModel",
     "state": {
      "_model_module": "@jupyter-widgets/controls",
      "_model_module_version": "1.5.0",
      "_model_name": "DescriptionStyleModel",
      "_view_count": null,
      "_view_module": "@jupyter-widgets/base",
      "_view_module_version": "1.2.0",
      "_view_name": "StyleView",
      "description_width": ""
     }
    },
    "66865124e5ad4a1990a2a6c8a8f7f09d": {
     "model_module": "@jupyter-widgets/controls",
     "model_module_version": "1.5.0",
     "model_name": "FloatProgressModel",
     "state": {
      "_dom_classes": [],
      "_model_module": "@jupyter-widgets/controls",
      "_model_module_version": "1.5.0",
      "_model_name": "FloatProgressModel",
      "_view_count": null,
      "_view_module": "@jupyter-widgets/controls",
      "_view_module_version": "1.5.0",
      "_view_name": "ProgressView",
      "bar_style": "success",
      "description": "",
      "description_tooltip": null,
      "layout": "IPY_MODEL_a61f3735c0894455a75c0267183b249c",
      "max": 108949747,
      "min": 0,
      "orientation": "horizontal",
      "style": "IPY_MODEL_da83689a331b4bb2a1fedb3d14cf5029",
      "value": 108949747
     }
    },
    "6798775d67114475956e92dd1128fc64": {
     "model_module": "@jupyter-widgets/controls",
     "model_module_version": "1.5.0",
     "model_name": "DescriptionStyleModel",
     "state": {
      "_model_module": "@jupyter-widgets/controls",
      "_model_module_version": "1.5.0",
      "_model_name": "DescriptionStyleModel",
      "_view_count": null,
      "_view_module": "@jupyter-widgets/base",
      "_view_module_version": "1.2.0",
      "_view_name": "StyleView",
      "description_width": ""
     }
    },
    "686167b69b5f44b992a71306ea1efa50": {
     "model_module": "@jupyter-widgets/controls",
     "model_module_version": "1.5.0",
     "model_name": "HTMLModel",
     "state": {
      "_dom_classes": [],
      "_model_module": "@jupyter-widgets/controls",
      "_model_module_version": "1.5.0",
      "_model_name": "HTMLModel",
      "_view_count": null,
      "_view_module": "@jupyter-widgets/controls",
      "_view_module_version": "1.5.0",
      "_view_name": "HTMLView",
      "description": "",
      "description_tooltip": null,
      "layout": "IPY_MODEL_920670b9295049078248c82fd782784d",
      "placeholder": "​",
      "style": "IPY_MODEL_cab6859d00ef4588a9010e32b1e88a33",
      "value": " 1648877/1648877 [00:00&lt;00:00, 3334840.34it/s]"
     }
    },
    "687c7714314147a9b4878f284019b9c0": {
     "model_module": "@jupyter-widgets/base",
     "model_module_version": "1.2.0",
     "model_name": "LayoutModel",
     "state": {
      "_model_module": "@jupyter-widgets/base",
      "_model_module_version": "1.2.0",
      "_model_name": "LayoutModel",
      "_view_count": null,
      "_view_module": "@jupyter-widgets/base",
      "_view_module_version": "1.2.0",
      "_view_name": "LayoutView",
      "align_content": null,
      "align_items": null,
      "align_self": null,
      "border": null,
      "bottom": null,
      "display": null,
      "flex": null,
      "flex_flow": null,
      "grid_area": null,
      "grid_auto_columns": null,
      "grid_auto_flow": null,
      "grid_auto_rows": null,
      "grid_column": null,
      "grid_gap": null,
      "grid_row": null,
      "grid_template_areas": null,
      "grid_template_columns": null,
      "grid_template_rows": null,
      "height": null,
      "justify_content": null,
      "justify_items": null,
      "left": null,
      "margin": null,
      "max_height": null,
      "max_width": null,
      "min_height": null,
      "min_width": null,
      "object_fit": null,
      "object_position": null,
      "order": null,
      "overflow": null,
      "overflow_x": null,
      "overflow_y": null,
      "padding": null,
      "right": null,
      "top": null,
      "visibility": null,
      "width": null
     }
    },
    "6e9293371b204ffe90a7163c5ad7308e": {
     "model_module": "@jupyter-widgets/controls",
     "model_module_version": "1.5.0",
     "model_name": "ProgressStyleModel",
     "state": {
      "_model_module": "@jupyter-widgets/controls",
      "_model_module_version": "1.5.0",
      "_model_name": "ProgressStyleModel",
      "_view_count": null,
      "_view_module": "@jupyter-widgets/base",
      "_view_module_version": "1.2.0",
      "_view_name": "StyleView",
      "bar_color": null,
      "description_width": ""
     }
    },
    "6e966c64d9414852b62236856fc95bd5": {
     "model_module": "@jupyter-widgets/controls",
     "model_module_version": "1.5.0",
     "model_name": "ProgressStyleModel",
     "state": {
      "_model_module": "@jupyter-widgets/controls",
      "_model_module_version": "1.5.0",
      "_model_name": "ProgressStyleModel",
      "_view_count": null,
      "_view_module": "@jupyter-widgets/base",
      "_view_module_version": "1.2.0",
      "_view_name": "StyleView",
      "bar_color": null,
      "description_width": ""
     }
    },
    "6eebb3ff34f040a29080fc29a3910118": {
     "model_module": "@jupyter-widgets/base",
     "model_module_version": "1.2.0",
     "model_name": "LayoutModel",
     "state": {
      "_model_module": "@jupyter-widgets/base",
      "_model_module_version": "1.2.0",
      "_model_name": "LayoutModel",
      "_view_count": null,
      "_view_module": "@jupyter-widgets/base",
      "_view_module_version": "1.2.0",
      "_view_name": "LayoutView",
      "align_content": null,
      "align_items": null,
      "align_self": null,
      "border": null,
      "bottom": null,
      "display": null,
      "flex": null,
      "flex_flow": null,
      "grid_area": null,
      "grid_auto_columns": null,
      "grid_auto_flow": null,
      "grid_auto_rows": null,
      "grid_column": null,
      "grid_gap": null,
      "grid_row": null,
      "grid_template_areas": null,
      "grid_template_columns": null,
      "grid_template_rows": null,
      "height": null,
      "justify_content": null,
      "justify_items": null,
      "left": null,
      "margin": null,
      "max_height": null,
      "max_width": null,
      "min_height": null,
      "min_width": null,
      "object_fit": null,
      "object_position": null,
      "order": null,
      "overflow": null,
      "overflow_x": null,
      "overflow_y": null,
      "padding": null,
      "right": null,
      "top": null,
      "visibility": null,
      "width": null
     }
    },
    "76555a48f44649d896916d65cbff62d1": {
     "model_module": "@jupyter-widgets/controls",
     "model_module_version": "1.5.0",
     "model_name": "ProgressStyleModel",
     "state": {
      "_model_module": "@jupyter-widgets/controls",
      "_model_module_version": "1.5.0",
      "_model_name": "ProgressStyleModel",
      "_view_count": null,
      "_view_module": "@jupyter-widgets/base",
      "_view_module_version": "1.2.0",
      "_view_name": "StyleView",
      "bar_color": null,
      "description_width": ""
     }
    },
    "86532961100e4a83ab652d9b64888391": {
     "model_module": "@jupyter-widgets/base",
     "model_module_version": "1.2.0",
     "model_name": "LayoutModel",
     "state": {
      "_model_module": "@jupyter-widgets/base",
      "_model_module_version": "1.2.0",
      "_model_name": "LayoutModel",
      "_view_count": null,
      "_view_module": "@jupyter-widgets/base",
      "_view_module_version": "1.2.0",
      "_view_name": "LayoutView",
      "align_content": null,
      "align_items": null,
      "align_self": null,
      "border": null,
      "bottom": null,
      "display": null,
      "flex": null,
      "flex_flow": null,
      "grid_area": null,
      "grid_auto_columns": null,
      "grid_auto_flow": null,
      "grid_auto_rows": null,
      "grid_column": null,
      "grid_gap": null,
      "grid_row": null,
      "grid_template_areas": null,
      "grid_template_columns": null,
      "grid_template_rows": null,
      "height": null,
      "justify_content": null,
      "justify_items": null,
      "left": null,
      "margin": null,
      "max_height": null,
      "max_width": null,
      "min_height": null,
      "min_width": null,
      "object_fit": null,
      "object_position": null,
      "order": null,
      "overflow": null,
      "overflow_x": null,
      "overflow_y": null,
      "padding": null,
      "right": null,
      "top": null,
      "visibility": null,
      "width": null
     }
    },
    "881e159abf1e485cb67927b6b8665892": {
     "model_module": "@jupyter-widgets/controls",
     "model_module_version": "1.5.0",
     "model_name": "DescriptionStyleModel",
     "state": {
      "_model_module": "@jupyter-widgets/controls",
      "_model_module_version": "1.5.0",
      "_model_name": "DescriptionStyleModel",
      "_view_count": null,
      "_view_module": "@jupyter-widgets/base",
      "_view_module_version": "1.2.0",
      "_view_name": "StyleView",
      "description_width": ""
     }
    },
    "8d6dfc5ec4cf485b9df71751e577fc07": {
     "model_module": "@jupyter-widgets/base",
     "model_module_version": "1.2.0",
     "model_name": "LayoutModel",
     "state": {
      "_model_module": "@jupyter-widgets/base",
      "_model_module_version": "1.2.0",
      "_model_name": "LayoutModel",
      "_view_count": null,
      "_view_module": "@jupyter-widgets/base",
      "_view_module_version": "1.2.0",
      "_view_name": "LayoutView",
      "align_content": null,
      "align_items": null,
      "align_self": null,
      "border": null,
      "bottom": null,
      "display": null,
      "flex": null,
      "flex_flow": null,
      "grid_area": null,
      "grid_auto_columns": null,
      "grid_auto_flow": null,
      "grid_auto_rows": null,
      "grid_column": null,
      "grid_gap": null,
      "grid_row": null,
      "grid_template_areas": null,
      "grid_template_columns": null,
      "grid_template_rows": null,
      "height": null,
      "justify_content": null,
      "justify_items": null,
      "left": null,
      "margin": null,
      "max_height": null,
      "max_width": null,
      "min_height": null,
      "min_width": null,
      "object_fit": null,
      "object_position": null,
      "order": null,
      "overflow": null,
      "overflow_x": null,
      "overflow_y": null,
      "padding": null,
      "right": null,
      "top": null,
      "visibility": null,
      "width": null
     }
    },
    "8e7b72a8458b4c73bea9b1cf749ca3a7": {
     "model_module": "@jupyter-widgets/base",
     "model_module_version": "1.2.0",
     "model_name": "LayoutModel",
     "state": {
      "_model_module": "@jupyter-widgets/base",
      "_model_module_version": "1.2.0",
      "_model_name": "LayoutModel",
      "_view_count": null,
      "_view_module": "@jupyter-widgets/base",
      "_view_module_version": "1.2.0",
      "_view_name": "LayoutView",
      "align_content": null,
      "align_items": null,
      "align_self": null,
      "border": null,
      "bottom": null,
      "display": null,
      "flex": null,
      "flex_flow": null,
      "grid_area": null,
      "grid_auto_columns": null,
      "grid_auto_flow": null,
      "grid_auto_rows": null,
      "grid_column": null,
      "grid_gap": null,
      "grid_row": null,
      "grid_template_areas": null,
      "grid_template_columns": null,
      "grid_template_rows": null,
      "height": null,
      "justify_content": null,
      "justify_items": null,
      "left": null,
      "margin": null,
      "max_height": null,
      "max_width": null,
      "min_height": null,
      "min_width": null,
      "object_fit": null,
      "object_position": null,
      "order": null,
      "overflow": null,
      "overflow_x": null,
      "overflow_y": null,
      "padding": null,
      "right": null,
      "top": null,
      "visibility": null,
      "width": null
     }
    },
    "912de3294380433085085f7290015519": {
     "model_module": "@jupyter-widgets/controls",
     "model_module_version": "1.5.0",
     "model_name": "HBoxModel",
     "state": {
      "_dom_classes": [],
      "_model_module": "@jupyter-widgets/controls",
      "_model_module_version": "1.5.0",
      "_model_name": "HBoxModel",
      "_view_count": null,
      "_view_module": "@jupyter-widgets/controls",
      "_view_module_version": "1.5.0",
      "_view_name": "HBoxView",
      "box_style": "",
      "children": [
       "IPY_MODEL_3320b37fd78a478ca59c168e3a9a838f",
       "IPY_MODEL_35362693bb584089afa14d21a773a788",
       "IPY_MODEL_686167b69b5f44b992a71306ea1efa50"
      ],
      "layout": "IPY_MODEL_687c7714314147a9b4878f284019b9c0"
     }
    },
    "920670b9295049078248c82fd782784d": {
     "model_module": "@jupyter-widgets/base",
     "model_module_version": "1.2.0",
     "model_name": "LayoutModel",
     "state": {
      "_model_module": "@jupyter-widgets/base",
      "_model_module_version": "1.2.0",
      "_model_name": "LayoutModel",
      "_view_count": null,
      "_view_module": "@jupyter-widgets/base",
      "_view_module_version": "1.2.0",
      "_view_name": "LayoutView",
      "align_content": null,
      "align_items": null,
      "align_self": null,
      "border": null,
      "bottom": null,
      "display": null,
      "flex": null,
      "flex_flow": null,
      "grid_area": null,
      "grid_auto_columns": null,
      "grid_auto_flow": null,
      "grid_auto_rows": null,
      "grid_column": null,
      "grid_gap": null,
      "grid_row": null,
      "grid_template_areas": null,
      "grid_template_columns": null,
      "grid_template_rows": null,
      "height": null,
      "justify_content": null,
      "justify_items": null,
      "left": null,
      "margin": null,
      "max_height": null,
      "max_width": null,
      "min_height": null,
      "min_width": null,
      "object_fit": null,
      "object_position": null,
      "order": null,
      "overflow": null,
      "overflow_x": null,
      "overflow_y": null,
      "padding": null,
      "right": null,
      "top": null,
      "visibility": null,
      "width": null
     }
    },
    "92f7a5235821400db52e1c822a4fd8dd": {
     "model_module": "@jupyter-widgets/controls",
     "model_module_version": "1.5.0",
     "model_name": "DescriptionStyleModel",
     "state": {
      "_model_module": "@jupyter-widgets/controls",
      "_model_module_version": "1.5.0",
      "_model_name": "DescriptionStyleModel",
      "_view_count": null,
      "_view_module": "@jupyter-widgets/base",
      "_view_module_version": "1.2.0",
      "_view_name": "StyleView",
      "description_width": ""
     }
    },
    "98c3412d7f9f4cb88bbd649d03d8dd01": {
     "model_module": "@jupyter-widgets/base",
     "model_module_version": "1.2.0",
     "model_name": "LayoutModel",
     "state": {
      "_model_module": "@jupyter-widgets/base",
      "_model_module_version": "1.2.0",
      "_model_name": "LayoutModel",
      "_view_count": null,
      "_view_module": "@jupyter-widgets/base",
      "_view_module_version": "1.2.0",
      "_view_name": "LayoutView",
      "align_content": null,
      "align_items": null,
      "align_self": null,
      "border": null,
      "bottom": null,
      "display": null,
      "flex": null,
      "flex_flow": null,
      "grid_area": null,
      "grid_auto_columns": null,
      "grid_auto_flow": null,
      "grid_auto_rows": null,
      "grid_column": null,
      "grid_gap": null,
      "grid_row": null,
      "grid_template_areas": null,
      "grid_template_columns": null,
      "grid_template_rows": null,
      "height": null,
      "justify_content": null,
      "justify_items": null,
      "left": null,
      "margin": null,
      "max_height": null,
      "max_width": null,
      "min_height": null,
      "min_width": null,
      "object_fit": null,
      "object_position": null,
      "order": null,
      "overflow": null,
      "overflow_x": null,
      "overflow_y": null,
      "padding": null,
      "right": null,
      "top": null,
      "visibility": null,
      "width": null
     }
    },
    "9a33756299c0460a9010d5f914c0408f": {
     "model_module": "@jupyter-widgets/base",
     "model_module_version": "1.2.0",
     "model_name": "LayoutModel",
     "state": {
      "_model_module": "@jupyter-widgets/base",
      "_model_module_version": "1.2.0",
      "_model_name": "LayoutModel",
      "_view_count": null,
      "_view_module": "@jupyter-widgets/base",
      "_view_module_version": "1.2.0",
      "_view_name": "LayoutView",
      "align_content": null,
      "align_items": null,
      "align_self": null,
      "border": null,
      "bottom": null,
      "display": null,
      "flex": null,
      "flex_flow": null,
      "grid_area": null,
      "grid_auto_columns": null,
      "grid_auto_flow": null,
      "grid_auto_rows": null,
      "grid_column": null,
      "grid_gap": null,
      "grid_row": null,
      "grid_template_areas": null,
      "grid_template_columns": null,
      "grid_template_rows": null,
      "height": null,
      "justify_content": null,
      "justify_items": null,
      "left": null,
      "margin": null,
      "max_height": null,
      "max_width": null,
      "min_height": null,
      "min_width": null,
      "object_fit": null,
      "object_position": null,
      "order": null,
      "overflow": null,
      "overflow_x": null,
      "overflow_y": null,
      "padding": null,
      "right": null,
      "top": null,
      "visibility": null,
      "width": null
     }
    },
    "9a3f09ddbc4b4cec962b04cd5a72980f": {
     "model_module": "@jupyter-widgets/controls",
     "model_module_version": "1.5.0",
     "model_name": "FloatProgressModel",
     "state": {
      "_dom_classes": [],
      "_model_module": "@jupyter-widgets/controls",
      "_model_module_version": "1.5.0",
      "_model_name": "FloatProgressModel",
      "_view_count": null,
      "_view_module": "@jupyter-widgets/controls",
      "_view_module_version": "1.5.0",
      "_view_name": "ProgressView",
      "bar_style": "success",
      "description": "",
      "description_tooltip": null,
      "layout": "IPY_MODEL_c2f6de11c2dc421c9c50c6c29f4ec0a7",
      "max": 4542,
      "min": 0,
      "orientation": "horizontal",
      "style": "IPY_MODEL_534735fdb88a4c7c9909e973efbfab69",
      "value": 4542
     }
    },
    "a61f3735c0894455a75c0267183b249c": {
     "model_module": "@jupyter-widgets/base",
     "model_module_version": "1.2.0",
     "model_name": "LayoutModel",
     "state": {
      "_model_module": "@jupyter-widgets/base",
      "_model_module_version": "1.2.0",
      "_model_name": "LayoutModel",
      "_view_count": null,
      "_view_module": "@jupyter-widgets/base",
      "_view_module_version": "1.2.0",
      "_view_name": "LayoutView",
      "align_content": null,
      "align_items": null,
      "align_self": null,
      "border": null,
      "bottom": null,
      "display": null,
      "flex": null,
      "flex_flow": null,
      "grid_area": null,
      "grid_auto_columns": null,
      "grid_auto_flow": null,
      "grid_auto_rows": null,
      "grid_column": null,
      "grid_gap": null,
      "grid_row": null,
      "grid_template_areas": null,
      "grid_template_columns": null,
      "grid_template_rows": null,
      "height": null,
      "justify_content": null,
      "justify_items": null,
      "left": null,
      "margin": null,
      "max_height": null,
      "max_width": null,
      "min_height": null,
      "min_width": null,
      "object_fit": null,
      "object_position": null,
      "order": null,
      "overflow": null,
      "overflow_x": null,
      "overflow_y": null,
      "padding": null,
      "right": null,
      "top": null,
      "visibility": null,
      "width": null
     }
    },
    "a6f7d75e6bdd43a79b486a9f502dbafe": {
     "model_module": "@jupyter-widgets/controls",
     "model_module_version": "1.5.0",
     "model_name": "DescriptionStyleModel",
     "state": {
      "_model_module": "@jupyter-widgets/controls",
      "_model_module_version": "1.5.0",
      "_model_name": "DescriptionStyleModel",
      "_view_count": null,
      "_view_module": "@jupyter-widgets/base",
      "_view_module_version": "1.2.0",
      "_view_name": "StyleView",
      "description_width": ""
     }
    },
    "abc73ccb223a4381a2921fc0d64c152f": {
     "model_module": "@jupyter-widgets/controls",
     "model_module_version": "1.5.0",
     "model_name": "HTMLModel",
     "state": {
      "_dom_classes": [],
      "_model_module": "@jupyter-widgets/controls",
      "_model_module_version": "1.5.0",
      "_model_name": "HTMLModel",
      "_view_count": null,
      "_view_module": "@jupyter-widgets/controls",
      "_view_module_version": "1.5.0",
      "_view_name": "HTMLView",
      "description": "",
      "description_tooltip": null,
      "layout": "IPY_MODEL_0d4efe6749244ca7bcd9697a6ae9c527",
      "placeholder": "​",
      "style": "IPY_MODEL_3467b6ded9e34367bc6c7e6bf971a6f9",
      "value": "100%"
     }
    },
    "aeaf8635e54b4ce3b70c29a942289dd9": {
     "model_module": "@jupyter-widgets/controls",
     "model_module_version": "1.5.0",
     "model_name": "HBoxModel",
     "state": {
      "_dom_classes": [],
      "_model_module": "@jupyter-widgets/controls",
      "_model_module_version": "1.5.0",
      "_model_name": "HBoxModel",
      "_view_count": null,
      "_view_module": "@jupyter-widgets/controls",
      "_view_module_version": "1.5.0",
      "_view_name": "HBoxView",
      "box_style": "",
      "children": [
       "IPY_MODEL_d3c3238c932547fbb96e72e7238c7077",
       "IPY_MODEL_66865124e5ad4a1990a2a6c8a8f7f09d",
       "IPY_MODEL_3b05188ea0ed4196b143d72a17dcac72"
      ],
      "layout": "IPY_MODEL_23991f66b831436398ad00f46ac7e7ed"
     }
    },
    "b2c3dcb974da4f01bbdbb066319d3881": {
     "model_module": "@jupyter-widgets/controls",
     "model_module_version": "1.5.0",
     "model_name": "DescriptionStyleModel",
     "state": {
      "_model_module": "@jupyter-widgets/controls",
      "_model_module_version": "1.5.0",
      "_model_name": "DescriptionStyleModel",
      "_view_count": null,
      "_view_module": "@jupyter-widgets/base",
      "_view_module_version": "1.2.0",
      "_view_name": "StyleView",
      "description_width": ""
     }
    },
    "b3e29e16550b443db893e93ddb899d0b": {
     "model_module": "@jupyter-widgets/controls",
     "model_module_version": "1.5.0",
     "model_name": "HTMLModel",
     "state": {
      "_dom_classes": [],
      "_model_module": "@jupyter-widgets/controls",
      "_model_module_version": "1.5.0",
      "_model_name": "HTMLModel",
      "_view_count": null,
      "_view_module": "@jupyter-widgets/controls",
      "_view_module_version": "1.5.0",
      "_view_name": "HTMLView",
      "description": "",
      "description_tooltip": null,
      "layout": "IPY_MODEL_9a33756299c0460a9010d5f914c0408f",
      "placeholder": "​",
      "style": "IPY_MODEL_2b1885d733ff4a94a2988da51926ee63",
      "value": " 233M/233M [00:04&lt;00:00, 42.4MB/s]"
     }
    },
    "b542db60bf6d4397bd967af63c5e80b2": {
     "model_module": "@jupyter-widgets/controls",
     "model_module_version": "1.5.0",
     "model_name": "HBoxModel",
     "state": {
      "_dom_classes": [],
      "_model_module": "@jupyter-widgets/controls",
      "_model_module_version": "1.5.0",
      "_model_name": "HBoxModel",
      "_view_count": null,
      "_view_module": "@jupyter-widgets/controls",
      "_view_module_version": "1.5.0",
      "_view_name": "HBoxView",
      "box_style": "",
      "children": [
       "IPY_MODEL_cf8dd75e83e845a3b7d5b7235708fd7c",
       "IPY_MODEL_f024ad87ca9247b79e3d9486d1c80d65",
       "IPY_MODEL_387a7bb74d5642b89479a4da97e0371b"
      ],
      "layout": "IPY_MODEL_12afe002d233414cb42b876296439190"
     }
    },
    "b8c2508b3f974c3aa265d3f6ec55bba5": {
     "model_module": "@jupyter-widgets/controls",
     "model_module_version": "1.5.0",
     "model_name": "ProgressStyleModel",
     "state": {
      "_model_module": "@jupyter-widgets/controls",
      "_model_module_version": "1.5.0",
      "_model_name": "ProgressStyleModel",
      "_view_count": null,
      "_view_module": "@jupyter-widgets/base",
      "_view_module_version": "1.2.0",
      "_view_name": "StyleView",
      "bar_color": null,
      "description_width": ""
     }
    },
    "b985b52e03ba487c9e564f7c685954b8": {
     "model_module": "@jupyter-widgets/controls",
     "model_module_version": "1.5.0",
     "model_name": "HBoxModel",
     "state": {
      "_dom_classes": [],
      "_model_module": "@jupyter-widgets/controls",
      "_model_module_version": "1.5.0",
      "_model_name": "HBoxModel",
      "_view_count": null,
      "_view_module": "@jupyter-widgets/controls",
      "_view_module_version": "1.5.0",
      "_view_name": "HBoxView",
      "box_style": "",
      "children": [
       "IPY_MODEL_54dc1e64ed184079b92e9341433636ba",
       "IPY_MODEL_32a837ce601647b6bf352795b2dc8fcd",
       "IPY_MODEL_1a91d3a8d9924e049a06a4c23cf53d04"
      ],
      "layout": "IPY_MODEL_290221307fcf4ea1a2a7b13234e4dfcf"
     }
    },
    "c26c3efd4c3b4bb19371de6a468859b4": {
     "model_module": "@jupyter-widgets/controls",
     "model_module_version": "1.5.0",
     "model_name": "HBoxModel",
     "state": {
      "_dom_classes": [],
      "_model_module": "@jupyter-widgets/controls",
      "_model_module_version": "1.5.0",
      "_model_name": "HBoxModel",
      "_view_count": null,
      "_view_module": "@jupyter-widgets/controls",
      "_view_module_version": "1.5.0",
      "_view_name": "HBoxView",
      "box_style": "",
      "children": [
       "IPY_MODEL_abc73ccb223a4381a2921fc0d64c152f",
       "IPY_MODEL_9a3f09ddbc4b4cec962b04cd5a72980f",
       "IPY_MODEL_f9b88a74a18b4dacbb542b832f18b066"
      ],
      "layout": "IPY_MODEL_86532961100e4a83ab652d9b64888391"
     }
    },
    "c2f6de11c2dc421c9c50c6c29f4ec0a7": {
     "model_module": "@jupyter-widgets/base",
     "model_module_version": "1.2.0",
     "model_name": "LayoutModel",
     "state": {
      "_model_module": "@jupyter-widgets/base",
      "_model_module_version": "1.2.0",
      "_model_name": "LayoutModel",
      "_view_count": null,
      "_view_module": "@jupyter-widgets/base",
      "_view_module_version": "1.2.0",
      "_view_name": "LayoutView",
      "align_content": null,
      "align_items": null,
      "align_self": null,
      "border": null,
      "bottom": null,
      "display": null,
      "flex": null,
      "flex_flow": null,
      "grid_area": null,
      "grid_auto_columns": null,
      "grid_auto_flow": null,
      "grid_auto_rows": null,
      "grid_column": null,
      "grid_gap": null,
      "grid_row": null,
      "grid_template_areas": null,
      "grid_template_columns": null,
      "grid_template_rows": null,
      "height": null,
      "justify_content": null,
      "justify_items": null,
      "left": null,
      "margin": null,
      "max_height": null,
      "max_width": null,
      "min_height": null,
      "min_width": null,
      "object_fit": null,
      "object_position": null,
      "order": null,
      "overflow": null,
      "overflow_x": null,
      "overflow_y": null,
      "padding": null,
      "right": null,
      "top": null,
      "visibility": null,
      "width": null
     }
    },
    "c8ea174ca1c04b9cba58e53813d4fc17": {
     "model_module": "@jupyter-widgets/controls",
     "model_module_version": "1.5.0",
     "model_name": "DescriptionStyleModel",
     "state": {
      "_model_module": "@jupyter-widgets/controls",
      "_model_module_version": "1.5.0",
      "_model_name": "DescriptionStyleModel",
      "_view_count": null,
      "_view_module": "@jupyter-widgets/base",
      "_view_module_version": "1.2.0",
      "_view_name": "StyleView",
      "description_width": ""
     }
    },
    "ca9feec50d634e659d8de6c9b264ead4": {
     "model_module": "@jupyter-widgets/base",
     "model_module_version": "1.2.0",
     "model_name": "LayoutModel",
     "state": {
      "_model_module": "@jupyter-widgets/base",
      "_model_module_version": "1.2.0",
      "_model_name": "LayoutModel",
      "_view_count": null,
      "_view_module": "@jupyter-widgets/base",
      "_view_module_version": "1.2.0",
      "_view_name": "LayoutView",
      "align_content": null,
      "align_items": null,
      "align_self": null,
      "border": null,
      "bottom": null,
      "display": null,
      "flex": null,
      "flex_flow": null,
      "grid_area": null,
      "grid_auto_columns": null,
      "grid_auto_flow": null,
      "grid_auto_rows": null,
      "grid_column": null,
      "grid_gap": null,
      "grid_row": null,
      "grid_template_areas": null,
      "grid_template_columns": null,
      "grid_template_rows": null,
      "height": null,
      "justify_content": null,
      "justify_items": null,
      "left": null,
      "margin": null,
      "max_height": null,
      "max_width": null,
      "min_height": null,
      "min_width": null,
      "object_fit": null,
      "object_position": null,
      "order": null,
      "overflow": null,
      "overflow_x": null,
      "overflow_y": null,
      "padding": null,
      "right": null,
      "top": null,
      "visibility": null,
      "width": null
     }
    },
    "cab6859d00ef4588a9010e32b1e88a33": {
     "model_module": "@jupyter-widgets/controls",
     "model_module_version": "1.5.0",
     "model_name": "DescriptionStyleModel",
     "state": {
      "_model_module": "@jupyter-widgets/controls",
      "_model_module_version": "1.5.0",
      "_model_name": "DescriptionStyleModel",
      "_view_count": null,
      "_view_module": "@jupyter-widgets/base",
      "_view_module_version": "1.2.0",
      "_view_name": "StyleView",
      "description_width": ""
     }
    },
    "cd2d5f5ec90042eaafe435d2807cc117": {
     "model_module": "@jupyter-widgets/base",
     "model_module_version": "1.2.0",
     "model_name": "LayoutModel",
     "state": {
      "_model_module": "@jupyter-widgets/base",
      "_model_module_version": "1.2.0",
      "_model_name": "LayoutModel",
      "_view_count": null,
      "_view_module": "@jupyter-widgets/base",
      "_view_module_version": "1.2.0",
      "_view_name": "LayoutView",
      "align_content": null,
      "align_items": null,
      "align_self": null,
      "border": null,
      "bottom": null,
      "display": null,
      "flex": null,
      "flex_flow": null,
      "grid_area": null,
      "grid_auto_columns": null,
      "grid_auto_flow": null,
      "grid_auto_rows": null,
      "grid_column": null,
      "grid_gap": null,
      "grid_row": null,
      "grid_template_areas": null,
      "grid_template_columns": null,
      "grid_template_rows": null,
      "height": null,
      "justify_content": null,
      "justify_items": null,
      "left": null,
      "margin": null,
      "max_height": null,
      "max_width": null,
      "min_height": null,
      "min_width": null,
      "object_fit": null,
      "object_position": null,
      "order": null,
      "overflow": null,
      "overflow_x": null,
      "overflow_y": null,
      "padding": null,
      "right": null,
      "top": null,
      "visibility": null,
      "width": null
     }
    },
    "cf8dd75e83e845a3b7d5b7235708fd7c": {
     "model_module": "@jupyter-widgets/controls",
     "model_module_version": "1.5.0",
     "model_name": "HTMLModel",
     "state": {
      "_dom_classes": [],
      "_model_module": "@jupyter-widgets/controls",
      "_model_module_version": "1.5.0",
      "_model_name": "HTMLModel",
      "_view_count": null,
      "_view_module": "@jupyter-widgets/controls",
      "_view_module_version": "1.5.0",
      "_view_name": "HTMLView",
      "description": "",
      "description_tooltip": null,
      "layout": "IPY_MODEL_230f3ed598e0478db8a87640e5af9fd5",
      "placeholder": "​",
      "style": "IPY_MODEL_da4bf234954144a4bc0678cf31dd52ae",
      "value": "100%"
     }
    },
    "d3c3238c932547fbb96e72e7238c7077": {
     "model_module": "@jupyter-widgets/controls",
     "model_module_version": "1.5.0",
     "model_name": "HTMLModel",
     "state": {
      "_dom_classes": [],
      "_model_module": "@jupyter-widgets/controls",
      "_model_module_version": "1.5.0",
      "_model_name": "HTMLModel",
      "_view_count": null,
      "_view_module": "@jupyter-widgets/controls",
      "_view_module_version": "1.5.0",
      "_view_name": "HTMLView",
      "description": "",
      "description_tooltip": null,
      "layout": "IPY_MODEL_4b646d149c4d4f9c868e4ca45223adc6",
      "placeholder": "​",
      "style": "IPY_MODEL_b2c3dcb974da4f01bbdbb066319d3881",
      "value": "100%"
     }
    },
    "da4bf234954144a4bc0678cf31dd52ae": {
     "model_module": "@jupyter-widgets/controls",
     "model_module_version": "1.5.0",
     "model_name": "DescriptionStyleModel",
     "state": {
      "_model_module": "@jupyter-widgets/controls",
      "_model_module_version": "1.5.0",
      "_model_name": "DescriptionStyleModel",
      "_view_count": null,
      "_view_module": "@jupyter-widgets/base",
      "_view_module_version": "1.2.0",
      "_view_name": "StyleView",
      "description_width": ""
     }
    },
    "da83689a331b4bb2a1fedb3d14cf5029": {
     "model_module": "@jupyter-widgets/controls",
     "model_module_version": "1.5.0",
     "model_name": "ProgressStyleModel",
     "state": {
      "_model_module": "@jupyter-widgets/controls",
      "_model_module_version": "1.5.0",
      "_model_name": "ProgressStyleModel",
      "_view_count": null,
      "_view_module": "@jupyter-widgets/base",
      "_view_module_version": "1.2.0",
      "_view_name": "StyleView",
      "bar_color": null,
      "description_width": ""
     }
    },
    "dfda102e9c01446a947f77c7e3899980": {
     "model_module": "@jupyter-widgets/base",
     "model_module_version": "1.2.0",
     "model_name": "LayoutModel",
     "state": {
      "_model_module": "@jupyter-widgets/base",
      "_model_module_version": "1.2.0",
      "_model_name": "LayoutModel",
      "_view_count": null,
      "_view_module": "@jupyter-widgets/base",
      "_view_module_version": "1.2.0",
      "_view_name": "LayoutView",
      "align_content": null,
      "align_items": null,
      "align_self": null,
      "border": null,
      "bottom": null,
      "display": null,
      "flex": null,
      "flex_flow": null,
      "grid_area": null,
      "grid_auto_columns": null,
      "grid_auto_flow": null,
      "grid_auto_rows": null,
      "grid_column": null,
      "grid_gap": null,
      "grid_row": null,
      "grid_template_areas": null,
      "grid_template_columns": null,
      "grid_template_rows": null,
      "height": null,
      "justify_content": null,
      "justify_items": null,
      "left": null,
      "margin": null,
      "max_height": null,
      "max_width": null,
      "min_height": null,
      "min_width": null,
      "object_fit": null,
      "object_position": null,
      "order": null,
      "overflow": null,
      "overflow_x": null,
      "overflow_y": null,
      "padding": null,
      "right": null,
      "top": null,
      "visibility": null,
      "width": null
     }
    },
    "e0c1e1660f604577b241f233714b4cb3": {
     "model_module": "@jupyter-widgets/base",
     "model_module_version": "1.2.0",
     "model_name": "LayoutModel",
     "state": {
      "_model_module": "@jupyter-widgets/base",
      "_model_module_version": "1.2.0",
      "_model_name": "LayoutModel",
      "_view_count": null,
      "_view_module": "@jupyter-widgets/base",
      "_view_module_version": "1.2.0",
      "_view_name": "LayoutView",
      "align_content": null,
      "align_items": null,
      "align_self": null,
      "border": null,
      "bottom": null,
      "display": null,
      "flex": null,
      "flex_flow": null,
      "grid_area": null,
      "grid_auto_columns": null,
      "grid_auto_flow": null,
      "grid_auto_rows": null,
      "grid_column": null,
      "grid_gap": null,
      "grid_row": null,
      "grid_template_areas": null,
      "grid_template_columns": null,
      "grid_template_rows": null,
      "height": null,
      "justify_content": null,
      "justify_items": null,
      "left": null,
      "margin": null,
      "max_height": null,
      "max_width": null,
      "min_height": null,
      "min_width": null,
      "object_fit": null,
      "object_position": null,
      "order": null,
      "overflow": null,
      "overflow_x": null,
      "overflow_y": null,
      "padding": null,
      "right": null,
      "top": null,
      "visibility": null,
      "width": null
     }
    },
    "e10fcdd217144841bb2394e98c5c23a7": {
     "model_module": "@jupyter-widgets/controls",
     "model_module_version": "1.5.0",
     "model_name": "DescriptionStyleModel",
     "state": {
      "_model_module": "@jupyter-widgets/controls",
      "_model_module_version": "1.5.0",
      "_model_name": "DescriptionStyleModel",
      "_view_count": null,
      "_view_module": "@jupyter-widgets/base",
      "_view_module_version": "1.2.0",
      "_view_name": "StyleView",
      "description_width": ""
     }
    },
    "f024ad87ca9247b79e3d9486d1c80d65": {
     "model_module": "@jupyter-widgets/controls",
     "model_module_version": "1.5.0",
     "model_name": "FloatProgressModel",
     "state": {
      "_dom_classes": [],
      "_model_module": "@jupyter-widgets/controls",
      "_model_module_version": "1.5.0",
      "_model_name": "FloatProgressModel",
      "_view_count": null,
      "_view_module": "@jupyter-widgets/controls",
      "_view_module_version": "1.5.0",
      "_view_name": "ProgressView",
      "bar_style": "success",
      "description": "",
      "description_tooltip": null,
      "layout": "IPY_MODEL_3347c33b8bf54364948ef2e6d99131ae",
      "max": 28881,
      "min": 0,
      "orientation": "horizontal",
      "style": "IPY_MODEL_f6cff2740b144bb98ab363d0e00a5fc3",
      "value": 28881
     }
    },
    "f6cff2740b144bb98ab363d0e00a5fc3": {
     "model_module": "@jupyter-widgets/controls",
     "model_module_version": "1.5.0",
     "model_name": "ProgressStyleModel",
     "state": {
      "_model_module": "@jupyter-widgets/controls",
      "_model_module_version": "1.5.0",
      "_model_name": "ProgressStyleModel",
      "_view_count": null,
      "_view_module": "@jupyter-widgets/base",
      "_view_module_version": "1.2.0",
      "_view_name": "StyleView",
      "bar_color": null,
      "description_width": ""
     }
    },
    "f9b88a74a18b4dacbb542b832f18b066": {
     "model_module": "@jupyter-widgets/controls",
     "model_module_version": "1.5.0",
     "model_name": "HTMLModel",
     "state": {
      "_dom_classes": [],
      "_model_module": "@jupyter-widgets/controls",
      "_model_module_version": "1.5.0",
      "_model_name": "HTMLModel",
      "_view_count": null,
      "_view_module": "@jupyter-widgets/controls",
      "_view_module_version": "1.5.0",
      "_view_name": "HTMLView",
      "description": "",
      "description_tooltip": null,
      "layout": "IPY_MODEL_1a8127b3e3ab4f87a1c79fb2460b11d4",
      "placeholder": "​",
      "style": "IPY_MODEL_6798775d67114475956e92dd1128fc64",
      "value": " 4542/4542 [00:00&lt;00:00, 43457.05it/s]"
     }
    },
    "fd46048ffe2d4e9884a30eadc53d9784": {
     "model_module": "@jupyter-widgets/controls",
     "model_module_version": "1.5.0",
     "model_name": "HBoxModel",
     "state": {
      "_dom_classes": [],
      "_model_module": "@jupyter-widgets/controls",
      "_model_module_version": "1.5.0",
      "_model_name": "HBoxModel",
      "_view_count": null,
      "_view_module": "@jupyter-widgets/controls",
      "_view_module_version": "1.5.0",
      "_view_name": "HBoxView",
      "box_style": "",
      "children": [
       "IPY_MODEL_1af377b682f743138dc2db4b3fa2b28c",
       "IPY_MODEL_0b9be918ac9f4c54a5840c29dba390a3",
       "IPY_MODEL_56f40ec283d545bbbb210f77d85a9242"
      ],
      "layout": "IPY_MODEL_10875989acf44aa8978f9548b38dd204"
     }
    },
    "fdb124a8f663412596ab9412ddbc400d": {
     "model_module": "@jupyter-widgets/base",
     "model_module_version": "1.2.0",
     "model_name": "LayoutModel",
     "state": {
      "_model_module": "@jupyter-widgets/base",
      "_model_module_version": "1.2.0",
      "_model_name": "LayoutModel",
      "_view_count": null,
      "_view_module": "@jupyter-widgets/base",
      "_view_module_version": "1.2.0",
      "_view_name": "LayoutView",
      "align_content": null,
      "align_items": null,
      "align_self": null,
      "border": null,
      "bottom": null,
      "display": null,
      "flex": null,
      "flex_flow": null,
      "grid_area": null,
      "grid_auto_columns": null,
      "grid_auto_flow": null,
      "grid_auto_rows": null,
      "grid_column": null,
      "grid_gap": null,
      "grid_row": null,
      "grid_template_areas": null,
      "grid_template_columns": null,
      "grid_template_rows": null,
      "height": null,
      "justify_content": null,
      "justify_items": null,
      "left": null,
      "margin": null,
      "max_height": null,
      "max_width": null,
      "min_height": null,
      "min_width": null,
      "object_fit": null,
      "object_position": null,
      "order": null,
      "overflow": null,
      "overflow_x": null,
      "overflow_y": null,
      "padding": null,
      "right": null,
      "top": null,
      "visibility": null,
      "width": null
     }
    }
   }
  }
 },
 "nbformat": 4,
 "nbformat_minor": 1
}

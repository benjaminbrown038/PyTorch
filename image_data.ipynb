{
  "nbformat": 4,
  "nbformat_minor": 0,
  "metadata": {
    "colab": {
      "provenance": [],
      "authorship_tag": "ABX9TyPyL2sxOmIQHiMPRs3icc9W",
      "include_colab_link": true
    },
    "kernelspec": {
      "name": "python3",
      "display_name": "Python 3"
    },
    "language_info": {
      "name": "python"
    }
  },
  "cells": [
    {
      "cell_type": "markdown",
      "metadata": {
        "id": "view-in-github",
        "colab_type": "text"
      },
      "source": [
        "<a href=\"https://colab.research.google.com/github/benjaminbrown038/PyTorch/blob/main/image_data.ipynb\" target=\"_parent\"><img src=\"https://colab.research.google.com/assets/colab-badge.svg\" alt=\"Open In Colab\"/></a>"
      ]
    },
    {
      "cell_type": "code",
      "execution_count": null,
      "metadata": {
        "id": "MKn-_wIWhGOi"
      },
      "outputs": [],
      "source": [
        "%%capture\n",
        "from torch.utils.data import DataLoader\n",
        "\n",
        "\n",
        "mnist_train = torchvision.datasets.MNIST(root = '/data', download = True,train = True,transform = transforms.ToTensor())\n",
        "mnist_test = torchvision.datasets.MNIST(root = '/data', download = True, train = False, transform = transforms.ToTensor())\n",
        "\n",
        "mnist_train_dataloader = DataLoader(mnist_train,batch_size = 64,shuffle = True)\n",
        "mnist_test_dataloader = DataLoader(mnist_test,batch_size = 64, shuffle = True)\n",
        "\n",
        "\n",
        "mnist_train1 = torchvision.datasets.MNIST(root = '/data', download = True,train = True,transform = transforms.Compose([transforms.ToTensor(),transforms.Grayscale(3)]))\n",
        "mnist_test1 = torchvision.datasets.MNIST(root = '/data', download = True, train = False, transform = transforms.Compose([transforms.ToTensor(),transforms.Grayscale(3)]))\n",
        "\n",
        "mnist_train_dataloader1 = DataLoader(mnist_train,batch_size = 64,shuffle = True)\n",
        "mnist_test_dataloader1 = DataLoader(mnist_test,batch_size = 64, shuffle = True)\n",
        "\n",
        "\n",
        "cifar_train = torchvision.datasets.MNIST(root = '/data', download = True, train = True)\n",
        "cifar_test = torchvision.datasets.MNIST(root = '/data',download = True, train = False)\n",
        "\n",
        "\n",
        "cifar_train_dataloader = DataLoader(mnist_train, batch_size = 64, shuffle = True)\n",
        "cifar_test_dataloader = DataLoader(mnist_test, batch_size = 64, shuffle = True)"
      ]
    },
    {
      "cell_type": "markdown",
      "source": [],
      "metadata": {
        "id": "GFL40eTm45wg"
      }
    },
    {
      "cell_type": "markdown",
      "source": [],
      "metadata": {
        "id": "zGQJc0T045zG"
      }
    },
    {
      "cell_type": "markdown",
      "source": [],
      "metadata": {
        "id": "6hR3dcEg451_"
      }
    },
    {
      "cell_type": "markdown",
      "source": [],
      "metadata": {
        "id": "Dj43Ei-k455F"
      }
    },
    {
      "cell_type": "code",
      "source": [],
      "metadata": {
        "id": "SC99htjO46Bt"
      },
      "execution_count": null,
      "outputs": []
    },
    {
      "cell_type": "markdown",
      "source": [],
      "metadata": {
        "id": "qQEnuVtH46Gb"
      }
    },
    {
      "cell_type": "code",
      "source": [],
      "metadata": {
        "id": "91kudgau46LU"
      },
      "execution_count": null,
      "outputs": []
    },
    {
      "cell_type": "code",
      "source": [],
      "metadata": {
        "id": "W9IU_zAZ46OM"
      },
      "execution_count": null,
      "outputs": []
    },
    {
      "cell_type": "code",
      "source": [],
      "metadata": {
        "id": "5Vq1IkE846Qy"
      },
      "execution_count": null,
      "outputs": []
    },
    {
      "cell_type": "code",
      "source": [],
      "metadata": {
        "id": "iapcUsFh46TY"
      },
      "execution_count": null,
      "outputs": []
    },
    {
      "cell_type": "code",
      "source": [],
      "metadata": {
        "id": "nPIg3pRD46V-"
      },
      "execution_count": null,
      "outputs": []
    },
    {
      "cell_type": "code",
      "source": [],
      "metadata": {
        "id": "g5Ll8tu046Ym"
      },
      "execution_count": null,
      "outputs": []
    },
    {
      "cell_type": "code",
      "source": [],
      "metadata": {
        "id": "As5nC_aJ46a7"
      },
      "execution_count": null,
      "outputs": []
    },
    {
      "cell_type": "code",
      "source": [],
      "metadata": {
        "id": "dmApBRsh46dT"
      },
      "execution_count": null,
      "outputs": []
    },
    {
      "cell_type": "code",
      "source": [],
      "metadata": {
        "id": "uJ9ZCJID46ga"
      },
      "execution_count": null,
      "outputs": []
    }
  ]
}